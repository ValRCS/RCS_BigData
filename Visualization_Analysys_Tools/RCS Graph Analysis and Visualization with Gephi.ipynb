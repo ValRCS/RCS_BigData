{
 "cells": [
  {
   "cell_type": "markdown",
   "metadata": {},
   "source": [
    "# RCS Graph Analysis and Visualization with Gephi"
   ]
  },
  {
   "cell_type": "markdown",
   "metadata": {},
   "source": [
    "![Gephi](Gephi.png)"
   ]
  },
  {
   "cell_type": "markdown",
   "metadata": {},
   "source": [
    "## Gephi\n",
    "\n",
    "https://gephi.org/\n",
    "    \n",
    "   * Leading visualization and exploration software for various graphs and networks. \n",
    "   * open-source(under GPL license) and free."
   ]
  },
  {
   "cell_type": "markdown",
   "metadata": {},
   "source": [
    "## Install\n",
    "https://gephi.org/users/download/"
   ]
  },
  {
   "cell_type": "markdown",
   "metadata": {},
   "source": [
    "## Gephi uses\n",
    "\n",
    "* Exploratory Data Analysis: intuition-oriented analysis by networks manipulations in real time.\n",
    "\n",
    "* Link Analysis: revealing the underlying structures of associations between objects.\n",
    "\n",
    "* Social Network Analysis: easy creation of social data connectors to map community organizations and small-world networks.\n",
    "\n",
    "* Biological Network analysis: representing patterns of biological data.\n",
    "\n",
    "* Poster creation: scientific work promotion with hi-quality printable maps"
   ]
  },
  {
   "cell_type": "markdown",
   "metadata": {},
   "source": [
    "## Metrics\n",
    "* Centrality - node/vertex connectivity\n",
    "* degree(powerlaw), Betweenness, closeness\n",
    "* density\n",
    "* path length\n",
    "* diameter\n",
    "* HITS (https://en.wikipedia.org/wiki/HITS_algorithm)\n",
    "* modularity\n",
    "* clustering coefficients"
   ]
  },
  {
   "cell_type": "markdown",
   "metadata": {},
   "source": [
    "## Supported File formats\n",
    "\n",
    "*  GDF (GUESS), GraphML (NodeXL), GML, NET (Pajek), GEXF(https://gephi.org/users/supported-graph-formats/)"
   ]
  },
  {
   "cell_type": "markdown",
   "metadata": {},
   "source": [
    "### Many plugins for layouts, metrics, data sources, manipulation tools, rendering presets and more."
   ]
  },
  {
   "cell_type": "markdown",
   "metadata": {},
   "source": [
    "## Public repository of various projects related to Gephi\n",
    "https://github.com/gephi/gephi "
   ]
  },
  {
   "cell_type": "markdown",
   "metadata": {},
   "source": [
    "## Tutorials\n",
    "https://seinecle.github.io/gephi-tutorials/ (public repository)\n",
    "\n",
    "https://www.slideshare.net/GraceBenefield/basics-gephi-tutorial (by Facebook UX researcher)\n",
    "\n",
    "Book Publisher Packt - map of its content to Stack Overflow (using Python, Neo4J, Gephi and linurious.js)\n",
    "https://linkurio.us/blog/creating-a-graph-application-with-python-neo4j-gephi-and-linkurious-js/"
   ]
  },
  {
   "cell_type": "code",
   "execution_count": null,
   "metadata": {},
   "outputs": [],
   "source": []
  },
  {
   "cell_type": "markdown",
   "metadata": {},
   "source": [
    "### Keyword Network Analysis with Python and Gephi\n",
    "http://www.pingshiuanchua.com/blog/post/keyword-network-analysis-with-python-and-gephi"
   ]
  },
  {
   "cell_type": "markdown",
   "metadata": {},
   "source": [
    "## Gephi and Python (with Gython )\n",
    "https://github.com/gephi/gephi/wiki/Scripting-Plugin"
   ]
  },
  {
   "cell_type": "markdown",
   "metadata": {},
   "source": [
    "## Installation\n",
    "The Scripting Plugin can be installed through the Gephi's Tools/Plug-ins menu:\n",
    "\n",
    "* Go to the Tools > Plug-ins menu on Gephi's user interface.\n",
    "* Open the Available Plugins tab.\n",
    "* Click the \"Reload Catalog\" button, to make sure you have an up-to-date catalog.\n",
    "* Select the \"Scripting Plugin\" on the list and click the Install button.(about 11MB will require restart of Gephi afterwards)\n",
    "\n",
    "After installation, the plugin can be accessed through the left slide on Gephi's UI (as shown on figure) or through the Window > Console menu."
   ]
  },
  {
   "cell_type": "markdown",
   "metadata": {},
   "source": [
    "## Other plugins \n",
    "https://gephi.org/plugins/#/"
   ]
  },
  {
   "cell_type": "markdown",
   "metadata": {},
   "source": [
    "## Usage\n",
    "Open the Console through the Window menu from Gephi's user interface."
   ]
  },
  {
   "cell_type": "markdown",
   "metadata": {},
   "source": [
    "## Accessing the Graph\n",
    "\n",
    "The main graph object can be accessed through the reserved variable name **g** (or through the alias **graph**). \n",
    "\n",
    "This object has a few methods and attributes. The most important ones are probably the attributes nodes and edges, which are respectively the set of the graph's nodes and edges."
   ]
  },
  {
   "cell_type": "code",
   "execution_count": 3,
   "metadata": {},
   "outputs": [],
   "source": [
    "## in Gephi Console not here!\n",
    "## g.nodes\n",
    "## g.edges\n",
    "# g.isDirected()\n",
    "# g.isUndirected()"
   ]
  },
  {
   "cell_type": "markdown",
   "metadata": {},
   "source": [
    "## Nodes\n",
    "* To access a node from the console, just prefix the node's id with v. If you're unsure of the node's id, you can check the Data Laboratory or just see the entire list of nodes by calling \"g.nodes\" in the console.\n",
    "\n",
    "* The nodes objects (v1, v2, etc) make it very easy to read/write attributes to nodes. For instance, if you have a node attribute column called \"gender\" you can access it directly for both reading and writing, for example:\n",
    "\n",
    "    v42.gender = \"female\"\n",
    "    \n",
    "    v42.gender\n",
    "    \n",
    "\"female\""
   ]
  },
  {
   "cell_type": "markdown",
   "metadata": {},
   "source": [
    "* **The Overview** is used to work interactively with the graph. \n",
    "* **The Data Laboratory** gives you the raw data as a table. \n",
    "* **The Preview** is used to generate beautiful looking versions of the graph. "
   ]
  },
  {
   "cell_type": "markdown",
   "metadata": {},
   "source": [
    "## Gephi and general Visualization cloud based alternatives - do your own research on how long these startups stay in business\n",
    "\n",
    "* https://segment.com/\n",
    "* https://www.klipfolio.com/\n",
    "* https://slemma.com/\n",
    "* https://databox.com/"
   ]
  }
 ],
 "metadata": {
  "kernelspec": {
   "display_name": "Python 3",
   "language": "python",
   "name": "python3"
  },
  "language_info": {
   "codemirror_mode": {
    "name": "ipython",
    "version": 3
   },
   "file_extension": ".py",
   "mimetype": "text/x-python",
   "name": "python",
   "nbconvert_exporter": "python",
   "pygments_lexer": "ipython3",
   "version": "3.6.4"
  }
 },
 "nbformat": 4,
 "nbformat_minor": 2
}
