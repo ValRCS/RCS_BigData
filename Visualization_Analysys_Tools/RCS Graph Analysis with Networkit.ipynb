{
 "cells": [
  {
   "cell_type": "code",
   "execution_count": 1,
   "metadata": {},
   "outputs": [],
   "source": [
    "# RCS Graph Analysis with Networkit"
   ]
  },
  {
   "cell_type": "markdown",
   "metadata": {},
   "source": [
    "# NetworKit\n",
    "\n",
    "https://networkit.iti.kit.edu/index.html\n",
    "    \n",
    "Alternative to NetworkX with emphasis on Scalability and Larger Data sets"
   ]
  },
  {
   "cell_type": "markdown",
   "metadata": {},
   "source": [
    "## Repository\n",
    "https://github.com/kit-parco/networkit"
   ]
  },
  {
   "cell_type": "code",
   "execution_count": 6,
   "metadata": {},
   "outputs": [
    {
     "name": "stdout",
     "output_type": "stream",
     "text": [
      "Collecting tabulate\n",
      "  Downloading https://files.pythonhosted.org/packages/12/c2/11d6845db5edf1295bc08b2f488cf5937806586afe42936c3f34c097ebdc/tabulate-0.8.2.tar.gz (45kB)\n",
      "Building wheels for collected packages: tabulate\n",
      "  Running setup.py bdist_wheel for tabulate: started\n",
      "  Running setup.py bdist_wheel for tabulate: finished with status 'done'\n",
      "  Stored in directory: C:\\Users\\vdell\\AppData\\Local\\pip\\Cache\\wheels\\2a\\85\\33\\2f6da85d5f10614cbe5a625eab3b3aebfdf43e7b857f25f829\n",
      "Successfully built tabulate\n",
      "Installing collected packages: tabulate\n",
      "Successfully installed tabulate-0.8.2\n"
     ]
    },
    {
     "name": "stderr",
     "output_type": "stream",
     "text": [
      "odpdown 0.4.1 requires lpod-python>=1.1.6, which is not installed.\n",
      "You are using pip version 10.0.1, however version 18.0 is available.\n",
      "You should consider upgrading via the 'python -m pip install --upgrade pip' command.\n"
     ]
    }
   ],
   "source": [
    "!pip3 install tabulate"
   ]
  },
  {
   "cell_type": "code",
   "execution_count": 7,
   "metadata": {},
   "outputs": [
    {
     "name": "stdout",
     "output_type": "stream",
     "text": [
      "Collecting networkit\n",
      "  Using cached https://files.pythonhosted.org/packages/3c/0d/767c959cc199013e36634128fae5e77815e19d70d10743c94bf97eae3506/networkit-4.6.tar.gz\n",
      "    Complete output from command python setup.py egg_info:\n",
      "    Name: ipython\n",
      "    Version: 6.2.1\n",
      "    Summary: IPython: Productive Interactive Computing\n",
      "    Home-page: https://ipython.org\n",
      "    Author: The IPython Development Team\n",
      "    Author-email: ipython-dev@python.org\n",
      "    License: BSD\n",
      "    Location: c:\\programdata\\anaconda3\\lib\\site-packages\n",
      "    Requires: setuptools, jedi, decorator, pickleshare, simplegeneric, traitlets, prompt-toolkit, pygments, colorama\n",
      "    Required-by: jupyter-console, ipywidgets, ipython-cypher, ipykernel\n",
      "    You are using pip version 10.0.1, however version 18.0 is available.\n",
      "    You should consider upgrading via the 'python -m pip install --upgrade pip' command.\n",
      "    ERROR: Test compilation with the following binary names was unsuccessful: g++, g++-8, g++-7, g++-6.1, g++-6, g++-5.3, g++-5.2, g++-5.1, g++-5, g++-4.9, g++-4.8, clang++, clang++-3.8, clang++-3.7. Make sure you have either g++ (>= 4.8) or clang++ (>= 3.7) properly installed\n",
      "    \n",
      "    ----------------------------------------\n"
     ]
    },
    {
     "name": "stderr",
     "output_type": "stream",
     "text": [
      "Command \"python setup.py egg_info\" failed with error code 1 in C:\\Users\\vdell\\AppData\\Local\\Temp\\pip-install-jb9w3924\\networkit\\\n",
      "You are using pip version 10.0.1, however version 18.0 is available.\n",
      "You should consider upgrading via the 'python -m pip install --upgrade pip' command.\n"
     ]
    }
   ],
   "source": [
    "!pip3 install networkit"
   ]
  },
  {
   "cell_type": "markdown",
   "metadata": {},
   "source": [
    "## Windows\n",
    "### Windows 10\n",
    "With the introduction of Windows 10, Microsoft offers native support for Linux binaries through a compatibility layer called Linux Subsystem for Windows. Please see the installation instructions on how to install the Linux Subsystem on your machine.\n",
    "\n",
    "The Linux Subsystem is fully compatible with NetworKit. After a successful installation, simply open a new command line and start a new bash shell."
   ]
  },
  {
   "cell_type": "markdown",
   "metadata": {},
   "source": [
    "## !! Windows 8 and below\n",
    "There is currently no official support for Windows 8 and below. We recommend the use of our virtual machine which comes pre-installed with NetworKit and useful tools. "
   ]
  },
  {
   "cell_type": "code",
   "execution_count": 8,
   "metadata": {},
   "outputs": [
    {
     "ename": "ModuleNotFoundError",
     "evalue": "No module named 'networkit'",
     "output_type": "error",
     "traceback": [
      "\u001b[1;31m---------------------------------------------------------------------------\u001b[0m",
      "\u001b[1;31mModuleNotFoundError\u001b[0m                       Traceback (most recent call last)",
      "\u001b[1;32m<ipython-input-8-0547b3a80fd8>\u001b[0m in \u001b[0;36m<module>\u001b[1;34m()\u001b[0m\n\u001b[1;32m----> 1\u001b[1;33m \u001b[1;32mimport\u001b[0m \u001b[0mnetworkit\u001b[0m\u001b[1;33m\u001b[0m\u001b[0m\n\u001b[0m",
      "\u001b[1;31mModuleNotFoundError\u001b[0m: No module named 'networkit'"
     ]
    }
   ],
   "source": [
    "import networkit"
   ]
  }
 ],
 "metadata": {
  "kernelspec": {
   "display_name": "Python 3",
   "language": "python",
   "name": "python3"
  },
  "language_info": {
   "codemirror_mode": {
    "name": "ipython",
    "version": 3
   },
   "file_extension": ".py",
   "mimetype": "text/x-python",
   "name": "python",
   "nbconvert_exporter": "python",
   "pygments_lexer": "ipython3",
   "version": "3.6.4"
  }
 },
 "nbformat": 4,
 "nbformat_minor": 2
}
