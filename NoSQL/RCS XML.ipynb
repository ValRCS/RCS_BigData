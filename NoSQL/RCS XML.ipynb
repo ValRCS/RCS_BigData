{
 "cells": [
  {
   "cell_type": "markdown",
   "metadata": {},
   "source": [
    "# RCS XML"
   ]
  },
  {
   "cell_type": "code",
   "execution_count": null,
   "metadata": {},
   "outputs": [],
   "source": [
    "# https://www.w3.org/TR/xml/"
   ]
  },
  {
   "cell_type": "code",
   "execution_count": null,
   "metadata": {},
   "outputs": [],
   "source": [
    "# https://www.xmlfiles.com/examples/"
   ]
  },
  {
   "cell_type": "code",
   "execution_count": 55,
   "metadata": {},
   "outputs": [],
   "source": [
    "# https://www.w3schools.com/xml/dom_nodes.asp"
   ]
  },
  {
   "cell_type": "markdown",
   "metadata": {},
   "source": [
    " ### Extensible Markup Language (XML) is a markup language that defines a set of rules for encoding documents in a format that is both human-readable and machine-readable. "
   ]
  },
  {
   "cell_type": "markdown",
   "metadata": {},
   "source": [
    "# Pluses\n",
    "  * Can Desribe anything via Schemas very extensible (pun intended)(https://www.w3schools.com/xml/schema_intro.asp)\n",
    "  \n",
    "  \n",
    "# Minuses:\n",
    "   * Verbose\n",
    "   * Complex (structure hard to follow for more complicated xml files)"
   ]
  },
  {
   "cell_type": "markdown",
   "metadata": {},
   "source": [
    "# XML vs HTML\n",
    "#### HTML and XML common heritage with older markup language, SGML.\n",
    "\n",
    "https://www.w3.org/TR/WD-html40-970708/intro/sgmltut.html\n",
    "    \n",
    "* Use HTML (and CSS) when you wish to target presentation in web browser.\n",
    "* Use XML when you wish to define custom markup for documents. XML will allow a document to be marked up for what content is rather than for how content should look. Content can then be decoupled from its presentation, allowing content to be independently translated to different media such as web or print automatically.\n",
    "\n",
    "* XML can make their own tags"
   ]
  },
  {
   "cell_type": "code",
   "execution_count": null,
   "metadata": {},
   "outputs": [],
   "source": [
    "# HTML used to be valid XML, HTML5 is not fully compliant (not really important)\n",
    "# XHTML seems to be pretty dead"
   ]
  },
  {
   "cell_type": "markdown",
   "metadata": {},
   "source": [
    "# Many ways of working with XML in Python\n",
    "\n",
    "* https://stackabuse.com/reading-and-writing-xml-files-in-python/\n",
    "* untangle class based\n",
    "* xmltodict (my favorite)"
   ]
  },
  {
   "cell_type": "code",
   "execution_count": 1,
   "metadata": {},
   "outputs": [
    {
     "name": "stdout",
     "output_type": "stream",
     "text": [
      "Collecting untangle\n",
      "  Downloading https://files.pythonhosted.org/packages/f4/eb/a19a34858cd702b09524bd2ddb01c0d75a71f993a96aec8755a76e867911/untangle-1.1.1.tar.gz\n",
      "Building wheels for collected packages: untangle\n",
      "  Running setup.py bdist_wheel for untangle: started\n",
      "  Running setup.py bdist_wheel for untangle: finished with status 'done'\n",
      "  Stored in directory: C:\\Users\\vsd\\AppData\\Local\\pip\\Cache\\wheels\\16\\18\\ff\\b217dc66c822e07c274599310ba25ffce62cda02fc1c0bdca2\n",
      "Successfully built untangle\n",
      "Installing collected packages: untangle\n",
      "Successfully installed untangle-1.1.1\n"
     ]
    },
    {
     "name": "stderr",
     "output_type": "stream",
     "text": [
      "You are using pip version 9.0.1, however version 18.0 is available.\n",
      "You should consider upgrading via the 'python -m pip install --upgrade pip' command.\n"
     ]
    }
   ],
   "source": [
    "!pip install untangle"
   ]
  },
  {
   "cell_type": "code",
   "execution_count": 2,
   "metadata": {},
   "outputs": [],
   "source": [
    "import untangle\n"
   ]
  },
  {
   "cell_type": "code",
   "execution_count": 3,
   "metadata": {},
   "outputs": [],
   "source": [
    "with open('CustomersOrdersInNamespace.xml') as f:\n",
    "    xmlcontent = f.read()\n",
    "    "
   ]
  },
  {
   "cell_type": "code",
   "execution_count": 4,
   "metadata": {},
   "outputs": [
    {
     "data": {
      "text/plain": [
       "15945"
      ]
     },
     "execution_count": 4,
     "metadata": {},
     "output_type": "execute_result"
    }
   ],
   "source": [
    "len(xmlcontent)"
   ]
  },
  {
   "cell_type": "code",
   "execution_count": 5,
   "metadata": {},
   "outputs": [
    {
     "name": "stdout",
     "output_type": "stream",
     "text": [
      "<?xml version=\"1.0\" encoding=\"utf-8\"?>  \n",
      "<Root xmlns=\"http://www.adventure-works.com\">  \n",
      "  <Customers>  \n",
      "    <Customer CustomerID=\"GREAL\">  \n",
      "      <CompanyName>Great Lakes Food Market</CompanyName>  \n",
      "      <ContactName>Howard Snyder</ContactName>  \n",
      "      <ContactTitle>Marketing Manager</ContactTitle>  \n",
      "      <Phone>(503) 555-7555</Phone>  \n",
      "      <FullAddress>  \n",
      "        <Address>2732 Baker Blvd.</Address>  \n",
      "        <City>Eugene</City>  \n",
      "        <Region>OR</Region>  \n",
      "        <PostalCode>97403</PostalCode>  \n",
      "        <Country>USA</Country>  \n",
      "      </FullAddress>  \n",
      "    </Customer>  \n",
      "    <Customer CustomerID=\"HUNGC\">  \n",
      "      <CompanyName>Hungry Coyote Import Store</CompanyName>  \n",
      "      <ContactName>Yoshi Latimer</ContactName>  \n",
      "      <ContactTitle>Sales Representative</ContactTitle>  \n",
      "      <Phone>(503) 555-6874</Phone>  \n",
      "      <Fax>(503) 555-2376</Fax>  \n",
      "      <FullAddress>  \n",
      "        <Address>City Center Plaza 516 Main St.</Address>  \n",
      "        <City>Elgin</City>  \n",
      "        <Region>OR</Region>  \n",
      "        <PostalCode>97827</PostalCode>  \n",
      "        <Country>USA</Country>  \n",
      "      </FullAddress>  \n",
      "    </Customer>  \n",
      "    <Customer CustomerID=\"LAZYK\">  \n",
      "      <CompanyName>Lazy K Kountry Store</CompanyName>  \n",
      "      <ContactName>John Steel</ContactName>  \n",
      "      <ContactTitle>Marketing Manager</ContactTitle>  \n",
      "      <Phone>(509) 555-7969</Phone>  \n",
      "      <Fax>(509) 555-6221</Fax>  \n",
      "      <FullAddress>  \n",
      "        <Address>12 Orchestra Terrace</Address>  \n",
      "        <City>Walla Walla</City>  \n",
      "        <Region>WA</Region>  \n",
      "        <PostalCode>99362</PostalCode>  \n",
      "        <Country>USA</Country>  \n",
      "      </FullAddress>  \n",
      "    </Customer>  \n",
      "    <Customer CustomerID=\"LETSS\">  \n",
      "      <CompanyName>Let's Stop N Shop</CompanyName>  \n",
      "      <ContactName>Jaime Yorres</ContactName>  \n",
      "      <ContactTitle>Owner</ContactTitle>  \n",
      "      <Phone>(415) 555-5938</Phone>  \n",
      "      <FullAddress>  \n",
      "        <Address>87 Polk St. Suite 5</Address>  \n",
      "        <City>San Francisco</City>  \n",
      "        <Region>CA</Region>  \n",
      "        <PostalCode>94117</PostalCode>  \n",
      "        <Country>USA</Country>  \n",
      "      </FullAddress>  \n",
      "    </Customer>  \n",
      "  </Customers>  \n",
      "  <Orders>  \n",
      "    <Order>  \n",
      "      <CustomerID>GREAL</CustomerID>  \n",
      "      <EmployeeID>6</EmployeeID>  \n",
      "      <OrderDate>1997-05-06T00:00:00</OrderDate>  \n",
      "      <RequiredDate>1997-05-20T00:00:00</RequiredDate>  \n",
      "      <ShipInfo ShippedDate=\"1997-05-09T00:00:00\">  \n",
      "        <ShipVia>2</ShipVia>  \n",
      "        <Freight>3.35</Freight>  \n",
      "        <ShipName>Great Lakes Food Market</ShipName>  \n",
      "        <ShipAddress>2732 Baker Blvd.</ShipAddress>  \n",
      "        <ShipCity>Eugene</ShipCity>  \n",
      "        <ShipRegion>OR</ShipRegion>  \n",
      "        <ShipPostalCode>97403</ShipPostalCode>  \n",
      "        <ShipCountry>USA</ShipCountry>  \n",
      "      </ShipInfo>  \n",
      "    </Order>  \n",
      "    <Order>  \n",
      "      <CustomerID>GREAL</CustomerID>  \n",
      "      <EmployeeID>8</EmployeeID>  \n",
      "      <OrderDate>1997-07-04T00:00:00</OrderDate>  \n",
      "      <RequiredDate>1997-08-01T00:00:00</RequiredDate>  \n",
      "      <ShipInfo ShippedDate=\"1997-07-14T00:00:00\">  \n",
      "        <ShipVia>2</ShipVia>  \n",
      "        <Freight>4.42</Freight>  \n",
      "        <ShipName>Great Lakes Food Market</ShipName>  \n",
      "        <ShipAddress>2732 Baker Blvd.</ShipAddress>  \n",
      "        <ShipCity>Eugene</ShipCity>  \n",
      "        <ShipRegion>OR</ShipRegion>  \n",
      "        <ShipPostalCode>97403</ShipPostalCode>  \n",
      "        <ShipCountry>USA</ShipCountry>  \n",
      "      </ShipInfo>  \n",
      "    </Order>  \n",
      "    <Order>  \n",
      "      <CustomerID>GREAL</CustomerID>  \n",
      "      <EmployeeID>1</EmployeeID>  \n",
      "      <OrderDate>1997-07-31T00:00:00</OrderDate>  \n",
      "      <RequiredDate>1997-08-28T00:00:00</RequiredDate>  \n",
      "      <ShipInfo ShippedDate=\"1997-08-05T00:00:00\">  \n",
      "        <ShipVia>2</ShipVia>  \n",
      "        <Freight>116.53</Freight>  \n",
      "        <ShipName>Great Lakes Food Market</ShipName>  \n",
      "        <ShipAddress>2732 Baker Blvd.</ShipAddress>  \n",
      "        <ShipCity>Eugene</ShipCity>  \n",
      "        <ShipRegion>OR</ShipRegion>  \n",
      "        <ShipPostalCode>97403</ShipPostalCode>  \n",
      "        <ShipCountry>USA</ShipCountry>  \n",
      "      </ShipInfo>  \n",
      "    </Order>  \n",
      "    <Order>  \n",
      "      <CustomerID>GREAL</CustomerID>  \n",
      "      <EmployeeID>4</EmployeeID>  \n",
      "      <OrderDate>1997-07-31T00:00:00</OrderDate>  \n",
      "      <RequiredDate>1997-08-28T00:00:00</RequiredDate>  \n",
      "      <ShipInfo ShippedDate=\"1997-08-04T00:00:00\">  \n",
      "        <ShipVia>2</ShipVia>  \n",
      "        <Freight>18.53</Freight>  \n",
      "        <ShipName>Great Lakes Food Market</ShipName>  \n",
      "        <ShipAddress>2732 Baker Blvd.</ShipAddress>  \n",
      "        <ShipCity>Eugene</ShipCity>  \n",
      "        <ShipRegion>OR</ShipRegion>  \n",
      "        <ShipPostalCode>97403</ShipPostalCode>  \n",
      "        <ShipCountry>USA</ShipCountry>  \n",
      "      </ShipInfo>  \n",
      "    </Order>  \n",
      "    <Order>  \n",
      "      <CustomerID>GREAL</CustomerID>  \n",
      "      <EmployeeID>6</EmployeeID>  \n",
      "      <OrderDate>1997-09-04T00:00:00</OrderDate>  \n",
      "      <RequiredDate>1997-10-02T00:00:00</RequiredDate>  \n",
      "      <ShipInfo ShippedDate=\"1997-09-10T00:00:00\">  \n",
      "        <ShipVia>1</ShipVia>  \n",
      "        <Freight>57.15</Freight>  \n",
      "        <ShipName>Great Lakes Food Market</ShipName>  \n",
      "        <ShipAddress>2732 Baker Blvd.</ShipAddress>  \n",
      "        <ShipCity>Eugene</ShipCity>  \n",
      "        <ShipRegion>OR</ShipRegion>  \n",
      "        <ShipPostalCode>97403</ShipPostalCode>  \n",
      "        <ShipCountry>USA</ShipCountry>  \n",
      "      </ShipInfo>  \n",
      "    </Order>  \n",
      "    <Order>  \n",
      "      <CustomerID>GREAL</CustomerID>  \n",
      "      <EmployeeID>3</EmployeeID>  \n",
      "      <OrderDate>1997-09-25T00:00:00</OrderDate>  \n",
      "      <RequiredDate>1997-10-23T00:00:00</RequiredDate>  \n",
      "      <ShipInfo ShippedDate=\"1997-09-30T00:00:00\">  \n",
      "        <ShipVia>3</ShipVia>  \n",
      "        <Freight>76.13</Freight>  \n",
      "        <ShipName>Great Lakes Food Market</ShipName>  \n",
      "        <ShipAddress>2732 Baker Blvd.</ShipAddress>  \n",
      "        <ShipCity>Eugene</ShipCity>  \n",
      "        <ShipRegion>OR</ShipRegion>  \n",
      "        <ShipPostalCode>97403</ShipPostalCode>  \n",
      "        <ShipCountry>USA</ShipCountry>  \n",
      "      </ShipInfo>  \n",
      "    </Order>  \n",
      "    <Order>  \n",
      "      <CustomerID>GREAL</CustomerID>  \n",
      "      <EmployeeID>4</EmployeeID>  \n",
      "      <OrderDate>1998-01-06T00:00:00</OrderDate>  \n",
      "      <RequiredDate>1998-02-03T00:00:00</RequiredDate>  \n",
      "      <ShipInfo ShippedDate=\"1998-02-04T00:00:00\">  \n",
      "        <ShipVia>2</ShipVia>  \n",
      "        <Freight>719.78</Freight>  \n",
      "        <ShipName>Great Lakes Food Market</ShipName>  \n",
      "        <ShipAddress>2732 Baker Blvd.</ShipAddress>  \n",
      "        <ShipCity>Eugene</ShipCity>  \n",
      "        <ShipRegion>OR</ShipRegion>  \n",
      "        <ShipPostalCode>97403</ShipPostalCode>  \n",
      "        <ShipCountry>USA</ShipCountry>  \n",
      "      </ShipInfo>  \n",
      "    </Order>  \n",
      "    <Order>  \n",
      "      <CustomerID>GREAL</CustomerID>  \n",
      "      <EmployeeID>3</EmployeeID>  \n",
      "      <OrderDate>1998-03-09T00:00:00</OrderDate>  \n",
      "      <RequiredDate>1998-04-06T00:00:00</RequiredDate>  \n",
      "      <ShipInfo ShippedDate=\"1998-03-18T00:00:00\">  \n",
      "        <ShipVia>2</ShipVia>  \n",
      "        <Freight>33.68</Freight>  \n",
      "        <ShipName>Great Lakes Food Market</ShipName>  \n",
      "        <ShipAddress>2732 Baker Blvd.</ShipAddress>  \n",
      "        <ShipCity>Eugene</ShipCity>  \n",
      "        <ShipRegion>OR</ShipRegion>  \n",
      "        <ShipPostalCode>97403</ShipPostalCode>  \n",
      "        <ShipCountry>USA</ShipCountry>  \n",
      "      </ShipInfo>  \n",
      "    </Order>  \n",
      "    <Order>  \n",
      "      <CustomerID>GREAL</CustomerID>  \n",
      "      <EmployeeID>3</EmployeeID>  \n",
      "      <OrderDate>1998-04-07T00:00:00</OrderDate>  \n",
      "      <RequiredDate>1998-05-05T00:00:00</RequiredDate>  \n",
      "      <ShipInfo ShippedDate=\"1998-04-15T00:00:00\">  \n",
      "        <ShipVia>2</ShipVia>  \n",
      "        <Freight>25.19</Freight>  \n",
      "        <ShipName>Great Lakes Food Market</ShipName>  \n",
      "        <ShipAddress>2732 Baker Blvd.</ShipAddress>  \n",
      "        <ShipCity>Eugene</ShipCity>  \n",
      "        <ShipRegion>OR</ShipRegion>  \n",
      "        <ShipPostalCode>97403</ShipPostalCode>  \n",
      "        <ShipCountry>USA</ShipCountry>  \n",
      "      </ShipInfo>  \n",
      "    </Order>  \n",
      "    <Order>  \n",
      "      <CustomerID>GREAL</CustomerID>  \n",
      "      <EmployeeID>4</EmployeeID>  \n",
      "      <OrderDate>1998-04-22T00:00:00</OrderDate>  \n",
      "      <RequiredDate>1998-05-20T00:00:00</RequiredDate>  \n",
      "      <ShipInfo>  \n",
      "        <ShipVia>3</ShipVia>  \n",
      "        <Freight>18.84</Freight>  \n",
      "        <ShipName>Great Lakes Food Market</ShipName>  \n",
      "        <ShipAddress>2732 Baker Blvd.</ShipAddress>  \n",
      "        <ShipCity>Eugene</ShipCity>  \n",
      "        <ShipRegion>OR</ShipRegion>  \n",
      "        <ShipPostalCode>97403</ShipPostalCode>  \n",
      "        <ShipCountry>USA</ShipCountry>  \n",
      "      </ShipInfo>  \n",
      "    </Order>  \n",
      "    <Order>  \n",
      "      <CustomerID>GREAL</CustomerID>  \n",
      "      <EmployeeID>4</EmployeeID>  \n",
      "      <OrderDate>1998-04-30T00:00:00</OrderDate>  \n",
      "      <RequiredDate>1998-06-11T00:00:00</RequiredDate>  \n",
      "      <ShipInfo>  \n",
      "        <ShipVia>3</ShipVia>  \n",
      "        <Freight>14.01</Freight>  \n",
      "        <ShipName>Great Lakes Food Market</ShipName>  \n",
      "        <ShipAddress>2732 Baker Blvd.</ShipAddress>  \n",
      "        <ShipCity>Eugene</ShipCity>  \n",
      "        <ShipRegion>OR</ShipRegion>  \n",
      "        <ShipPostalCode>97403</ShipPostalCode>  \n",
      "        <ShipCountry>USA</ShipCountry>  \n",
      "      </ShipInfo>  \n",
      "    </Order>  \n",
      "    <Order>  \n",
      "      <CustomerID>HUNGC</CustomerID>  \n",
      "      <EmployeeID>3</EmployeeID>  \n",
      "      <OrderDate>1996-12-06T00:00:00</OrderDate>  \n",
      "      <RequiredDate>1997-01-03T00:00:00</RequiredDate>  \n",
      "      <ShipInfo ShippedDate=\"1996-12-09T00:00:00\">  \n",
      "        <ShipVia>2</ShipVia>  \n",
      "        <Freight>20.12</Freight>  \n",
      "        <ShipName>Hungry Coyote Import Store</ShipName>  \n",
      "        <ShipAddress>City Center Plaza 516 Main St.</ShipAddress>  \n",
      "        <ShipCity>Elgin</ShipCity>  \n",
      "        <ShipRegion>OR</ShipRegion>  \n",
      "        <ShipPostalCode>97827</ShipPostalCode>  \n",
      "        <ShipCountry>USA</ShipCountry>  \n",
      "      </ShipInfo>  \n",
      "    </Order>  \n",
      "    <Order>  \n",
      "      <CustomerID>HUNGC</CustomerID>  \n",
      "      <EmployeeID>1</EmployeeID>  \n",
      "      <OrderDate>1996-12-25T00:00:00</OrderDate>  \n",
      "      <RequiredDate>1997-01-22T00:00:00</RequiredDate>  \n",
      "      <ShipInfo ShippedDate=\"1997-01-03T00:00:00\">  \n",
      "        <ShipVia>3</ShipVia>  \n",
      "        <Freight>30.34</Freight>  \n",
      "        <ShipName>Hungry Coyote Import Store</ShipName>  \n",
      "        <ShipAddress>City Center Plaza 516 Main St.</ShipAddress>  \n",
      "        <ShipCity>Elgin</ShipCity>  \n",
      "        <ShipRegion>OR</ShipRegion>  \n",
      "        <ShipPostalCode>97827</ShipPostalCode>  \n",
      "        <ShipCountry>USA</ShipCountry>  \n",
      "      </ShipInfo>  \n",
      "    </Order>  \n",
      "    <Order>  \n",
      "      <CustomerID>HUNGC</CustomerID>  \n",
      "      <EmployeeID>3</EmployeeID>  \n",
      "      <OrderDate>1997-01-15T00:00:00</OrderDate>  \n",
      "      <RequiredDate>1997-02-12T00:00:00</RequiredDate>  \n",
      "      <ShipInfo ShippedDate=\"1997-01-24T00:00:00\">  \n",
      "        <ShipVia>1</ShipVia>  \n",
      "        <Freight>0.2</Freight>  \n",
      "        <ShipName>Hungry Coyote Import Store</ShipName>  \n",
      "        <ShipAddress>City Center Plaza 516 Main St.</ShipAddress>  \n",
      "        <ShipCity>Elgin</ShipCity>  \n",
      "        <ShipRegion>OR</ShipRegion>  \n",
      "        <ShipPostalCode>97827</ShipPostalCode>  \n",
      "        <ShipCountry>USA</ShipCountry>  \n",
      "      </ShipInfo>  \n",
      "    </Order>  \n",
      "    <Order>  \n",
      "      <CustomerID>HUNGC</CustomerID>  \n",
      "      <EmployeeID>4</EmployeeID>  \n",
      "      <OrderDate>1997-07-16T00:00:00</OrderDate>  \n",
      "      <RequiredDate>1997-08-13T00:00:00</RequiredDate>  \n",
      "      <ShipInfo ShippedDate=\"1997-07-21T00:00:00\">  \n",
      "        <ShipVia>1</ShipVia>  \n",
      "        <Freight>45.13</Freight>  \n",
      "        <ShipName>Hungry Coyote Import Store</ShipName>  \n",
      "        <ShipAddress>City Center Plaza 516 Main St.</ShipAddress>  \n",
      "        <ShipCity>Elgin</ShipCity>  \n",
      "        <ShipRegion>OR</ShipRegion>  \n",
      "        <ShipPostalCode>97827</ShipPostalCode>  \n",
      "        <ShipCountry>USA</ShipCountry>  \n",
      "      </ShipInfo>  \n",
      "    </Order>  \n",
      "    <Order>  \n",
      "      <CustomerID>HUNGC</CustomerID>  \n",
      "      <EmployeeID>8</EmployeeID>  \n",
      "      <OrderDate>1997-09-08T00:00:00</OrderDate>  \n",
      "      <RequiredDate>1997-10-06T00:00:00</RequiredDate>  \n",
      "      <ShipInfo ShippedDate=\"1997-10-15T00:00:00\">  \n",
      "        <ShipVia>1</ShipVia>  \n",
      "        <Freight>111.29</Freight>  \n",
      "        <ShipName>Hungry Coyote Import Store</ShipName>  \n",
      "        <ShipAddress>City Center Plaza 516 Main St.</ShipAddress>  \n",
      "        <ShipCity>Elgin</ShipCity>  \n",
      "        <ShipRegion>OR</ShipRegion>  \n",
      "        <ShipPostalCode>97827</ShipPostalCode>  \n",
      "        <ShipCountry>USA</ShipCountry>  \n",
      "      </ShipInfo>  \n",
      "    </Order>  \n",
      "    <Order>  \n",
      "      <CustomerID>LAZYK</CustomerID>  \n",
      "      <EmployeeID>1</EmployeeID>  \n",
      "      <OrderDate>1997-03-21T00:00:00</OrderDate>  \n",
      "      <RequiredDate>1997-04-18T00:00:00</RequiredDate>  \n",
      "      <ShipInfo ShippedDate=\"1997-04-10T00:00:00\">  \n",
      "        <ShipVia>3</ShipVia>  \n",
      "        <Freight>7.48</Freight>  \n",
      "        <ShipName>Lazy K Kountry Store</ShipName>  \n",
      "        <ShipAddress>12 Orchestra Terrace</ShipAddress>  \n",
      "        <ShipCity>Walla Walla</ShipCity>  \n",
      "        <ShipRegion>WA</ShipRegion>  \n",
      "        <ShipPostalCode>99362</ShipPostalCode>  \n",
      "        <ShipCountry>USA</ShipCountry>  \n",
      "      </ShipInfo>  \n",
      "    </Order>  \n",
      "    <Order>  \n",
      "      <CustomerID>LAZYK</CustomerID>  \n",
      "      <EmployeeID>8</EmployeeID>  \n",
      "      <OrderDate>1997-05-22T00:00:00</OrderDate>  \n",
      "      <RequiredDate>1997-06-19T00:00:00</RequiredDate>  \n",
      "      <ShipInfo ShippedDate=\"1997-06-26T00:00:00\">  \n",
      "        <ShipVia>2</ShipVia>  \n",
      "        <Freight>11.92</Freight>  \n",
      "        <ShipName>Lazy K Kountry Store</ShipName>  \n",
      "        <ShipAddress>12 Orchestra Terrace</ShipAddress>  \n",
      "        <ShipCity>Walla Walla</ShipCity>  \n",
      "        <ShipRegion>WA</ShipRegion>  \n",
      "        <ShipPostalCode>99362</ShipPostalCode>  \n",
      "        <ShipCountry>USA</ShipCountry>  \n",
      "      </ShipInfo>  \n",
      "    </Order>  \n",
      "    <Order>  \n",
      "      <CustomerID>LETSS</CustomerID>  \n",
      "      <EmployeeID>1</EmployeeID>  \n",
      "      <OrderDate>1997-06-25T00:00:00</OrderDate>  \n",
      "      <RequiredDate>1997-07-23T00:00:00</RequiredDate>  \n",
      "      <ShipInfo ShippedDate=\"1997-07-04T00:00:00\">  \n",
      "        <ShipVia>2</ShipVia>  \n",
      "        <Freight>13.73</Freight>  \n",
      "        <ShipName>Let's Stop N Shop</ShipName>  \n",
      "        <ShipAddress>87 Polk St. Suite 5</ShipAddress>  \n",
      "        <ShipCity>San Francisco</ShipCity>  \n",
      "        <ShipRegion>CA</ShipRegion>  \n",
      "        <ShipPostalCode>94117</ShipPostalCode>  \n",
      "        <ShipCountry>USA</ShipCountry>  \n",
      "      </ShipInfo>  \n",
      "    </Order>  \n",
      "    <Order>  \n",
      "      <CustomerID>LETSS</CustomerID>  \n",
      "      <EmployeeID>8</EmployeeID>  \n",
      "      <OrderDate>1997-10-27T00:00:00</OrderDate>  \n",
      "      <RequiredDate>1997-11-24T00:00:00</RequiredDate>  \n",
      "      <ShipInfo ShippedDate=\"1997-11-05T00:00:00\">  \n",
      "        <ShipVia>2</ShipVia>  \n",
      "        <Freight>51.44</Freight>  \n",
      "        <ShipName>Let's Stop N Shop</ShipName>  \n",
      "        <ShipAddress>87 Polk St. Suite 5</ShipAddress>  \n",
      "        <ShipCity>San Francisco</ShipCity>  \n",
      "        <ShipRegion>CA</ShipRegion>  \n",
      "        <ShipPostalCode>94117</ShipPostalCode>  \n",
      "        <ShipCountry>USA</ShipCountry>  \n",
      "      </ShipInfo>  \n",
      "    </Order>  \n",
      "    <Order>  \n",
      "      <CustomerID>LETSS</CustomerID>  \n",
      "      <EmployeeID>6</EmployeeID>  \n",
      "      <OrderDate>1997-11-10T00:00:00</OrderDate>  \n",
      "      <RequiredDate>1997-12-08T00:00:00</RequiredDate>  \n",
      "      <ShipInfo ShippedDate=\"1997-11-21T00:00:00\">  \n",
      "        <ShipVia>2</ShipVia>  \n",
      "        <Freight>45.97</Freight>  \n",
      "        <ShipName>Let's Stop N Shop</ShipName>  \n",
      "        <ShipAddress>87 Polk St. Suite 5</ShipAddress>  \n",
      "        <ShipCity>San Francisco</ShipCity>  \n",
      "        <ShipRegion>CA</ShipRegion>  \n",
      "        <ShipPostalCode>94117</ShipPostalCode>  \n",
      "        <ShipCountry>USA</ShipCountry>  \n",
      "      </ShipInfo>  \n",
      "    </Order>  \n",
      "    <Order>  \n",
      "      <CustomerID>LETSS</CustomerID>  \n",
      "      <EmployeeID>4</EmployeeID>  \n",
      "      <OrderDate>1998-02-12T00:00:00</OrderDate>  \n",
      "      <RequiredDate>1998-03-12T00:00:00</RequiredDate>  \n",
      "      <ShipInfo ShippedDate=\"1998-02-13T00:00:00\">  \n",
      "        <ShipVia>2</ShipVia>  \n",
      "        <Freight>90.97</Freight>  \n",
      "        <ShipName>Let's Stop N Shop</ShipName>  \n",
      "        <ShipAddress>87 Polk St. Suite 5</ShipAddress>  \n",
      "        <ShipCity>San Francisco</ShipCity>  \n",
      "        <ShipRegion>CA</ShipRegion>  \n",
      "        <ShipPostalCode>94117</ShipPostalCode>  \n",
      "        <ShipCountry>USA</ShipCountry>  \n",
      "      </ShipInfo>  \n",
      "    </Order>  \n",
      "  </Orders>  \n",
      "</Root>\n"
     ]
    }
   ],
   "source": [
    "print(xmlcontent)"
   ]
  },
  {
   "cell_type": "code",
   "execution_count": 6,
   "metadata": {},
   "outputs": [
    {
     "data": {
      "text/plain": [
       "str"
      ]
     },
     "execution_count": 6,
     "metadata": {},
     "output_type": "execute_result"
    }
   ],
   "source": [
    "type(xmlcontent)"
   ]
  },
  {
   "cell_type": "code",
   "execution_count": 7,
   "metadata": {},
   "outputs": [],
   "source": [
    "data = untangle.parse('CustomersOrdersInNamespace.xml')"
   ]
  },
  {
   "cell_type": "code",
   "execution_count": 8,
   "metadata": {},
   "outputs": [
    {
     "data": {
      "text/plain": [
       "['Root']"
      ]
     },
     "execution_count": 8,
     "metadata": {},
     "output_type": "execute_result"
    }
   ],
   "source": [
    "dir(data)"
   ]
  },
  {
   "cell_type": "code",
   "execution_count": 9,
   "metadata": {},
   "outputs": [
    {
     "data": {
      "text/plain": [
       "untangle.Element"
      ]
     },
     "execution_count": 9,
     "metadata": {},
     "output_type": "execute_result"
    }
   ],
   "source": [
    "type(data)"
   ]
  },
  {
   "cell_type": "code",
   "execution_count": 10,
   "metadata": {},
   "outputs": [
    {
     "data": {
      "text/plain": [
       "Element(name = Root, attributes = {'xmlns': 'http://www.adventure-works.com'}, cdata =   \n",
       "    \n",
       "    \n",
       ")"
      ]
     },
     "execution_count": 10,
     "metadata": {},
     "output_type": "execute_result"
    }
   ],
   "source": [
    "data.Root # THis is where I start to dislike untangle"
   ]
  },
  {
   "cell_type": "code",
   "execution_count": 11,
   "metadata": {},
   "outputs": [
    {
     "data": {
      "text/plain": [
       "['Customers', 'Orders']"
      ]
     },
     "execution_count": 11,
     "metadata": {},
     "output_type": "execute_result"
    }
   ],
   "source": [
    "dir(data.Root)"
   ]
  },
  {
   "cell_type": "code",
   "execution_count": 12,
   "metadata": {},
   "outputs": [
    {
     "data": {
      "text/plain": [
       "'  \\n    \\n    \\n'"
      ]
     },
     "execution_count": 12,
     "metadata": {},
     "output_type": "execute_result"
    }
   ],
   "source": [
    "data.Root.cdata"
   ]
  },
  {
   "cell_type": "code",
   "execution_count": 13,
   "metadata": {},
   "outputs": [
    {
     "ename": "AttributeError",
     "evalue": "'None' has no attribute 'Customers'",
     "output_type": "error",
     "traceback": [
      "\u001b[1;31m---------------------------------------------------------------------------\u001b[0m",
      "\u001b[1;31mAttributeError\u001b[0m                            Traceback (most recent call last)",
      "\u001b[1;32m<ipython-input-13-d73131063b4a>\u001b[0m in \u001b[0;36m<module>\u001b[1;34m()\u001b[0m\n\u001b[1;32m----> 1\u001b[1;33m \u001b[0mdata\u001b[0m\u001b[1;33m.\u001b[0m\u001b[0mCustomers\u001b[0m\u001b[1;33m\u001b[0m\u001b[0m\n\u001b[0m",
      "\u001b[1;32mC:\\ProgramData\\Anaconda3\\lib\\site-packages\\untangle.py\u001b[0m in \u001b[0;36m__getattr__\u001b[1;34m(self, key)\u001b[0m\n\u001b[0;32m     81\u001b[0m         \u001b[1;32melse\u001b[0m\u001b[1;33m:\u001b[0m\u001b[1;33m\u001b[0m\u001b[0m\n\u001b[0;32m     82\u001b[0m             raise AttributeError(\n\u001b[1;32m---> 83\u001b[1;33m                 \u001b[1;34m\"'%s' has no attribute '%s'\"\u001b[0m \u001b[1;33m%\u001b[0m \u001b[1;33m(\u001b[0m\u001b[0mself\u001b[0m\u001b[1;33m.\u001b[0m\u001b[0m_name\u001b[0m\u001b[1;33m,\u001b[0m \u001b[0mkey\u001b[0m\u001b[1;33m)\u001b[0m\u001b[1;33m\u001b[0m\u001b[0m\n\u001b[0m\u001b[0;32m     84\u001b[0m             )\n\u001b[0;32m     85\u001b[0m \u001b[1;33m\u001b[0m\u001b[0m\n",
      "\u001b[1;31mAttributeError\u001b[0m: 'None' has no attribute 'Customers'"
     ]
    }
   ],
   "source": [
    "data.Customers"
   ]
  },
  {
   "cell_type": "code",
   "execution_count": 14,
   "metadata": {},
   "outputs": [
    {
     "data": {
      "text/plain": [
       "Element(name = Customers, attributes = {}, cdata =   \n",
       "      \n",
       "      \n",
       "      \n",
       "      \n",
       "  )"
      ]
     },
     "execution_count": 14,
     "metadata": {},
     "output_type": "execute_result"
    }
   ],
   "source": [
    "data.Root.Customers"
   ]
  },
  {
   "cell_type": "code",
   "execution_count": 15,
   "metadata": {},
   "outputs": [
    {
     "data": {
      "text/plain": [
       "untangle.Element"
      ]
     },
     "execution_count": 15,
     "metadata": {},
     "output_type": "execute_result"
    }
   ],
   "source": [
    "type(data.Root.Customers)"
   ]
  },
  {
   "cell_type": "code",
   "execution_count": 16,
   "metadata": {},
   "outputs": [
    {
     "data": {
      "text/plain": [
       "['Customer', 'Customer', 'Customer', 'Customer']"
      ]
     },
     "execution_count": 16,
     "metadata": {},
     "output_type": "execute_result"
    }
   ],
   "source": [
    "dir(data.Root.Customers)"
   ]
  },
  {
   "cell_type": "code",
   "execution_count": 17,
   "metadata": {},
   "outputs": [
    {
     "data": {
      "text/plain": [
       "Element(name = ContactName, attributes = {}, cdata = Yoshi Latimer)"
      ]
     },
     "execution_count": 17,
     "metadata": {},
     "output_type": "execute_result"
    }
   ],
   "source": [
    "data.Root.Customers.Customer[1].ContactName"
   ]
  },
  {
   "cell_type": "code",
   "execution_count": 20,
   "metadata": {},
   "outputs": [
    {
     "data": {
      "text/plain": [
       "'12 Orchestra Terrace'"
      ]
     },
     "execution_count": 20,
     "metadata": {},
     "output_type": "execute_result"
    }
   ],
   "source": [
    "data.Root.Customers.Customer[2].FullAddress.Address.cdata"
   ]
  },
  {
   "cell_type": "code",
   "execution_count": 21,
   "metadata": {},
   "outputs": [
    {
     "data": {
      "text/plain": [
       "'97403'"
      ]
     },
     "execution_count": 21,
     "metadata": {},
     "output_type": "execute_result"
    }
   ],
   "source": [
    "data.Root.Orders.Order[0].ShipInfo.ShipPostalCode.cdata"
   ]
  },
  {
   "cell_type": "code",
   "execution_count": null,
   "metadata": {},
   "outputs": [],
   "source": [
    "data.Root."
   ]
  },
  {
   "cell_type": "code",
   "execution_count": null,
   "metadata": {},
   "outputs": [],
   "source": [
    "# TODO see why untangle is not parsing !?"
   ]
  },
  {
   "cell_type": "code",
   "execution_count": 22,
   "metadata": {},
   "outputs": [
    {
     "name": "stdout",
     "output_type": "stream",
     "text": [
      "Collecting xmltodict\n",
      "  Downloading https://files.pythonhosted.org/packages/42/a9/7e99652c6bc619d19d58cdd8c47560730eb5825d43a7e25db2e1d776ceb7/xmltodict-0.11.0-py2.py3-none-any.whl\n",
      "Installing collected packages: xmltodict\n",
      "Successfully installed xmltodict-0.11.0\n"
     ]
    },
    {
     "name": "stderr",
     "output_type": "stream",
     "text": [
      "You are using pip version 9.0.1, however version 18.0 is available.\n",
      "You should consider upgrading via the 'python -m pip install --upgrade pip' command.\n"
     ]
    }
   ],
   "source": [
    "!pip install xmltodict"
   ]
  },
  {
   "cell_type": "code",
   "execution_count": 23,
   "metadata": {},
   "outputs": [],
   "source": [
    "# Better idea convert XML to Python dictionary then to JSON\n",
    "import xmltodict\n",
    "import json"
   ]
  },
  {
   "cell_type": "code",
   "execution_count": null,
   "metadata": {},
   "outputs": [],
   "source": []
  },
  {
   "cell_type": "markdown",
   "metadata": {},
   "source": [
    "## xmltodict\n",
    "\n",
    "https://github.com/martinblech/xmltodict"
   ]
  },
  {
   "cell_type": "code",
   "execution_count": 24,
   "metadata": {},
   "outputs": [],
   "source": [
    "mydict = xmltodict.parse(xmlcontent)"
   ]
  },
  {
   "cell_type": "code",
   "execution_count": 25,
   "metadata": {},
   "outputs": [
    {
     "data": {
      "text/plain": [
       "collections.OrderedDict"
      ]
     },
     "execution_count": 25,
     "metadata": {},
     "output_type": "execute_result"
    }
   ],
   "source": [
    "type(mydict)"
   ]
  },
  {
   "cell_type": "code",
   "execution_count": null,
   "metadata": {},
   "outputs": [],
   "source": [
    "# https://docs.python.org/3/library/collections.html#collections.OrderedDict"
   ]
  },
  {
   "cell_type": "code",
   "execution_count": 26,
   "metadata": {},
   "outputs": [
    {
     "data": {
      "text/plain": [
       "odict_keys(['Root'])"
      ]
     },
     "execution_count": 26,
     "metadata": {},
     "output_type": "execute_result"
    }
   ],
   "source": [
    "mydict.keys()"
   ]
  },
  {
   "cell_type": "code",
   "execution_count": null,
   "metadata": {},
   "outputs": [],
   "source": [
    "# We must now traverse the document tree (converted into dictionary)\n",
    "mydict['Root']"
   ]
  },
  {
   "cell_type": "code",
   "execution_count": 27,
   "metadata": {},
   "outputs": [
    {
     "data": {
      "text/plain": [
       "OrderedDict([('Customer',\n",
       "              [OrderedDict([('@CustomerID', 'GREAL'),\n",
       "                            ('CompanyName', 'Great Lakes Food Market'),\n",
       "                            ('ContactName', 'Howard Snyder'),\n",
       "                            ('ContactTitle', 'Marketing Manager'),\n",
       "                            ('Phone', '(503) 555-7555'),\n",
       "                            ('FullAddress',\n",
       "                             OrderedDict([('Address', '2732 Baker Blvd.'),\n",
       "                                          ('City', 'Eugene'),\n",
       "                                          ('Region', 'OR'),\n",
       "                                          ('PostalCode', '97403'),\n",
       "                                          ('Country', 'USA')]))]),\n",
       "               OrderedDict([('@CustomerID', 'HUNGC'),\n",
       "                            ('CompanyName', 'Hungry Coyote Import Store'),\n",
       "                            ('ContactName', 'Yoshi Latimer'),\n",
       "                            ('ContactTitle', 'Sales Representative'),\n",
       "                            ('Phone', '(503) 555-6874'),\n",
       "                            ('Fax', '(503) 555-2376'),\n",
       "                            ('FullAddress',\n",
       "                             OrderedDict([('Address',\n",
       "                                           'City Center Plaza 516 Main St.'),\n",
       "                                          ('City', 'Elgin'),\n",
       "                                          ('Region', 'OR'),\n",
       "                                          ('PostalCode', '97827'),\n",
       "                                          ('Country', 'USA')]))]),\n",
       "               OrderedDict([('@CustomerID', 'LAZYK'),\n",
       "                            ('CompanyName', 'Lazy K Kountry Store'),\n",
       "                            ('ContactName', 'John Steel'),\n",
       "                            ('ContactTitle', 'Marketing Manager'),\n",
       "                            ('Phone', '(509) 555-7969'),\n",
       "                            ('Fax', '(509) 555-6221'),\n",
       "                            ('FullAddress',\n",
       "                             OrderedDict([('Address', '12 Orchestra Terrace'),\n",
       "                                          ('City', 'Walla Walla'),\n",
       "                                          ('Region', 'WA'),\n",
       "                                          ('PostalCode', '99362'),\n",
       "                                          ('Country', 'USA')]))]),\n",
       "               OrderedDict([('@CustomerID', 'LETSS'),\n",
       "                            ('CompanyName', \"Let's Stop N Shop\"),\n",
       "                            ('ContactName', 'Jaime Yorres'),\n",
       "                            ('ContactTitle', 'Owner'),\n",
       "                            ('Phone', '(415) 555-5938'),\n",
       "                            ('FullAddress',\n",
       "                             OrderedDict([('Address', '87 Polk St. Suite 5'),\n",
       "                                          ('City', 'San Francisco'),\n",
       "                                          ('Region', 'CA'),\n",
       "                                          ('PostalCode', '94117'),\n",
       "                                          ('Country', 'USA')]))])])])"
      ]
     },
     "execution_count": 27,
     "metadata": {},
     "output_type": "execute_result"
    }
   ],
   "source": [
    "mydict['Root']['Customers']"
   ]
  },
  {
   "cell_type": "code",
   "execution_count": 30,
   "metadata": {},
   "outputs": [
    {
     "data": {
      "text/plain": [
       "'Howard Snyder'"
      ]
     },
     "execution_count": 30,
     "metadata": {},
     "output_type": "execute_result"
    }
   ],
   "source": [
    "mydict['Root']['Customers']['Customer'][0]['ContactName']"
   ]
  },
  {
   "cell_type": "code",
   "execution_count": 31,
   "metadata": {},
   "outputs": [],
   "source": [
    "myjson = json.dumps(mydict)"
   ]
  },
  {
   "cell_type": "code",
   "execution_count": 32,
   "metadata": {},
   "outputs": [
    {
     "data": {
      "text/plain": [
       "(9551, str)"
      ]
     },
     "execution_count": 32,
     "metadata": {},
     "output_type": "execute_result"
    }
   ],
   "source": [
    "len(myjson),type(myjson)"
   ]
  },
  {
   "cell_type": "code",
   "execution_count": 33,
   "metadata": {},
   "outputs": [],
   "source": [
    "with open(\"customers.json\", \"w\") as write_file:\n",
    "    json.dump(mydict, write_file, indent=4)"
   ]
  },
  {
   "cell_type": "code",
   "execution_count": 34,
   "metadata": {},
   "outputs": [],
   "source": [
    "# import pandas as pd"
   ]
  },
  {
   "cell_type": "code",
   "execution_count": null,
   "metadata": {},
   "outputs": [],
   "source": []
  },
  {
   "cell_type": "code",
   "execution_count": null,
   "metadata": {},
   "outputs": [],
   "source": [
    "# Exercise print out Customer's Name who ordered the heaviest package"
   ]
  },
  {
   "cell_type": "code",
   "execution_count": 36,
   "metadata": {},
   "outputs": [
    {
     "data": {
      "text/plain": [
       "list"
      ]
     },
     "execution_count": 36,
     "metadata": {},
     "output_type": "execute_result"
    }
   ],
   "source": [
    "type(mydict['Root']['Orders']['Order'])"
   ]
  },
  {
   "cell_type": "code",
   "execution_count": 41,
   "metadata": {},
   "outputs": [],
   "source": [
    "orders = sorted(mydict['Root']['Orders']['Order'], key = lambda el: float(el['ShipInfo']['Freight']))"
   ]
  },
  {
   "cell_type": "code",
   "execution_count": 46,
   "metadata": {},
   "outputs": [
    {
     "data": {
      "text/plain": [
       "'GREAL'"
      ]
     },
     "execution_count": 46,
     "metadata": {},
     "output_type": "execute_result"
    }
   ],
   "source": [
    "heavyorder = orders[::-1][0]['CustomerID']\n",
    "heavyorder"
   ]
  },
  {
   "cell_type": "code",
   "execution_count": null,
   "metadata": {},
   "outputs": [],
   "source": []
  },
  {
   "cell_type": "code",
   "execution_count": 43,
   "metadata": {},
   "outputs": [],
   "source": [
    "custlist = mydict['Root']['Customers']['Customer']"
   ]
  },
  {
   "cell_type": "code",
   "execution_count": 48,
   "metadata": {},
   "outputs": [
    {
     "data": {
      "text/plain": [
       "'Howard Snyder'"
      ]
     },
     "execution_count": 48,
     "metadata": {},
     "output_type": "execute_result"
    }
   ],
   "source": [
    "answer = [ el['ContactName'] for el in custlist if el['@CustomerID'] == heavyorder]\n",
    "answer[0]"
   ]
  },
  {
   "cell_type": "code",
   "execution_count": 44,
   "metadata": {},
   "outputs": [
    {
     "data": {
      "text/plain": [
       "list"
      ]
     },
     "execution_count": 44,
     "metadata": {},
     "output_type": "execute_result"
    }
   ],
   "source": [
    "type(custlist)"
   ]
  },
  {
   "cell_type": "code",
   "execution_count": 45,
   "metadata": {},
   "outputs": [
    {
     "data": {
      "text/plain": [
       "[OrderedDict([('@CustomerID', 'GREAL'),\n",
       "              ('CompanyName', 'Great Lakes Food Market'),\n",
       "              ('ContactName', 'Howard Snyder'),\n",
       "              ('ContactTitle', 'Marketing Manager'),\n",
       "              ('Phone', '(503) 555-7555'),\n",
       "              ('FullAddress',\n",
       "               OrderedDict([('Address', '2732 Baker Blvd.'),\n",
       "                            ('City', 'Eugene'),\n",
       "                            ('Region', 'OR'),\n",
       "                            ('PostalCode', '97403'),\n",
       "                            ('Country', 'USA')]))]),\n",
       " OrderedDict([('@CustomerID', 'HUNGC'),\n",
       "              ('CompanyName', 'Hungry Coyote Import Store'),\n",
       "              ('ContactName', 'Yoshi Latimer'),\n",
       "              ('ContactTitle', 'Sales Representative'),\n",
       "              ('Phone', '(503) 555-6874'),\n",
       "              ('Fax', '(503) 555-2376'),\n",
       "              ('FullAddress',\n",
       "               OrderedDict([('Address', 'City Center Plaza 516 Main St.'),\n",
       "                            ('City', 'Elgin'),\n",
       "                            ('Region', 'OR'),\n",
       "                            ('PostalCode', '97827'),\n",
       "                            ('Country', 'USA')]))]),\n",
       " OrderedDict([('@CustomerID', 'LAZYK'),\n",
       "              ('CompanyName', 'Lazy K Kountry Store'),\n",
       "              ('ContactName', 'John Steel'),\n",
       "              ('ContactTitle', 'Marketing Manager'),\n",
       "              ('Phone', '(509) 555-7969'),\n",
       "              ('Fax', '(509) 555-6221'),\n",
       "              ('FullAddress',\n",
       "               OrderedDict([('Address', '12 Orchestra Terrace'),\n",
       "                            ('City', 'Walla Walla'),\n",
       "                            ('Region', 'WA'),\n",
       "                            ('PostalCode', '99362'),\n",
       "                            ('Country', 'USA')]))]),\n",
       " OrderedDict([('@CustomerID', 'LETSS'),\n",
       "              ('CompanyName', \"Let's Stop N Shop\"),\n",
       "              ('ContactName', 'Jaime Yorres'),\n",
       "              ('ContactTitle', 'Owner'),\n",
       "              ('Phone', '(415) 555-5938'),\n",
       "              ('FullAddress',\n",
       "               OrderedDict([('Address', '87 Polk St. Suite 5'),\n",
       "                            ('City', 'San Francisco'),\n",
       "                            ('Region', 'CA'),\n",
       "                            ('PostalCode', '94117'),\n",
       "                            ('Country', 'USA')]))])]"
      ]
     },
     "execution_count": 45,
     "metadata": {},
     "output_type": "execute_result"
    }
   ],
   "source": [
    "custlist"
   ]
  },
  {
   "cell_type": "markdown",
   "metadata": {},
   "source": [
    "# XML databases were a thing but mostly died down\n",
    "\n",
    "Semi active - https://www.sedna.org/"
   ]
  },
  {
   "cell_type": "code",
   "execution_count": 54,
   "metadata": {},
   "outputs": [],
   "source": [
    "# Most everyone sane moved to JSON for submitting and receiving data"
   ]
  }
 ],
 "metadata": {
  "kernelspec": {
   "display_name": "Python 3",
   "language": "python",
   "name": "python3"
  },
  "language_info": {
   "codemirror_mode": {
    "name": "ipython",
    "version": 3
   },
   "file_extension": ".py",
   "mimetype": "text/x-python",
   "name": "python",
   "nbconvert_exporter": "python",
   "pygments_lexer": "ipython3",
   "version": "3.6.4"
  }
 },
 "nbformat": 4,
 "nbformat_minor": 2
}
