{
 "cells": [
  {
   "cell_type": "markdown",
   "metadata": {},
   "source": [
    "# RCS Weka Data Mining Software "
   ]
  },
  {
   "cell_type": "markdown",
   "metadata": {},
   "source": [
    "![Weka](weka.jpg)\n",
    "Weka is a collection of machine learning algorithms for data mining tasks. It contains tools for data preparation, classification, regression, clustering, association rules mining, and visualization\n",
    "\n",
    "https://www.cs.waikato.ac.nz/~ml/weka/"
   ]
  },
  {
   "cell_type": "markdown",
   "metadata": {},
   "source": [
    "# Manual\n",
    "http://prdownloads.sourceforge.net/weka/WekaManual-3-9-3.pdf?download (also included in Weka distribution)"
   ]
  },
  {
   "cell_type": "markdown",
   "metadata": {},
   "source": [
    "### Book on using Weka \n",
    "sadly 4th edition has a lot of typos and reference errors\n",
    "\n",
    "https://www.amazon.com/exec/obidos/ASIN/0128042915/departmofcompute"
   ]
  },
  {
   "cell_type": "markdown",
   "metadata": {},
   "source": [
    "## Datasets for Weka\n",
    "https://www.cs.waikato.ac.nz/~ml/weka/datasets.html"
   ]
  },
  {
   "cell_type": "markdown",
   "metadata": {},
   "source": [
    "# WEKA Interface\n",
    "\n",
    "1. **Preprocess.** Choose and modify the data being acted on.\n",
    "2. **Classify.** Train and test learning schemes that classify or perform regres-\n",
    "sion.\n",
    "3. **Cluster.** Learn clusters for the data.\n",
    "4. **Associate.** Learn association rules for the data.\n",
    "5. **Select attributes.** Select the most relevant attributes in the data.\n",
    "6. **Visualize.** View an interactive 2D plot of the data."
   ]
  },
  {
   "cell_type": "markdown",
   "metadata": {},
   "source": [
    "# 4 different styles of learning\n",
    "\n",
    "* **classification learning**, the learning scheme is presented with a set of classified examples from which it is expected to learn a way of classifying unseen examples. \n",
    "* **Association learning**, any association among features is sought, not just ones that predict a particular class value. \n",
    "* **clustering** groups of examples that belong together are sought. \n",
    "* **numeric prediction**: the outcome to be predicted is not a discrete class but a numeric quantity. Regardless of the type of\n",
    "learning involved, we call the thing to be learned the concept and the output produced by a learning scheme the concept description"
   ]
  },
  {
   "cell_type": "markdown",
   "metadata": {},
   "source": [
    "# Iris dataset\n",
    "The Iris Flower dataset is a famous dataset from statistics and is heavily borrowed by researchers in machine learning. It contains 150 instances (rows) and 4 attributes (columns) and a class attribute for the species of iris flower (one of setosa, versicolor, and virginica).\n",
    "\n",
    "https://en.wikipedia.org/wiki/Iris_flower_data_set"
   ]
  },
  {
   "cell_type": "code",
   "execution_count": 1,
   "metadata": {},
   "outputs": [],
   "source": [
    "# On Windows C:\\Program Files\\Weka-3-8\\data\n",
    "# MacOs\n",
    "# Linux"
   ]
  },
  {
   "cell_type": "markdown",
   "metadata": {},
   "source": [
    "Click the “Classify” tab. This is the area for running algorithms against a loaded dataset in Weka.\n",
    "\n",
    "You will note that the “ZeroR” algorithm is selected by default.\n",
    "\n",
    "Click the “Start” button to run this algorithm."
   ]
  },
  {
   "cell_type": "markdown",
   "metadata": {},
   "source": [
    "### ZeroR algorithm - useful baseline but boring\n",
    "http://chem-eng.utoronto.ca/~datamining/dmc/zeror.htm"
   ]
  },
  {
   "cell_type": "markdown",
   "metadata": {},
   "source": [
    "# C4.8 classifier algorithm\n",
    "Click the “Choose” button in the “Classifier” section and click on “trees” and click on the “J48” algorithm.\n",
    "\n",
    "This is an implementation of the C4.8 algorithm in Java (“J” for Java, 48 for C4.8, hence the J48 name) and is a minor extension to the famous C4.5 algorithm.\n",
    "http://en.wikipedia.org/wiki/C4.5_algorithm"
   ]
  },
  {
   "cell_type": "markdown",
   "metadata": {},
   "source": [
    "# Review Results\n",
    "\n",
    "Firstly, note the Classification Accuracy. You can see that the model achieved a result of 144/150 correct or 96%, which seems a lot better than the baseline of 33%"
   ]
  },
  {
   "cell_type": "markdown",
   "metadata": {},
   "source": [
    "Secondly, look at the Confusion Matrix. You can see a table of actual classes compared to predicted classes and you can see that there was 1 error where an Iris-setosa was classified as an Iris-versicolor, 2 cases where Iris-virginica was classified as an Iris-versicolor, and 3 cases where an Iris-versicolor was classified as an Iris-setosa (a total of 6 errors). This table can help to explain the accuracy achieved by the algorithm."
   ]
  },
  {
   "cell_type": "markdown",
   "metadata": {},
   "source": [
    "###  Can inspect log for what you've done so far\n",
    "11:32:38: Started weka.classifiers.rules.ZeroR\n",
    "\n",
    "11:32:38: Command: weka.classifiers.rules.ZeroR \n",
    "\n",
    "11:32:39: Finished weka.classifiers.rules.ZeroR\n",
    "\n",
    "11:33:02: Started weka.classifiers.trees.J48\n",
    "\n",
    "11:33:02: Command: weka.classifiers.trees.J48 -C 0.25 -M 2\n",
    "\n",
    "11:33:02: Finished weka.classifiers.trees.J48"
   ]
  },
  {
   "cell_type": "markdown",
   "metadata": {},
   "source": [
    "# Exercise attempt to get better than 96% percent\n",
    "## How would one go about it ?\n"
   ]
  },
  {
   "cell_type": "markdown",
   "metadata": {},
   "source": [
    "# TRAINING AND TESTING"
   ]
  },
  {
   "cell_type": "markdown",
   "metadata": {},
   "source": [
    "# CROSS-VALIDATION"
   ]
  },
  {
   "cell_type": "markdown",
   "metadata": {},
   "source": [
    "Cross-validation is a technique that is used for the assessment of how the results of statistical analysis generalize to an independent data set. Cross-validation is largely used in settings where the target is prediction and it is necessary to estimate the accuracy of the performance of a predictive model. The prime reason for the use of cross-validation rather than conventional validation is that there is not enough data available for partitioning them into separate training and test sets (as in conventional validation)."
   ]
  },
  {
   "cell_type": "markdown",
   "metadata": {},
   "source": [
    "![Cross-Validation](K-fold_cross_validation_EN.jpg)"
   ]
  },
  {
   "cell_type": "markdown",
   "metadata": {},
   "source": [
    "# MDL principle\n",
    "\n",
    "Occam's Razor - minimize model as much as possible, but no more\n",
    "\n",
    "KISS"
   ]
  },
  {
   "cell_type": "markdown",
   "metadata": {},
   "source": [
    "# Choosing an algorithm\n",
    "![ML ALgo](ml_map.png)"
   ]
  },
  {
   "cell_type": "markdown",
   "metadata": {},
   "source": [
    "# Saving Results\n",
    "\n",
    "### Right click on Result List you want in Classifier\n",
    "### Many options\n",
    "\n",
    "## Saving Images\n",
    "It is possible to generate image files from a number of panels in Weka's GUI interfaces. Just **hold down shift and alt and left-click** on the panel that you want to save. Available formats include: BMP, JPEG, PNG and postscript.\n",
    "\n",
    "### VS Warning: Use EPS option -> then convert to other options later with EPS viewer program(jpg,bmp,png give you black blackgrnd)\n",
    "\n",
    "It is also possible to save the visualization data out to an ARFF file - just use the \"Save\" button. You can then load it back into the Explorer and use any of Weka's filters to manipulate it.\n"
   ]
  },
  {
   "cell_type": "markdown",
   "metadata": {},
   "source": [
    "# Python3 Wrapper for Weka \n",
    "\n",
    "https://pypi.org/project/python-weka-wrapper3/\n",
    "\n",
    "Installation a bit complicated (also needs Javabridge)\n",
    "\n",
    "http://fracpete.github.io/python-weka-wrapper3/install.html\n"
   ]
  }
 ],
 "metadata": {
  "kernelspec": {
   "display_name": "Python 3",
   "language": "python",
   "name": "python3"
  },
  "language_info": {
   "codemirror_mode": {
    "name": "ipython",
    "version": 3
   },
   "file_extension": ".py",
   "mimetype": "text/x-python",
   "name": "python",
   "nbconvert_exporter": "python",
   "pygments_lexer": "ipython3",
   "version": "3.6.4"
  }
 },
 "nbformat": 4,
 "nbformat_minor": 2
}
