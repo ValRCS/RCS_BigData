{
 "cells": [
  {
   "cell_type": "markdown",
   "metadata": {},
   "source": [
    "# RCS Weka Data Mining Software "
   ]
  },
  {
   "cell_type": "markdown",
   "metadata": {},
   "source": [
    "![Weka](weka.jpg)\n",
    "Weka is a collection of machine learning algorithms for data mining tasks. It contains tools for data preparation, classification, regression, clustering, association rules mining, and visualization\n",
    "\n",
    "https://www.cs.waikato.ac.nz/~ml/weka/"
   ]
  },
  {
   "cell_type": "markdown",
   "metadata": {},
   "source": [
    "# Manual\n",
    "http://prdownloads.sourceforge.net/weka/WekaManual-3-9-3.pdf?download (also included in Weka distribution)"
   ]
  },
  {
   "cell_type": "markdown",
   "metadata": {},
   "source": [
    "### Book on using Weka \n",
    "sadly 4th edition has a lot of typos and reference errors\n",
    "\n",
    "https://www.amazon.com/exec/obidos/ASIN/0128042915/departmofcompute"
   ]
  },
  {
   "cell_type": "markdown",
   "metadata": {},
   "source": [
    "## Datasets for Weka\n",
    "https://www.cs.waikato.ac.nz/~ml/weka/datasets.html"
   ]
  },
  {
   "cell_type": "markdown",
   "metadata": {},
   "source": [
    "# 4 different styles of learning\n",
    "\n",
    "* **classification learning**, the learning scheme is presented with a set of classified examples from which it is expected to learn a way of classifying unseen examples. \n",
    "* **Association learning**, any association among features is sought, not just ones that predict a particular class value. \n",
    "* **clustering** groups of examples that belong together are sought. \n",
    "* **numeric prediction**: the outcome to be predicted is not a discrete class but a numeric quantity. Regardless of the type of\n",
    "learning involved, we call the thing to be learned the concept and the output produced by a learning scheme the concept description"
   ]
  },
  {
   "cell_type": "markdown",
   "metadata": {},
   "source": [
    "# TRAINING AND TESTING"
   ]
  },
  {
   "cell_type": "markdown",
   "metadata": {},
   "source": [
    "# CROSS-VALIDATION"
   ]
  },
  {
   "cell_type": "markdown",
   "metadata": {},
   "source": [
    "# MDL principle\n",
    "\n",
    "Occam's Razor - minimize model as much as possible, but no more\n",
    "\n",
    "KISS"
   ]
  },
  {
   "cell_type": "markdown",
   "metadata": {},
   "source": [
    "# Python3 Wrapper for Weka \n",
    "\n",
    "https://pypi.org/project/python-weka-wrapper3/\n",
    "\n",
    "Installation a bit complicated (also needs Javabridge)\n",
    "\n",
    "http://fracpete.github.io/python-weka-wrapper3/install.html\n"
   ]
  }
 ],
 "metadata": {
  "kernelspec": {
   "display_name": "Python 3",
   "language": "python",
   "name": "python3"
  },
  "language_info": {
   "codemirror_mode": {
    "name": "ipython",
    "version": 3
   },
   "file_extension": ".py",
   "mimetype": "text/x-python",
   "name": "python",
   "nbconvert_exporter": "python",
   "pygments_lexer": "ipython3",
   "version": "3.6.4"
  }
 },
 "nbformat": 4,
 "nbformat_minor": 2
}
