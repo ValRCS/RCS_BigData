{
 "cells": [
  {
   "cell_type": "markdown",
   "metadata": {
    "collapsed": true
   },
   "source": [
    "# Introduction\n",
    "Effectiveness of bigram in sentiment analysis."
   ]
  },
  {
   "cell_type": "markdown",
   "metadata": {},
   "source": [
    "# Environment set-up and data preparation\n",
    "Let's start by setting up the environment.\n",
    "To have a clean installation that would not mess up my current python packages, I created a virtual environment named sentimentVenv. The python version is 3.6.\n",
    "\n",
    "```console\n",
    "virtualenv sentimentVenv --python=python3.6\n",
    "```\n",
    "\n",
    "Now, activate the environment.\n",
    "\n",
    "```console\n",
    "source sentimentVenv/bin/activate\n",
    "```\n",
    "\n",
    "Inside this environment, we'll need to install these libraries:\n",
    "* scikit-learn\n",
    "* scipy\n",
    "* jupyter\n",
    "* pandas\n",
    "\n",
    "```console\n",
    "pip install scikit-learn\n",
    "pip install scipy\n",
    "pip install jupyter\n",
    "pip install pandas\n",
    "```\n",
    "\n",
    "The environment should now be ready.\n",
    "The dataset can be downloaded from this link. It includes 50000 text files. Each text represents movie review. These files are stored in pos/neg directory, corresponding sentiment.\n",
    "\n",
    "Let's load the python libraries and have a look at the dataset."
   ]
  },
  {
   "cell_type": "code",
   "execution_count": 1,
   "metadata": {
    "collapsed": true
   },
   "outputs": [],
   "source": [
    "from sklearn.feature_extraction.text import CountVectorizer\n",
    "from sklearn.feature_extraction.text import TfidfTransformer\n",
    "from sklearn.pipeline import Pipeline\n",
    "from sklearn.metrics import classification_report, accuracy_score\n",
    "from sklearn.linear_model import SGDClassifier"
   ]
  },
  {
   "cell_type": "markdown",
   "metadata": {},
   "source": [
    "Let's define a function that loads the dataset and extracts the two columns we need:\n",
    "* The sentiment: a binary (0/1) variable\n",
    "* The text of the movie review: string"
   ]
  },
  {
   "cell_type": "code",
   "execution_count": 68,
   "metadata": {},
   "outputs": [
    {
     "name": "stdout",
     "output_type": "stream",
     "text": [
      "                                              review sentiment\n0  One of the other reviewers has mentioned that ...  positive\n1  A wonderful little production. <br /><br />The...  positive\n2  I thought this was a wonderful way to spend ti...  positive\n3  Basically there's a family where a little boy ...  negative\n4  Petter Mattei's \"Love in the Time of Money\" is...  positive\n"
     ]
    }
   ],
   "source": [
    "import urllib.request\n",
    "import pandas as pd\n",
    "\n",
    "\n",
    "def download(url):\n",
    "    path, _ = urllib.request.urlretrieve(url)\n",
    "    return path\n",
    "\n",
    "\n",
    "def load_data(path):\n",
    "    dataset = pd.read_csv(path)\n",
    "    return dataset\n",
    "\n",
    "url = 'https://github.com/dipanjanS/text-analytics-with-python/blob/master/Chapter-7/movie_reviews.csv?raw=true'\n",
    "path = download(url)\n",
    "dataset = load_data(path)\n",
    "print(dataset.head())\n",
    "\n",
    "# prepare training and testing dataset\n",
    "train_data, test_data = dataset[:25000], dataset[25000:]\n",
    "X_train = train_data['review']\n",
    "y_train = train_data['sentiment']\n",
    "X_test = test_data['review']\n",
    "y_test = test_data['sentiment']"
   ]
  },
  {
   "cell_type": "markdown",
   "metadata": {},
   "source": [
    "# Building a sentiment classifier: unigram features\n",
    "Let's now get to the sentiment classification part. \n",
    "In order to classify text, we have to turn them into vectors as well. In scikit-learn, this task is very easy. We have only to pass dataset to CountVectorizer. It tokenizes text and convert tokenized text to frequency matrix. In addition,, a better operation, we compute weights for words where each weight gives the importance of the word. Such a weight could the tf-idf score.\n",
    "\n",
    "Let's start by building a tf-idf matrix."
   ]
  },
  {
   "cell_type": "code",
   "execution_count": 69,
   "metadata": {},
   "outputs": [],
   "source": [
    "def build_pipeline():\n",
    "    text_clf = Pipeline([('vect', CountVectorizer(min_df=1, stop_words='english', binary=True)),\n",
    "                         ('tfidf', TfidfTransformer()),\n",
    "                         ('clf', SGDClassifier(l1_ratio=0, n_jobs=-1)),\n",
    "                         ])\n",
    "    return text_clf"
   ]
  },
  {
   "cell_type": "markdown",
   "metadata": {},
   "source": [
    "We should now be ready to feed these vectors into a classifier. "
   ]
  },
  {
   "cell_type": "code",
   "execution_count": 70,
   "metadata": {},
   "outputs": [],
   "source": [
    "text_clf = build_pipeline()\n",
    "text_clf = text_clf.fit(X_train, y_train)"
   ]
  },
  {
   "cell_type": "markdown",
   "metadata": {},
   "source": [
    "Now that the model is trained, let's evaluate it on the test set:"
   ]
  },
  {
   "cell_type": "code",
   "execution_count": 71,
   "metadata": {},
   "outputs": [
    {
     "name": "stdout",
     "output_type": "stream",
     "text": [
      "Accuracy: 0.88936\n             precision    recall  f1-score   support\n\n   negative       0.90      0.87      0.89     12474\n   positive       0.88      0.91      0.89     12526\n\navg / total       0.89      0.89      0.89     25000\n\n"
     ]
    }
   ],
   "source": [
    "y_pred = text_clf.predict(X_test)\n",
    "print('Accuracy: {}'.format(accuracy_score(y_test, y_pred)))\n",
    "print(classification_report(y_test, y_pred))"
   ]
  },
  {
   "cell_type": "markdown",
   "metadata": {},
   "source": [
    "Almost 88.9% accuracy. This is not bad. If we tune more parameters,  we reach a higher score."
   ]
  },
  {
   "cell_type": "markdown",
   "metadata": {},
   "source": [
    "# Building a sentiment classifier: bigram features"
   ]
  },
  {
   "cell_type": "code",
   "execution_count": 62,
   "metadata": {},
   "outputs": [],
   "source": [
    "def build_pipeline():\n",
    "    text_clf = Pipeline([('vect', CountVectorizer(ngram_range=(1, 2), token_pattern=r'\\b\\w+\\b', min_df=1, stop_words='english', binary=True)),\n",
    "                         ('tfidf', TfidfTransformer()),\n",
    "                         ('clf', SGDClassifier(l1_ratio=0, n_jobs=-1)),\n",
    "                         ])\n",
    "    return text_clf"
   ]
  },
  {
   "cell_type": "markdown",
   "metadata": {},
   "source": [
    "We should now be ready to feed these vectors into a classifier"
   ]
  },
  {
   "cell_type": "code",
   "execution_count": 63,
   "metadata": {},
   "outputs": [],
   "source": [
    "text_clf = build_pipeline()\n",
    "text_clf = text_clf.fit(X_train, y_train)"
   ]
  },
  {
   "cell_type": "markdown",
   "metadata": {},
   "source": [
    "Now that the model is trained, let's evaluate it on the test set:"
   ]
  },
  {
   "cell_type": "code",
   "execution_count": 64,
   "metadata": {},
   "outputs": [
    {
     "name": "stdout",
     "output_type": "stream",
     "text": [
      "Accuracy: 0.89672\n             precision    recall  f1-score   support\n\n   negative       0.91      0.88      0.89     12474\n   positive       0.88      0.91      0.90     12526\n\navg / total       0.90      0.90      0.90     25000\n\n"
     ]
    }
   ],
   "source": [
    "y_pred = text_clf.predict(X_test)\n",
    "print('Accuracy: {}'.format(accuracy_score(y_test, y_pred)))\n",
    "print(classification_report(y_test, y_pred))"
   ]
  },
  {
   "cell_type": "markdown",
   "metadata": {},
   "source": [
    "Almost 89.7% accuracy. This is not bad. If we tune more parameters,  we reach a higher score."
   ]
  },
  {
   "cell_type": "markdown",
   "metadata": {},
   "source": [
    "# Conclusion\n",
    "In this post we explored different features to perform sentiment analysis: We built a sentiment classifier using unigram and bigram.\n",
    "The classifier using unigram feature resulted in a 83% classification model accuracy. This is not bad.\n",
    "\n",
    "For improving this classifier, we can investigate the classifier using bigram features. The classifier resulted in a 86% accuracy. It is higher than the classifier based on unigram.\n",
    "\n",
    "I hope this tutorial was a good introductory start to sentiment analysis."
   ]
  }
 ],
 "metadata": {
  "kernelspec": {
   "display_name": "Python 2",
   "language": "python",
   "name": "python2"
  },
  "language_info": {
   "codemirror_mode": {
    "name": "ipython",
    "version": 2.0
   },
   "file_extension": ".py",
   "mimetype": "text/x-python",
   "name": "python",
   "nbconvert_exporter": "python",
   "pygments_lexer": "ipython2",
   "version": "2.7.6"
  }
 },
 "nbformat": 4,
 "nbformat_minor": 0
}