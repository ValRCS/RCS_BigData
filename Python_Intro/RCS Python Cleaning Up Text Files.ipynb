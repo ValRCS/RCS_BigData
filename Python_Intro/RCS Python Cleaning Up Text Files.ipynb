{
 "cells": [
  {
   "cell_type": "markdown",
   "metadata": {},
   "source": [
    "## RCS Python Cleaning Up Text Files"
   ]
  },
  {
   "cell_type": "markdown",
   "metadata": {},
   "source": [
    "## Goal - Clean up a text file and obtain some information about the text"
   ]
  },
  {
   "cell_type": "markdown",
   "metadata": {},
   "source": [
    "### String Exercise:\n",
    "* Assign your favorite food to variable myfav\n",
    "* Output 3rd letter of your favorite\n",
    "* Output first 2 letters of your favorite\n",
    "* Output last 3 letters of your favorite\n",
    "* Output reverse of your favorite\n",
    "* Output every 2nd character of your favorite in reverse"
   ]
  },
  {
   "cell_type": "code",
   "execution_count": 86,
   "metadata": {},
   "outputs": [
    {
     "name": "stdout",
     "output_type": "stream",
     "text": [
      " Volume in drive C is CODE\n",
      " Volume Serial Number is AC66-C9D3\n",
      "\n",
      " Directory of C:\\Users\\vdell\\Documents\\Github\\RCS_BigData\\Python_Intro\n",
      "\n",
      "08/22/2018  12:58 PM    <DIR>          .\n",
      "08/22/2018  12:58 PM    <DIR>          ..\n",
      "08/22/2018  11:48 AM    <DIR>          .ipynb_checkpoints\n",
      "08/21/2018  02:41 PM            12,928 CH1_BASK.txt\n",
      "08/22/2018  11:57 AM            14,071 cleaned.txt\n",
      "08/22/2018  11:44 AM            35,665 RCS Data Analytics - Intro to Python.ipynb\n",
      "08/22/2018  12:58 PM           145,201 RCS Python Cleaning Up Text Files.ipynb\n",
      "08/22/2018  11:44 AM               153 README.md\n",
      "08/22/2018  12:46 PM            29,662 supernatural.png\n",
      "08/21/2018  02:41 PM            14,885 Veidenbaums.txt\n",
      "               7 File(s)        252,565 bytes\n",
      "               3 Dir(s)  38,295,932,928 bytes free\n"
     ]
    }
   ],
   "source": [
    "!dir \n",
    "# ! allows Jupyter to perform normal system commands (just like command line)"
   ]
  },
  {
   "cell_type": "code",
   "execution_count": 87,
   "metadata": {},
   "outputs": [
    {
     "data": {
      "application/json": {
       "cell": {
        "!": "OSMagics",
        "HTML": "Other",
        "SVG": "Other",
        "bash": "Other",
        "capture": "ExecutionMagics",
        "cmd": "Other",
        "debug": "ExecutionMagics",
        "file": "Other",
        "html": "DisplayMagics",
        "javascript": "DisplayMagics",
        "js": "DisplayMagics",
        "latex": "DisplayMagics",
        "markdown": "DisplayMagics",
        "perl": "Other",
        "prun": "ExecutionMagics",
        "pypy": "Other",
        "python": "Other",
        "python2": "Other",
        "python3": "Other",
        "ruby": "Other",
        "script": "ScriptMagics",
        "sh": "Other",
        "svg": "DisplayMagics",
        "sx": "OSMagics",
        "system": "OSMagics",
        "time": "ExecutionMagics",
        "timeit": "ExecutionMagics",
        "writefile": "OSMagics"
       },
       "line": {
        "alias": "OSMagics",
        "alias_magic": "BasicMagics",
        "autocall": "AutoMagics",
        "automagic": "AutoMagics",
        "autosave": "KernelMagics",
        "bookmark": "OSMagics",
        "cd": "OSMagics",
        "clear": "KernelMagics",
        "cls": "KernelMagics",
        "colors": "BasicMagics",
        "config": "ConfigMagics",
        "connect_info": "KernelMagics",
        "copy": "Other",
        "ddir": "Other",
        "debug": "ExecutionMagics",
        "dhist": "OSMagics",
        "dirs": "OSMagics",
        "doctest_mode": "BasicMagics",
        "echo": "Other",
        "ed": "Other",
        "edit": "KernelMagics",
        "env": "OSMagics",
        "gui": "BasicMagics",
        "hist": "Other",
        "history": "HistoryMagics",
        "killbgscripts": "ScriptMagics",
        "ldir": "Other",
        "less": "KernelMagics",
        "load": "CodeMagics",
        "load_ext": "ExtensionMagics",
        "loadpy": "CodeMagics",
        "logoff": "LoggingMagics",
        "logon": "LoggingMagics",
        "logstart": "LoggingMagics",
        "logstate": "LoggingMagics",
        "logstop": "LoggingMagics",
        "ls": "Other",
        "lsmagic": "BasicMagics",
        "macro": "ExecutionMagics",
        "magic": "BasicMagics",
        "matplotlib": "PylabMagics",
        "mkdir": "Other",
        "more": "KernelMagics",
        "notebook": "BasicMagics",
        "page": "BasicMagics",
        "pastebin": "CodeMagics",
        "pdb": "ExecutionMagics",
        "pdef": "NamespaceMagics",
        "pdoc": "NamespaceMagics",
        "pfile": "NamespaceMagics",
        "pinfo": "NamespaceMagics",
        "pinfo2": "NamespaceMagics",
        "pip": "BasicMagics",
        "popd": "OSMagics",
        "pprint": "BasicMagics",
        "precision": "BasicMagics",
        "profile": "BasicMagics",
        "prun": "ExecutionMagics",
        "psearch": "NamespaceMagics",
        "psource": "NamespaceMagics",
        "pushd": "OSMagics",
        "pwd": "OSMagics",
        "pycat": "OSMagics",
        "pylab": "PylabMagics",
        "qtconsole": "KernelMagics",
        "quickref": "BasicMagics",
        "recall": "HistoryMagics",
        "rehashx": "OSMagics",
        "reload_ext": "ExtensionMagics",
        "ren": "Other",
        "rep": "Other",
        "rerun": "HistoryMagics",
        "reset": "NamespaceMagics",
        "reset_selective": "NamespaceMagics",
        "rmdir": "Other",
        "run": "ExecutionMagics",
        "save": "CodeMagics",
        "sc": "OSMagics",
        "set_env": "OSMagics",
        "store": "StoreMagics",
        "sx": "OSMagics",
        "system": "OSMagics",
        "tb": "ExecutionMagics",
        "time": "ExecutionMagics",
        "timeit": "ExecutionMagics",
        "unalias": "OSMagics",
        "unload_ext": "ExtensionMagics",
        "who": "NamespaceMagics",
        "who_ls": "NamespaceMagics",
        "whos": "NamespaceMagics",
        "xdel": "NamespaceMagics",
        "xmode": "BasicMagics"
       }
      },
      "text/plain": [
       "Available line magics:\n",
       "%alias  %alias_magic  %autocall  %automagic  %autosave  %bookmark  %cd  %clear  %cls  %colors  %config  %connect_info  %copy  %ddir  %debug  %dhist  %dirs  %doctest_mode  %echo  %ed  %edit  %env  %gui  %hist  %history  %killbgscripts  %ldir  %less  %load  %load_ext  %loadpy  %logoff  %logon  %logstart  %logstate  %logstop  %ls  %lsmagic  %macro  %magic  %matplotlib  %mkdir  %more  %notebook  %page  %pastebin  %pdb  %pdef  %pdoc  %pfile  %pinfo  %pinfo2  %popd  %pprint  %precision  %profile  %prun  %psearch  %psource  %pushd  %pwd  %pycat  %pylab  %qtconsole  %quickref  %recall  %rehashx  %reload_ext  %ren  %rep  %rerun  %reset  %reset_selective  %rmdir  %run  %save  %sc  %set_env  %store  %sx  %system  %tb  %time  %timeit  %unalias  %unload_ext  %who  %who_ls  %whos  %xdel  %xmode\n",
       "\n",
       "Available cell magics:\n",
       "%%!  %%HTML  %%SVG  %%bash  %%capture  %%cmd  %%debug  %%file  %%html  %%javascript  %%js  %%latex  %%markdown  %%perl  %%prun  %%pypy  %%python  %%python2  %%python3  %%ruby  %%script  %%sh  %%svg  %%sx  %%system  %%time  %%timeit  %%writefile\n",
       "\n",
       "Automagic is ON, % prefix IS NOT needed for line magics."
      ]
     },
     "execution_count": 87,
     "metadata": {},
     "output_type": "execute_result"
    }
   ],
   "source": [
    "%lsmagic #show Jupyter magic commands\n",
    "# https://ipython.readthedocs.io/en/stable/interactive/magics.html\n",
    "\n",
    "# %save and %load might be useful for us\n",
    "# %history also might come in handy"
   ]
  },
  {
   "cell_type": "markdown",
   "metadata": {},
   "source": [
    "# Sets\n",
    "* unordered\n",
    "* uniques only\n",
    "* curly braces {3, 6, 7}"
   ]
  },
  {
   "cell_type": "code",
   "execution_count": null,
   "metadata": {},
   "outputs": [],
   "source": [
    "s={3,3,6,1,3,6,7}\n",
    "print(s)"
   ]
  },
  {
   "cell_type": "code",
   "execution_count": null,
   "metadata": {},
   "outputs": [],
   "source": [
    "list(s)"
   ]
  },
  {
   "cell_type": "code",
   "execution_count": null,
   "metadata": {},
   "outputs": [],
   "source": [
    "s.issuperset(range(6))"
   ]
  },
  {
   "cell_type": "code",
   "execution_count": null,
   "metadata": {},
   "outputs": [],
   "source": [
    "s2={3,6,76,2,8,8}\n",
    "s2"
   ]
  },
  {
   "cell_type": "code",
   "execution_count": null,
   "metadata": {},
   "outputs": [],
   "source": [
    "s3=s.union(s2)\n",
    "s3"
   ]
  },
  {
   "cell_type": "code",
   "execution_count": null,
   "metadata": {},
   "outputs": [],
   "source": [
    "s4=s.difference(s2)\n",
    "s4"
   ]
  },
  {
   "cell_type": "code",
   "execution_count": null,
   "metadata": {},
   "outputs": [],
   "source": [
    "s.intersection(s2)"
   ]
  },
  {
   "cell_type": "code",
   "execution_count": null,
   "metadata": {},
   "outputs": [],
   "source": [
    "dir(s)"
   ]
  },
  {
   "cell_type": "markdown",
   "metadata": {},
   "source": [
    "## Tuples\n",
    "* ordered\n",
    "* immutable (cannot be changed!)\n",
    "* Can be used as a collection of fields"
   ]
  },
  {
   "cell_type": "code",
   "execution_count": 98,
   "metadata": {},
   "outputs": [
    {
     "name": "stdout",
     "output_type": "stream",
     "text": [
      "(6, 4, 9, 11, -5, 9, 3)\n"
     ]
    }
   ],
   "source": [
    "mytuple = 6, 4, 9, 11, -5, 9, 3\n",
    "print(mytuple)"
   ]
  },
  {
   "cell_type": "code",
   "execution_count": null,
   "metadata": {},
   "outputs": [],
   "source": [
    "mytuple[2]"
   ]
  },
  {
   "cell_type": "code",
   "execution_count": 99,
   "metadata": {},
   "outputs": [
    {
     "data": {
      "text/plain": [
       "2"
      ]
     },
     "execution_count": 99,
     "metadata": {},
     "output_type": "execute_result"
    }
   ],
   "source": [
    "mytuple.count(9)"
   ]
  },
  {
   "cell_type": "code",
   "execution_count": 100,
   "metadata": {},
   "outputs": [
    {
     "data": {
      "text/plain": [
       "2"
      ]
     },
     "execution_count": 100,
     "metadata": {},
     "output_type": "execute_result"
    }
   ],
   "source": [
    "mytuple.index(9)"
   ]
  },
  {
   "cell_type": "code",
   "execution_count": null,
   "metadata": {},
   "outputs": [],
   "source": [
    "dir(mytuple)"
   ]
  },
  {
   "cell_type": "markdown",
   "metadata": {},
   "source": [
    "### Cleaning Up Text"
   ]
  },
  {
   "cell_type": "code",
   "execution_count": 1,
   "metadata": {},
   "outputs": [],
   "source": [
    "import os"
   ]
  },
  {
   "cell_type": "code",
   "execution_count": 2,
   "metadata": {},
   "outputs": [],
   "source": [
    "fname = \"Veidenbaums.txt\""
   ]
  },
  {
   "cell_type": "code",
   "execution_count": 5,
   "metadata": {},
   "outputs": [
    {
     "data": {
      "text/plain": [
       "'C:\\\\Users\\\\vdell\\\\Documents\\\\Github\\\\RCS_BigData\\\\Python_Intro\\\\Veidenbaums.txt'"
      ]
     },
     "execution_count": 5,
     "metadata": {},
     "output_type": "execute_result"
    }
   ],
   "source": [
    "fpath = os.path.join(os.getcwd(), fname) # could add extra folders here as arguments\n",
    "fpath"
   ]
  },
  {
   "cell_type": "code",
   "execution_count": 6,
   "metadata": {},
   "outputs": [
    {
     "data": {
      "text/plain": [
       "'C:\\\\Users\\\\vdell\\\\Documents\\\\Github\\\\RCS_BigData\\\\Python_Intro\\\\cleaned.txt'"
      ]
     },
     "execution_count": 6,
     "metadata": {},
     "output_type": "execute_result"
    }
   ],
   "source": [
    "newpath = os.path.join(os.getcwd(), 'cleaned.txt')\n",
    "newpath"
   ]
  },
  {
   "cell_type": "code",
   "execution_count": 7,
   "metadata": {},
   "outputs": [],
   "source": [
    "badwords = ['***']"
   ]
  },
  {
   "cell_type": "code",
   "execution_count": 8,
   "metadata": {},
   "outputs": [],
   "source": [
    "with open(fpath, encoding='utf-8') as oldfile, open(newpath, 'w', encoding='utf-8') as newfile:\n",
    "    for line in oldfile:\n",
    "        if not any(badword in line for badword in badwords):\n",
    "            newfile.write(line)\n"
   ]
  },
  {
   "cell_type": "code",
   "execution_count": 9,
   "metadata": {},
   "outputs": [
    {
     "data": {
      "text/plain": [
       "12129"
      ]
     },
     "execution_count": 9,
     "metadata": {},
     "output_type": "execute_result"
    }
   ],
   "source": [
    "with open(newpath, encoding='utf-8') as f:\n",
    "    txt=f.read()\n",
    "len(txt)"
   ]
  },
  {
   "cell_type": "code",
   "execution_count": 11,
   "metadata": {},
   "outputs": [
    {
     "data": {
      "text/plain": [
       "'\\n\\n\\n\\n\\n\\nPēc ideāliem cenšas lielie gari,\\n\\nBet dzīvē ieņemt vietu pirmie\\n\\nTie neiespēj, tos nomāc maize'"
      ]
     },
     "execution_count": 11,
     "metadata": {},
     "output_type": "execute_result"
    }
   ],
   "source": [
    "txt[:100]"
   ]
  },
  {
   "cell_type": "code",
   "execution_count": 12,
   "metadata": {},
   "outputs": [
    {
     "data": {
      "text/plain": [
       "11626"
      ]
     },
     "execution_count": 12,
     "metadata": {},
     "output_type": "execute_result"
    }
   ],
   "source": [
    "# easy recipe for cleaning up text, remember this one!\n",
    "badchars = ',;:!?.\"\\'-'\n",
    "for char in badchars:\n",
    "    txt = txt.replace(char, '')\n",
    "len(txt)\n",
    "\n",
    "#regular expressions can be used for more difficult clean up tasks"
   ]
  },
  {
   "cell_type": "code",
   "execution_count": 13,
   "metadata": {},
   "outputs": [
    {
     "data": {
      "text/plain": [
       "'\\n\\n\\n\\n\\n\\nPēc ideāliem cenšas lielie gari\\n\\nBet dzīvē ieņemt vietu pirmie\\n\\nTie neiespēj tos nomāc maizes kari\\n\\nTos nomāc aizspriedumi sirmie\\n\\n\\n\\n\\n\\n\\n\\n\\n\\nVirs zemes nav taisnības dūrei tik spēks\\n\\nKas varmākām skādi dar nosaukts tiek grēks\\n\\nPar tiesnešiem cienīti blēži sēž\\n\\nUn godīgie ādu nost citiem plēš\\n\\nUn cienīgs tēvs zaglis teic sprediķus\\n\\nTik pacieties debesīs labāki būs\\n\\nVirs zemes nav laimes tik zvēru pulks bļauj\\n\\nViens otram iz mutes tie maizi sev rauj\\n\\nUn priecīgs ikkatris kad vēders tik pilns\\n\\nKad bērni ir veseli dzīvoklis silts\\n\\nUn glaimojot salkušie rakstnieki sauc\\n\\nCik praktiska tauta Tai cerību daudz\\n\\nJā cerību gan Vēl nosirmos laiks\\n\\nUn redzams būs strādnieku moku pilns vaigs\\n\\nVēl liekēži slinkos un godīgi krāps\\n\\nPēc debesu viltības ļaudis vēl slāps\\n\\nZem kājām vēl varmākas taisnību mīs\\n\\nPar kaujamiem lopiem vēl cilvēkus dzīs\\n\\nUn muļķīgas dzejas vēl dzejnieki kals\\n\\nUn vaimanās paši kad salks un sals\\n\\n\\n\\n\\n\\n\\n\\n\\n\\nAr šīs zemes varenajiem kopā tu varēji būt\\n\\nUn valdīt un kārumu baudīt un līgsmot ik dienas\\n\\nBet cilvēces bēdas un trūkumus sirds tevim jūt\\n\\nUn tumsības slogus un varmāku nastas ikvienas\\n\\nUn tēvijas neatzīts svešumā dodies tu tāļi\\n\\nUn sludini taisnību māci ka cilvēki brāļi\\n\\nKa pasaules mantas mums mierināt nespēj prāta\\n\\nJa ticības trūkst un mīlestīb sirdīs nav krāta\\n\\nTu priekus tiem nesi kas tumsībā grūtībā smaka\\n\\nTu vārguļu sagrauztām sirdīm bij dzīvības aka\\n\\nTu cilvēci sildīji garīgās verdzības salnā\\n\\nBet atmaksu cilvēce deva tev  Golgatas kalnā\\n\\n\\n\\n\\n\\n\\n\\n\\n\\nDomāju es domas dziļas\\n\\nKādēļ laime mani nīd\\n\\nViss ko daru viss man viļas\\n\\nVisās vietās kājas slīd\\n\\nCitam nav nekāda darba\\n\\nNauda kā no gaisa birst\\n\\nMan ir dzīve sūra skarba\\n\\nJābadojas kamēr mirst\\n\\nNav pie dvēseles ne graša\\n\\nPrasi kādam  kas tev dos\\n\\nLabāk vienreiz nāve aša\\n\\nNekā dzīve nabagos\\n\\nEzers lejā spīd netāļi\\n\\nIekšā tur  būs raizēm gals\\n\\nNu ardievu bēdu brāļi\\n\\nNeskanēs vairs mana balss\\n\\nCeļš vēl garām ved gar krogu\\n\\nIekšā danco dzied un smej\\n\\nUn caur apgaismoto logu\\n\\nRedzu alu glāzēs lej\\n\\nVai tad es jau tīri bešā\\n\\nRoka ātri svārkos ķer \\n\\nDesmit kapeikas vēl ķešā\\n\\nTās pirms nāves jānodzer\\n\\nSteidzos iekšā vienu glāzi\\n\\nIesviežu vēl vienu vēl…\\n\\nUn ar katru alus lāsi\\n\\nPaliek dzīvības man žēl\\n\\nAtliks miršanu uz rītu\\n\\nŠodien vēlu staigāt turp\\n\\nKrodzniek dosi vēl uz krītu\\n\\n Došu  Duci alu šurp\\n\\nOtrreiz bija tāda liga\\n\\nSkaistule man solījās\\n\\nMūžam būšot uzticīga \\n\\nDumjš kas sievām paļaujas\\n\\nDrīz iz pilsētas švīts nāca\\n\\nGlumi apģērbts uzķemmēts\\n\\nLakstoties ap viņu sāca\\n\\nDāvā rotas  viss tam lēts\\n\\nDomāju tā neatļausies\\n\\nSirdi viņam neatdos\\n\\nBet it nejauši reiz  klausies \\n\\nBaznīcā jau uzsauc tos\\n\\nAsinis man dusmās vārās\\n\\nUn kaut sirdi sāpes spiež\\n\\nBet pēc atriebšanas kāras\\n\\nDūres naža spalu griež\\n\\nViņam jāmirst Steigšus gāju\\n\\nTe man uzsauc draugs kur nu\\n\\nIesviedīsim ceļa kāju\\n\\nNāc man līdz uz kabaku\\n\\nSviedām sviedām… rīts jau ausa \\n\\nAizmirsts viss kas rūpes dar\\n\\nKājas galva knapi klausa\\n\\nZudušas bij dusmas ar\\n\\nTādēļ tagad katru reizi\\n\\nIedzeru kad slikts ir prāts\\n\\nUn ja kājas iet ar greizi\\n\\nTas jau nava grēks nekāds\\n\\n\\n\\n\\n\\n\\n\\n\\n\\nDaudz prātīgu cilvēku pasaulē dzīvo\\n\\nTie strādā kā skudras un rūpīgi krāj\\n\\nTie nolād alu tie nolād sīvo\\n\\nUn strādā un krāj līdz smiltis tos klāj\\n\\nDaudz godīgu cilvēku pasaulē dzīvo\\n\\nTie manīgi cita nopelnu slauc\\n\\nAr manšetēm baltām ar apkakli stīvo\\n\\nTie pasaules drūzmā kā valdnieki brauc\\n\\nBet ticīgo muļķu visvairāk ir radīts\\n\\nTie galviņas nodur un dieviņam tic\\n\\nTāds rokas laiza kad sists tiek un badīts\\n\\nUn dieviņam pateic kad piekrāpj to cits\\n\\nUn ārprātīgie ir ceturtā suga \\n\\nDiemžēl ka viņu tik visai nedaudz \\n\\nPie sirds kam ķeras šī bēdu luga\\n\\nKas muļķus pie gaismas pie brīvības sauc\\n\\n\\n\\n\\n\\n\\n\\n\\n\\nEj un dzenies tik pēc naudas\\n\\nKrāp un blēdī cik tik jaudas\\n\\nRauj no citiem rauj kur dabū\\n\\nSkaties tik uz savu labu\\n\\nTomēr strādā apdomīgi\\n\\nStingri cieti likumīgi\\n\\nValdniekiem godu rādi\\n\\nLai tie būtu vai nu kādi\\n\\nBagātniekus turi cieņā\\n\\nLīdzēt var tie ļaunā dienā\\n\\nTā tu dzīvo tikumīgi\\n\\nStingri cieti likumīgi\\n\\nBūs tev nauda būs tev vieta\\n\\nDzīves grunte droša cieta\\n\\nCienīs tevi klanīdamies\\n\\nStrādās tevim lādēdamies\\n\\nValdīsi tu likumīgi \\n\\nStingri cieti tikumīgi\\n\\nTad tu vari palīgsmoties\\n\\nLabi sevi pamieloties\\n\\nPaņemt sievu padevīgu\\n\\nTuklu dumju paklausīgu\\n\\nPapriecāties likumīgi\\n\\nRadīt bērnus tikumīgi\\n\\n\\n\\n\\n\\n\\n\\n\\n\\nKam velti dārgo laiku tērē\\n\\nUn dzejām papīri tu smērē\\n\\nSen beidzies dzejas laikmets svēts\\n\\nPēc maizes tagad cilvēks brēc\\n\\nJo mūsu prozaiskās dienās\\n\\nNav žēlabainām dzejām cieņas\\n\\nĒst salkušam tās nevar dot\\n\\nUn paēdis tās nesaprot\\n\\nTu raksti romānīšus vieglus\\n\\nUn saprātīgi zobojies\\n\\nLai plašai publikai ceļ smieklus \\n\\nTu redzēsi kā tad tev ies\\n\\nBūs slava liela kaudzēm naudas\\n\\nUn dzīvi baudīsi cik jaudas\\n\\n\\n\\n\\n\\n\\n\\n\\n\\nMums latviešiem dzejnieku milzīgs bars\\n\\nNo tiesas tiem dodam šo vārdu\\n\\nJo viņu dzejās mīt burvības gars\\n\\nTās miegu mums dāvina gārdu\\n\\n\\n\\n\\n\\n\\n\\n\\n\\nJa gribi tikt pie labas vietas\\n\\nTad klanies lokies rokas laizi\\n\\nGan citi sauc tās kauna lietas\\n\\nPar to nekas kad nāk tik maize\\n\\nPie bagātnieku lepniem galdiem\\n\\nTu pazemīgi klātu lieni\\n\\nUn glaimošanas vārdiem saldiem\\n\\nCik vien ir spējas katru cieni\\n\\nBet dieva dēļ ar zemākajiem\\n\\nNekad lai kopā neredz tevi\\n\\nMin labāk kāju virsū vājiem\\n\\nJo prātīgs gādā tik par sevi\\n\\nTā drīz tu augstā vietā tiksi\\n\\nTev slavēs teiks par lielu garu\\n\\nTu līdzbiedrus zem kājām liksi\\n\\nUn katris bīsies tavu varu\\n\\n\\n\\n\\n\\n\\n\\n\\n\\nNu tu vari palīgsmoties\\n\\nLabi sevi pamieloties\\n\\nPaņemt sievu padevīgu\\n\\nTuklu dumju paklausīgu\\n\\nPapriecāties likumīgi\\n\\nRadīt bērnus tikumīgi\\n\\n\\n\\n\\n\\nGudro cik gudrodams nekāda mērķa nevar atrast dzīvei visi ideāļi tuvāk apskatot izrādās no tārpiem izēsti un galu galā tev jāpaliek vai nu lopam kas nekā nedomā cita kā tik par ēšanu jeb pesimistam\\n\\n(Vēstule E TreimanimZvārgulim 1890 gada 5 jūlijā)\\n\\n\\n\\n\\n\\n\\n\\n\\n\\nReiz zaļoja jaunība cerības plauka\\n\\nTad asins bij karsta tad gaišs bija laiks\\n\\nUn pasaule visa tik krāšņa tik jauka\\n\\nUn nākotne spoža kā saules vaigs\\n\\nLaiks aizgāja cerības zuda kā dūmi\\n\\nViss mira kas agrāk bij daiļš kas bij svēts\\n\\nReiz dievīgie tēli tik bāli tik drūmi\\n\\nUn dīdzis nekas nav kas ticībā sēts\\n\\nUn tukšām paliekot zinību slāpēm\\n\\nUn beidzoties visam kas daiļš bij kas svēts\\n\\nSirds pildījās nāvīgām asiņu sāpēm\\n\\nBet pagātne arī jau sāpes sedz\\n\\nUn tagad es nicinu pasaules lietas\\n\\nJo redzu ka viss tikai murgi un nieks\\n\\nPar laimi pret nelaimi krūtis ir cietas\\n\\nMan gluži vienalga vai bēdas vai prieks\\n\\n\\n\\n\\n\\n\\n\\n\\n\\nIedzer brāli Ātrām kājām\\n\\nMūža dienas projām skrien\\n\\nNāve sauc uz tumšām mājām\\n\\nIedzer kamēr kapā lien\\n\\nIedzer brāli Laiki grūti\\n\\nDzīves ērkšķi nikni dur\\n\\nIedzer Mazāk sāpes jūti\\n\\nJaunu dzīvi alus bur\\n\\nIedzer brāli Nodzer prātu \\n\\nPrāts tik bēdu kaudzes ceļ\\n\\nMuļķis tikai domas krātu\\n\\nGudrais ellē viņas veļ\\n\\n\\n\\n\\n\\n\\n\\n\\n\\nGrāmatu kaudzes\\n\\nVelti tu šķirsti\\n\\nMirušās audzes\\n\\nPētī līdz mirsti\\n\\nZinību nieki\\n\\nMuļķus lai baro\\n\\nPasaules prieki\\n\\nGaišāki staro\\n\\n\\n\\n\\n\\n\\n\\n\\n\\nKā gulbji balti padebeši iet\\n\\nTiem vēlētos es līdza tāļu skriet\\n\\nTur tāļumā tur ziemas nepazīst\\n\\nTur rozes mūžam zied un nenovīst\\n\\nKam veltīgi laimību kāro tu sirds\\n\\nMet projām reiz cerības tumšajā kapā\\n\\nNo saulainām lejām ir mirstīgais šķirsts\\n\\nTam jādzīvo asaru dūksnājā slapjā\\n\\nKur dzelži un cirvji bez rimšanas klaudz\\n\\nPēc maizes pēc pārtikas vergi kur kauc\\n\\nNo stiprākā samīts vājāks kur lūst\\n\\nUn asins un sviedri ik dienas kur plūst\\n\\n\\n\\n\\n\\n\\n\\n\\n\\nEs domāju ka pasaulē\\n\\nNav prātīgas it nekas\\n\\nUn mūsu dzīves nozīme\\n\\nIr tīrās muļķības\\n\\nBez mērķa cilvēks blandās te\\n\\nPar gudrām lietām spriedelē\\n\\nBet galā dumjš ir viss\\n\\nUn vēders  dievs visaugstākais\\n\\nIkkatris pats sev tuvākais\\n\\nTiklīdz kā izsalcis\\n\\n\\n\\n\\n\\n\\n\\n\\n\\nViss atriebies apnicis ir \\n\\nKo kavējies dzīvajos vēl\\n\\nLai lode reiz likteni šķir\\n\\nTev droši pēc nebūs žēl\\n\\nŠis niecīgais muļķīgais prieks\\n\\nTev laimes šeit nevar dot\\n\\nKaut būtu tu valdnieks\\n\\nIr tas nevar ielīgsmot\\n\\nBet valdnieks nebūsi tu\\n\\nBet tiksi zem kājām mīdīts\\n\\nNo citiem pie malas bīdīts\\n\\nKam žēlo tad dzīvību\\n\\nTik dusmas un sāpes tev būs\\n\\nUn nespēsi mierināt viņas\\n\\nUn jāiet pēc varmāku ziņas\\n\\nLīdz dzīvība verdzībā žūs\\n\\nUn ka ar tev laimes stars\\n\\nKā aklajai vistai grauds\\n\\nReiz atrastos  tomēr tavs gars\\n\\nUz nīcību drūmīgi sauc\\n\\nNav labs it nekas kam nīkt\\n\\nKam izputēt nolemts un beigties\\n\\nTu pasteidzies drīzāki steigties\\n\\nLai…\\n\\nEs laimi nicināju\\n\\nMan nevajaga tās\\n\\n\\n\\n\\n\\n\\n\\n\\n\\nViss ir joks par visu smejies\\n\\nLaid lai citi raud un vaid\\n\\nJa ir labi  pakavējies\\n\\nUn ja netīk  projām laid\\n\\nProjām laid uz citām malām\\n\\nVienā vietā sasmok drīz\\n\\nVai līdz otram pasauls galam\\n\\nLīdz sev priekus atradis\\n\\nJa nav naudas spārni īsi\\n\\nGuli tur kur liktens sien\\n\\nGaidi nāvi paradīzi\\n\\nPaliec vājš un bedrē lien\\n\\n\\n\\n\\n\\n\\n\\n\\n\\nKuļos es kā pliks pa nātrēm\\n\\nRaizes moca nakt un dien\\n\\nUn pa tam līdz vējam ātram\\n\\nDzīves ziedons projām skrien\\n\\nTumsība kur vien tik skatās\\n\\nAukstums visur kur vien iet\\n\\nAk uz visas pasauls platās\\n\\nNav neviens kam laime zied\\n\\n\\n\\n\\n\\n\\n\\n\\n\\nVai senatnē vien tikai vīri bija\\n\\nKam liktenis rūpestus nedarīja\\n\\nKam mierīgs kā Zokratam palika vaigs\\n\\nLai trakoja vētra lai skaists bija laiks\\n\\nVēl tagad ikkatram pār dabu ir vara\\n\\nKam sirdī ir spožums no mūžības gara\\n\\n\\n\\n\\n\\n\\n\\n\\n\\nĪsts filozofs nav pesimists\\n\\nBet dzīvi jautri bauda\\n\\nUn priecājas cik jauda\\n\\nVēl mieži laukos kupli briest\\n\\nVēl netrūkst daiļas skuķes\\n\\nKam patīk tas var raizes ciest\\n\\nEs labāk guļu puķēs\\n\\n\\n\\n\\n\\n\\n\\n\\nVēl neesmu dubļos tik dziļi es stidzis\\n\\nVēl spēks man ir atgriezties labākam būt\\n\\nIz sirds vēl dievības gaišums nav nīcis\\n\\nVēl dvēsele augstākas iegribas jūt\\n\\nIkkatram ir uzdevums grūtības nest\\n\\nTā dieva prāts mūs radot spriedis\\n\\nNevienam nav atļauts prom dzīvību mest\\n\\nKaut daudz tas ar dzīvojot raudājis cietis\\n\\nMums augstāks mērķis aiz zvaigznēm ir sprausts\\n\\nKaut šaubās un šaubīsies cilvēka prāts\\n\\nLai jaunam ar līķa palags tiek austs\\n\\nLai asarās paliekam skumdināti\\n\\nBet tomēr mums jātic ka nekrīt ne mats\\n\\nKo neredz un nezina dievības acs\\n\\nMums jādzīvo jātic ka nemirstīgs gars\\n\\nKa ziedēs pēc nāves vēl pavasars\\n\\nTā raižu un grūtību niknajos karos\\n\\nMums debesu līgsmībā dvēseles staros\\n\\n\\n\\n\\n\\n\\n\\n\\n\\nVēl desmit divdesmit gadus \\n\\nUn lugai būs pienācis gals\\n\\nVai slinkojis būtu vai centies\\n\\nReiz trūdēt sauc likteņa balss\\n\\nUn tomēr te dzīvē sapņots\\n\\nPar mūžīgām lietām tiek\\n\\nPar laimi par slavu par godu \\n\\nUz kapa grib laurus lai liek\\n\\nBet lauri un gods un slava\\n\\nLīdz iznīkst kā beidzies tu pats\\n\\nUn tāļāk un atkal tāļāk\\n\\nRit šausmīgais mūžības rats\\n\\n\\n\\n\\n\\n\\n\\n\\n\\nNost reiz skumjību sviedīšu tumšo\\n\\nBeigšu pēc nāves reiz ilgoties\\n\\nIesākšu ticēt ka mērķis ir dzīvei\\n\\nGan tad nāks spēks gan labāki ies\\n\\nTumšajā zilumā spīguļo zvaigznes\\n\\nMūžīgā kārtībā kustas to bars\\n\\nCilvēka likteņa drūmajos viļņos\\n\\nValda bez rimšanas dievības gars\\n\\nĪss gan izrādās dzīvības sprīdis\\n\\nTuvu ir kopā šūpuliskaps\\n\\nTomēr no svara ir katris brīdis\\n\\nDzīve ir laba kad mērķis tai labs\\n\\nTādēļ projām skumjība bēdas\\n\\nStrādāšu centīšos vēl man ir laiks\\n\\nLabošu pagātnes riebīgās pēdas\\n\\nLaime nāks atpakaļ priecīgs būs vaigs\\n\\n\\n\\n\\n\\n\\n\\n\\n\\nMosties mosties reiz svabadais gars\\n\\nCelies uz salauzi kalpības spaidus\\n\\nAtpestī cietējus klusini vaidus \\n\\nMosties brīvības cēlajais gars\\n\\nTumšos varmākas zemē triec\\n\\nSvētos bizuļusgarīdzniekus\\n\\nKuri melš krāpdami debesu niekus\\n\\nTicības māņus pie malas liec\\n\\nZemē kungus kas lepnībā sēž\\n\\nŠķērdīgi putina miljonu sviedrus\\n\\nZemē kundzības draugus un biedrus\\n\\nKas savus brāļus spaida un plēš\\n\\n\\n\\n\\n\\n\\n\\n\\n\\nKur klusā naktī lakstīgalas dzied\\n\\nTur klausīties man labprāt tīkas iet\\n\\nTur bučoties man labprāt tīkas iet\\n\\nTur bučoties ar daiļām meitenēm\\n\\nUn izrauties iz dzīves ķibelēm\\n\\nBet vairāk tīk man tur kur lodes dzied\\n\\nKur asins kaujā brīvie vergi iet\\n\\nKur skaņas dziesmas atskan trokšņainas\\n\\nUn peklē gāžas lepnie varmākas\\n\\n\\n\\n\\n\\n\\n\\n\\n\\nKas staigājot pa košām puķu lejām\\n\\nTik apskaita cik siena viņas dos\\n\\nLai mani nelasa Pie manām dzejām\\n\\nTik piktu prātu viņš sev iemantos\\n\\n\\n\\n\\n\\n'"
      ]
     },
     "execution_count": 13,
     "metadata": {},
     "output_type": "execute_result"
    }
   ],
   "source": [
    "txt"
   ]
  },
  {
   "cell_type": "code",
   "execution_count": null,
   "metadata": {},
   "outputs": [],
   "source": [
    "# Alex Martelli's extra whitespace cleaner\n",
    "# ' '.join(mystring.split())"
   ]
  },
  {
   "cell_type": "code",
   "execution_count": 14,
   "metadata": {},
   "outputs": [
    {
     "data": {
      "text/plain": [
       "1870"
      ]
     },
     "execution_count": 14,
     "metadata": {},
     "output_type": "execute_result"
    }
   ],
   "source": [
    "words = txt.split() #optional def of separator\n",
    "len(words)"
   ]
  },
  {
   "cell_type": "code",
   "execution_count": 15,
   "metadata": {},
   "outputs": [
    {
     "data": {
      "text/plain": [
       "1870"
      ]
     },
     "execution_count": 15,
     "metadata": {},
     "output_type": "execute_result"
    }
   ],
   "source": [
    "cwords = [word.title() for word in words]\n",
    "len(cwords)"
   ]
  },
  {
   "cell_type": "code",
   "execution_count": 16,
   "metadata": {},
   "outputs": [
    {
     "data": {
      "text/plain": [
       "1072"
      ]
     },
     "execution_count": 16,
     "metadata": {},
     "output_type": "execute_result"
    }
   ],
   "source": [
    "vdict = { word: cwords.count(word) for word in set(cwords)}\n",
    "len(vdict)"
   ]
  },
  {
   "cell_type": "code",
   "execution_count": 17,
   "metadata": {},
   "outputs": [
    {
     "data": {
      "text/plain": [
       "['Strādā', 'Blandās', 'Puķu', 'Paši', 'Bīsies']"
      ]
     },
     "execution_count": 17,
     "metadata": {},
     "output_type": "execute_result"
    }
   ],
   "source": [
    "list(vdict.keys())[:5]"
   ]
  },
  {
   "cell_type": "code",
   "execution_count": 18,
   "metadata": {},
   "outputs": [
    {
     "data": {
      "text/plain": [
       "'Un'"
      ]
     },
     "execution_count": 18,
     "metadata": {},
     "output_type": "execute_result"
    }
   ],
   "source": [
    "max(vdict, key = lambda k: vdict[k])"
   ]
  },
  {
   "cell_type": "code",
   "execution_count": 19,
   "metadata": {},
   "outputs": [
    {
     "data": {
      "text/plain": [
       "76"
      ]
     },
     "execution_count": 19,
     "metadata": {},
     "output_type": "execute_result"
    }
   ],
   "source": [
    "vdict['Un']"
   ]
  },
  {
   "cell_type": "code",
   "execution_count": 20,
   "metadata": {},
   "outputs": [
    {
     "data": {
      "text/plain": [
       "1072"
      ]
     },
     "execution_count": 20,
     "metadata": {},
     "output_type": "execute_result"
    }
   ],
   "source": [
    "sortedWords = sorted(vdict.items(), key = lambda x: x[1])\n",
    "len(sortedWords)"
   ]
  },
  {
   "cell_type": "code",
   "execution_count": 21,
   "metadata": {},
   "outputs": [
    {
     "data": {
      "text/plain": [
       "dict_items"
      ]
     },
     "execution_count": 21,
     "metadata": {},
     "output_type": "execute_result"
    }
   ],
   "source": [
    "type(vdict.items())"
   ]
  },
  {
   "cell_type": "code",
   "execution_count": 22,
   "metadata": {},
   "outputs": [],
   "source": [
    "sortedWords.reverse()"
   ]
  },
  {
   "cell_type": "code",
   "execution_count": 23,
   "metadata": {},
   "outputs": [
    {
     "data": {
      "text/plain": [
       "[('Un', 76),\n",
       " ('Ir', 24),\n",
       " ('Tu', 21),\n",
       " ('Vēl', 21),\n",
       " ('Tik', 21),\n",
       " ('Bet', 15),\n",
       " ('Kas', 15),\n",
       " ('Nav', 14),\n",
       " ('Man', 14),\n",
       " ('Par', 13)]"
      ]
     },
     "execution_count": 23,
     "metadata": {},
     "output_type": "execute_result"
    }
   ],
   "source": [
    "sortedWords[:10]"
   ]
  },
  {
   "cell_type": "code",
   "execution_count": 24,
   "metadata": {},
   "outputs": [
    {
     "data": {
      "text/plain": [
       "[('Un', 76),\n",
       " ('Ir', 24),\n",
       " ('Tu', 21),\n",
       " ('Vēl', 21),\n",
       " ('Tik', 21),\n",
       " ('Bet', 15),\n",
       " ('Kas', 15),\n",
       " ('Nav', 14),\n",
       " ('Man', 14),\n",
       " ('Par', 13),\n",
       " ('Kā', 13),\n",
       " ('Kur', 13),\n",
       " ('Lai', 12),\n",
       " ('Tev', 11),\n",
       " ('Kam', 11),\n",
       " ('Pēc', 11),\n",
       " ('Ar', 11),\n",
       " ('Uz', 10),\n",
       " ('Reiz', 10),\n",
       " ('Ka', 10),\n",
       " ('Tie', 10),\n",
       " ('Vai', 9),\n",
       " ('Es', 9),\n",
       " ('No', 9),\n",
       " ('Būs', 9),\n",
       " ('Viss', 9),\n",
       " ('Tur', 9),\n",
       " ('Pie', 9),\n",
       " ('Līdz', 8),\n",
       " ('Tad', 8),\n",
       " ('Kad', 8),\n",
       " ('Mums', 7),\n",
       " ('Cik', 7),\n",
       " ('Sauc', 6),\n",
       " ('Ja', 6),\n",
       " ('Bij', 6),\n",
       " ('Projām', 6),\n",
       " ('Tās', 6),\n",
       " ('Iet', 6),\n",
       " ('Gars', 6),\n",
       " ('Iedzer', 5),\n",
       " ('Nu', 5),\n",
       " ('Gan', 5),\n",
       " ('Tā', 5),\n",
       " ('Likumīgi', 5),\n",
       " ('Jau', 5),\n",
       " ('Dzīves', 5),\n",
       " ('Tomēr', 5),\n",
       " ('Laiks', 5),\n",
       " ('Sirds', 5)]"
      ]
     },
     "execution_count": 24,
     "metadata": {},
     "output_type": "execute_result"
    }
   ],
   "source": [
    "sortedWords[:50]"
   ]
  },
  {
   "cell_type": "code",
   "execution_count": 25,
   "metadata": {},
   "outputs": [],
   "source": [
    "# Way way simpler!!\n",
    "from collections import Counter"
   ]
  },
  {
   "cell_type": "code",
   "execution_count": 84,
   "metadata": {},
   "outputs": [
    {
     "data": {
      "text/plain": [
       "Counter({'Pēc': 11,\n",
       "         'Ideāliem': 1,\n",
       "         'Cenšas': 1,\n",
       "         'Lielie': 1,\n",
       "         'Gari': 1,\n",
       "         'Bet': 15,\n",
       "         'Dzīvē': 2,\n",
       "         'Ieņemt': 1,\n",
       "         'Vietu': 1,\n",
       "         'Pirmie': 1,\n",
       "         'Tie': 10,\n",
       "         'Neiespēj': 1,\n",
       "         'Tos': 4,\n",
       "         'Nomāc': 2,\n",
       "         'Maizes': 3,\n",
       "         'Kari': 1,\n",
       "         'Aizspriedumi': 1,\n",
       "         'Sirmie': 1,\n",
       "         'Virs': 2,\n",
       "         'Zemes': 3,\n",
       "         'Nav': 14,\n",
       "         'Taisnības': 1,\n",
       "         'Dūrei': 1,\n",
       "         'Tik': 21,\n",
       "         'Spēks': 3,\n",
       "         'Kas': 15,\n",
       "         'Varmākām': 1,\n",
       "         'Skādi': 1,\n",
       "         'Dar': 2,\n",
       "         'Nosaukts': 1,\n",
       "         'Tiek': 4,\n",
       "         'Grēks': 2,\n",
       "         'Par': 13,\n",
       "         'Tiesnešiem': 1,\n",
       "         'Cienīti': 1,\n",
       "         'Blēži': 1,\n",
       "         'Sēž': 2,\n",
       "         'Un': 76,\n",
       "         'Godīgie': 1,\n",
       "         'Ādu': 1,\n",
       "         'Nost': 2,\n",
       "         'Citiem': 3,\n",
       "         'Plēš': 2,\n",
       "         'Cienīgs': 1,\n",
       "         'Tēvs': 1,\n",
       "         'Zaglis': 1,\n",
       "         'Teic': 1,\n",
       "         'Sprediķus': 1,\n",
       "         'Pacieties': 1,\n",
       "         'Debesīs': 1,\n",
       "         'Labāki': 2,\n",
       "         'Būs': 9,\n",
       "         'Laimes': 3,\n",
       "         'Zvēru': 1,\n",
       "         'Pulks': 1,\n",
       "         'Bļauj': 1,\n",
       "         'Viens': 1,\n",
       "         'Otram': 2,\n",
       "         'Iz': 4,\n",
       "         'Mutes': 1,\n",
       "         'Maizi': 1,\n",
       "         'Sev': 4,\n",
       "         'Rauj': 3,\n",
       "         'Priecīgs': 2,\n",
       "         'Ikkatris': 2,\n",
       "         'Kad': 8,\n",
       "         'Vēders': 2,\n",
       "         'Pilns': 2,\n",
       "         'Bērni': 1,\n",
       "         'Ir': 24,\n",
       "         'Veseli': 1,\n",
       "         'Dzīvoklis': 1,\n",
       "         'Silts': 1,\n",
       "         'Glaimojot': 1,\n",
       "         'Salkušie': 1,\n",
       "         'Rakstnieki': 1,\n",
       "         'Sauc': 6,\n",
       "         'Cik': 7,\n",
       "         'Praktiska': 1,\n",
       "         'Tauta': 1,\n",
       "         'Tai': 2,\n",
       "         'Cerību': 2,\n",
       "         'Daudz': 4,\n",
       "         'Jā': 1,\n",
       "         'Gan': 5,\n",
       "         'Vēl': 21,\n",
       "         'Nosirmos': 1,\n",
       "         'Laiks': 5,\n",
       "         'Redzams': 1,\n",
       "         'Strādnieku': 1,\n",
       "         'Moku': 1,\n",
       "         'Vaigs': 4,\n",
       "         'Liekēži': 1,\n",
       "         'Slinkos': 1,\n",
       "         'Godīgi': 1,\n",
       "         'Krāps': 1,\n",
       "         'Debesu': 3,\n",
       "         'Viltības': 1,\n",
       "         'Ļaudis': 1,\n",
       "         'Slāps': 1,\n",
       "         'Zem': 3,\n",
       "         'Kājām': 4,\n",
       "         'Varmākas': 3,\n",
       "         'Taisnību': 2,\n",
       "         'Mīs': 1,\n",
       "         'Kaujamiem': 1,\n",
       "         'Lopiem': 1,\n",
       "         'Cilvēkus': 1,\n",
       "         'Dzīs': 1,\n",
       "         'Muļķīgas': 1,\n",
       "         'Dzejas': 2,\n",
       "         'Dzejnieki': 1,\n",
       "         'Kals': 1,\n",
       "         'Vaimanās': 1,\n",
       "         'Paši': 1,\n",
       "         'Salks': 1,\n",
       "         'Sals': 1,\n",
       "         'Ar': 11,\n",
       "         'Šīs': 1,\n",
       "         'Varenajiem': 1,\n",
       "         'Kopā': 3,\n",
       "         'Tu': 21,\n",
       "         'Varēji': 1,\n",
       "         'Būt': 2,\n",
       "         'Valdīt': 1,\n",
       "         'Kārumu': 1,\n",
       "         'Baudīt': 1,\n",
       "         'Līgsmot': 1,\n",
       "         'Ik': 2,\n",
       "         'Dienas': 3,\n",
       "         'Cilvēces': 1,\n",
       "         'Bēdas': 3,\n",
       "         'Trūkumus': 1,\n",
       "         'Sirds': 5,\n",
       "         'Tevim': 2,\n",
       "         'Jūt': 2,\n",
       "         'Tumsības': 1,\n",
       "         'Slogus': 1,\n",
       "         'Varmāku': 2,\n",
       "         'Nastas': 1,\n",
       "         'Ikvienas': 1,\n",
       "         'Tēvijas': 1,\n",
       "         'Neatzīts': 1,\n",
       "         'Svešumā': 1,\n",
       "         'Dodies': 1,\n",
       "         'Tāļi': 1,\n",
       "         'Sludini': 1,\n",
       "         'Māci': 1,\n",
       "         'Ka': 10,\n",
       "         'Cilvēki': 1,\n",
       "         'Brāļi': 2,\n",
       "         'Pasaules': 4,\n",
       "         'Mantas': 1,\n",
       "         'Mums': 7,\n",
       "         'Mierināt': 2,\n",
       "         'Nespēj': 1,\n",
       "         'Prāta': 1,\n",
       "         'Ja': 6,\n",
       "         'Ticības': 2,\n",
       "         'Trūkst': 1,\n",
       "         'Mīlestīb': 1,\n",
       "         'Sirdīs': 1,\n",
       "         'Krāta': 1,\n",
       "         'Priekus': 2,\n",
       "         'Tiem': 3,\n",
       "         'Nesi': 1,\n",
       "         'Tumsībā': 1,\n",
       "         'Grūtībā': 1,\n",
       "         'Smaka': 1,\n",
       "         'Vārguļu': 1,\n",
       "         'Sagrauztām': 1,\n",
       "         'Sirdīm': 1,\n",
       "         'Bij': 6,\n",
       "         'Dzīvības': 3,\n",
       "         'Aka': 1,\n",
       "         'Cilvēci': 1,\n",
       "         'Sildīji': 1,\n",
       "         'Garīgās': 1,\n",
       "         'Verdzības': 1,\n",
       "         'Salnā': 1,\n",
       "         'Atmaksu': 1,\n",
       "         'Cilvēce': 1,\n",
       "         'Deva': 1,\n",
       "         'Tev': 11,\n",
       "         'Golgatas': 1,\n",
       "         'Kalnā': 1,\n",
       "         'Domāju': 3,\n",
       "         'Es': 9,\n",
       "         'Domas': 2,\n",
       "         'Dziļas': 1,\n",
       "         'Kādēļ': 1,\n",
       "         'Laime': 3,\n",
       "         'Mani': 2,\n",
       "         'Nīd': 1,\n",
       "         'Viss': 9,\n",
       "         'Ko': 3,\n",
       "         'Daru': 1,\n",
       "         'Man': 14,\n",
       "         'Viļas': 1,\n",
       "         'Visās': 1,\n",
       "         'Vietās': 1,\n",
       "         'Kājas': 3,\n",
       "         'Slīd': 1,\n",
       "         'Citam': 1,\n",
       "         'Nekāda': 2,\n",
       "         'Darba': 1,\n",
       "         'Nauda': 2,\n",
       "         'Kā': 13,\n",
       "         'No': 9,\n",
       "         'Gaisa': 1,\n",
       "         'Birst': 1,\n",
       "         'Dzīve': 3,\n",
       "         'Sūra': 1,\n",
       "         'Skarba': 1,\n",
       "         'Jābadojas': 1,\n",
       "         'Kamēr': 2,\n",
       "         'Mirst': 1,\n",
       "         'Pie': 9,\n",
       "         'Dvēseles': 2,\n",
       "         'Ne': 2,\n",
       "         'Graša': 1,\n",
       "         'Prasi': 1,\n",
       "         'Kādam': 1,\n",
       "         'Dos': 2,\n",
       "         'Labāk': 3,\n",
       "         'Vienreiz': 1,\n",
       "         'Nāve': 2,\n",
       "         'Aša': 1,\n",
       "         'Nekā': 2,\n",
       "         'Nabagos': 1,\n",
       "         'Ezers': 1,\n",
       "         'Lejā': 1,\n",
       "         'Spīd': 1,\n",
       "         'Netāļi': 1,\n",
       "         'Iekšā': 3,\n",
       "         'Tur': 9,\n",
       "         'Raizēm': 1,\n",
       "         'Gals': 2,\n",
       "         'Nu': 5,\n",
       "         'Ardievu': 1,\n",
       "         'Bēdu': 3,\n",
       "         'Neskanēs': 1,\n",
       "         'Vairs': 1,\n",
       "         'Mana': 1,\n",
       "         'Balss': 2,\n",
       "         'Ceļš': 1,\n",
       "         'Garām': 1,\n",
       "         'Ved': 1,\n",
       "         'Gar': 1,\n",
       "         'Krogu': 1,\n",
       "         'Danco': 1,\n",
       "         'Dzied': 3,\n",
       "         'Smej': 1,\n",
       "         'Caur': 1,\n",
       "         'Apgaismoto': 1,\n",
       "         'Logu': 1,\n",
       "         'Redzu': 2,\n",
       "         'Alu': 3,\n",
       "         'Glāzēs': 1,\n",
       "         'Lej': 1,\n",
       "         'Vai': 9,\n",
       "         'Tad': 8,\n",
       "         'Jau': 5,\n",
       "         'Tīri': 1,\n",
       "         'Bešā': 1,\n",
       "         'Roka': 1,\n",
       "         'Ātri': 1,\n",
       "         'Svārkos': 1,\n",
       "         'Ķer': 1,\n",
       "         'Desmit': 2,\n",
       "         'Kapeikas': 1,\n",
       "         'Ķešā': 1,\n",
       "         'Tās': 6,\n",
       "         'Pirms': 1,\n",
       "         'Nāves': 3,\n",
       "         'Jānodzer': 1,\n",
       "         'Steidzos': 1,\n",
       "         'Vienu': 2,\n",
       "         'Glāzi': 1,\n",
       "         'Iesviežu': 1,\n",
       "         'Vēl…': 1,\n",
       "         'Katru': 3,\n",
       "         'Alus': 2,\n",
       "         'Lāsi': 1,\n",
       "         'Paliek': 1,\n",
       "         'Žēl': 2,\n",
       "         'Atliks': 1,\n",
       "         'Miršanu': 1,\n",
       "         'Uz': 10,\n",
       "         'Rītu': 1,\n",
       "         'Šodien': 1,\n",
       "         'Vēlu': 1,\n",
       "         'Staigāt': 1,\n",
       "         'Turp': 1,\n",
       "         'Krodzniek': 1,\n",
       "         'Dosi': 1,\n",
       "         'Krītu': 1,\n",
       "         'Došu': 1,\n",
       "         'Duci': 1,\n",
       "         'Šurp': 1,\n",
       "         'Otrreiz': 1,\n",
       "         'Bija': 4,\n",
       "         'Tāda': 1,\n",
       "         'Liga': 1,\n",
       "         'Skaistule': 1,\n",
       "         'Solījās': 1,\n",
       "         'Mūžam': 2,\n",
       "         'Būšot': 1,\n",
       "         'Uzticīga': 1,\n",
       "         'Dumjš': 2,\n",
       "         'Sievām': 1,\n",
       "         'Paļaujas': 1,\n",
       "         'Drīz': 3,\n",
       "         'Pilsētas': 1,\n",
       "         'Švīts': 1,\n",
       "         'Nāca': 1,\n",
       "         'Glumi': 1,\n",
       "         'Apģērbts': 1,\n",
       "         'Uzķemmēts': 1,\n",
       "         'Lakstoties': 1,\n",
       "         'Ap': 1,\n",
       "         'Viņu': 3,\n",
       "         'Sāca': 1,\n",
       "         'Dāvā': 1,\n",
       "         'Rotas': 1,\n",
       "         'Tam': 3,\n",
       "         'Lēts': 1,\n",
       "         'Tā': 5,\n",
       "         'Neatļausies': 1,\n",
       "         'Sirdi': 2,\n",
       "         'Viņam': 2,\n",
       "         'Neatdos': 1,\n",
       "         'It': 3,\n",
       "         'Nejauši': 1,\n",
       "         'Reiz': 10,\n",
       "         'Klausies': 1,\n",
       "         'Baznīcā': 1,\n",
       "         'Uzsauc': 2,\n",
       "         'Asinis': 1,\n",
       "         'Dusmās': 1,\n",
       "         'Vārās': 1,\n",
       "         'Kaut': 4,\n",
       "         'Sāpes': 4,\n",
       "         'Spiež': 1,\n",
       "         'Atriebšanas': 1,\n",
       "         'Kāras': 1,\n",
       "         'Dūres': 1,\n",
       "         'Naža': 1,\n",
       "         'Spalu': 1,\n",
       "         'Griež': 1,\n",
       "         'Jāmirst': 1,\n",
       "         'Steigšus': 1,\n",
       "         'Gāju': 1,\n",
       "         'Te': 3,\n",
       "         'Draugs': 1,\n",
       "         'Kur': 13,\n",
       "         'Iesviedīsim': 1,\n",
       "         'Ceļa': 1,\n",
       "         'Kāju': 2,\n",
       "         'Nāc': 1,\n",
       "         'Līdz': 8,\n",
       "         'Kabaku': 1,\n",
       "         'Sviedām': 1,\n",
       "         'Sviedām…': 1,\n",
       "         'Rīts': 1,\n",
       "         'Ausa': 1,\n",
       "         'Aizmirsts': 1,\n",
       "         'Rūpes': 1,\n",
       "         'Galva': 1,\n",
       "         'Knapi': 1,\n",
       "         'Klausa': 1,\n",
       "         'Zudušas': 1,\n",
       "         'Dusmas': 2,\n",
       "         'Tādēļ': 2,\n",
       "         'Tagad': 4,\n",
       "         'Reizi': 1,\n",
       "         'Iedzeru': 1,\n",
       "         'Slikts': 1,\n",
       "         'Prāts': 4,\n",
       "         'Iet': 6,\n",
       "         'Greizi': 1,\n",
       "         'Tas': 4,\n",
       "         'Nava': 1,\n",
       "         'Nekāds': 1,\n",
       "         'Prātīgu': 1,\n",
       "         'Cilvēku': 2,\n",
       "         'Pasaulē': 3,\n",
       "         'Dzīvo': 3,\n",
       "         'Strādā': 3,\n",
       "         'Skudras': 1,\n",
       "         'Rūpīgi': 1,\n",
       "         'Krāj': 2,\n",
       "         'Nolād': 2,\n",
       "         'Sīvo': 1,\n",
       "         'Smiltis': 1,\n",
       "         'Klāj': 1,\n",
       "         'Godīgu': 1,\n",
       "         'Manīgi': 1,\n",
       "         'Cita': 2,\n",
       "         'Nopelnu': 1,\n",
       "         'Slauc': 1,\n",
       "         'Manšetēm': 1,\n",
       "         'Baltām': 1,\n",
       "         'Apkakli': 1,\n",
       "         'Stīvo': 1,\n",
       "         'Drūzmā': 1,\n",
       "         'Valdnieki': 1,\n",
       "         'Brauc': 1,\n",
       "         'Ticīgo': 1,\n",
       "         'Muļķu': 1,\n",
       "         'Visvairāk': 1,\n",
       "         'Radīts': 1,\n",
       "         'Galviņas': 1,\n",
       "         'Nodur': 1,\n",
       "         'Dieviņam': 2,\n",
       "         'Tic': 1,\n",
       "         'Tāds': 1,\n",
       "         'Rokas': 2,\n",
       "         'Laiza': 1,\n",
       "         'Sists': 1,\n",
       "         'Badīts': 1,\n",
       "         'Pateic': 1,\n",
       "         'Piekrāpj': 1,\n",
       "         'To': 3,\n",
       "         'Cits': 1,\n",
       "         'Ārprātīgie': 1,\n",
       "         'Ceturtā': 1,\n",
       "         'Suga': 1,\n",
       "         'Diemžēl': 1,\n",
       "         'Visai': 1,\n",
       "         'Nedaudz': 1,\n",
       "         'Kam': 11,\n",
       "         'Ķeras': 1,\n",
       "         'Šī': 1,\n",
       "         'Luga': 1,\n",
       "         'Muļķus': 2,\n",
       "         'Gaismas': 1,\n",
       "         'Brīvības': 2,\n",
       "         'Ej': 1,\n",
       "         'Dzenies': 1,\n",
       "         'Naudas': 3,\n",
       "         'Krāp': 1,\n",
       "         'Blēdī': 1,\n",
       "         'Jaudas': 2,\n",
       "         'Dabū': 1,\n",
       "         'Skaties': 1,\n",
       "         'Savu': 1,\n",
       "         'Labu': 1,\n",
       "         'Tomēr': 5,\n",
       "         'Apdomīgi': 1,\n",
       "         'Stingri': 3,\n",
       "         'Cieti': 3,\n",
       "         'Likumīgi': 5,\n",
       "         'Valdniekiem': 1,\n",
       "         'Godu': 2,\n",
       "         'Rādi': 1,\n",
       "         'Lai': 12,\n",
       "         'Būtu': 3,\n",
       "         'Kādi': 1,\n",
       "         'Bagātniekus': 1,\n",
       "         'Turi': 1,\n",
       "         'Cieņā': 1,\n",
       "         'Līdzēt': 1,\n",
       "         'Var': 2,\n",
       "         'Ļaunā': 1,\n",
       "         'Dienā': 1,\n",
       "         'Tikumīgi': 4,\n",
       "         'Vieta': 1,\n",
       "         'Dzīves': 5,\n",
       "         'Grunte': 1,\n",
       "         'Droša': 1,\n",
       "         'Cieta': 1,\n",
       "         'Cienīs': 1,\n",
       "         'Tevi': 2,\n",
       "         'Klanīdamies': 1,\n",
       "         'Strādās': 1,\n",
       "         'Lādēdamies': 1,\n",
       "         'Valdīsi': 1,\n",
       "         'Vari': 2,\n",
       "         'Palīgsmoties': 2,\n",
       "         'Labi': 3,\n",
       "         'Sevi': 3,\n",
       "         'Pamieloties': 2,\n",
       "         'Paņemt': 2,\n",
       "         'Sievu': 2,\n",
       "         'Padevīgu': 2,\n",
       "         'Tuklu': 2,\n",
       "         'Dumju': 2,\n",
       "         'Paklausīgu': 2,\n",
       "         'Papriecāties': 2,\n",
       "         'Radīt': 2,\n",
       "         'Bērnus': 2,\n",
       "         'Velti': 2,\n",
       "         'Dārgo': 1,\n",
       "         'Laiku': 1,\n",
       "         'Tērē': 1,\n",
       "         'Dzejām': 3,\n",
       "         'Papīri': 1,\n",
       "         'Smērē': 1,\n",
       "         'Sen': 1,\n",
       "         'Beidzies': 2,\n",
       "         'Laikmets': 1,\n",
       "         'Svēts': 3,\n",
       "         'Cilvēks': 2,\n",
       "         'Brēc': 1,\n",
       "         'Jo': 4,\n",
       "         'Mūsu': 2,\n",
       "         'Prozaiskās': 1,\n",
       "         'Dienās': 1,\n",
       "         'Žēlabainām': 1,\n",
       "         'Cieņas': 1,\n",
       "         'Ēst': 1,\n",
       "         'Salkušam': 1,\n",
       "         'Nevar': 4,\n",
       "         'Dot': 2,\n",
       "         'Paēdis': 1,\n",
       "         'Nesaprot': 1,\n",
       "         'Raksti': 1,\n",
       "         'Romānīšus': 1,\n",
       "         'Vieglus': 1,\n",
       "         'Saprātīgi': 1,\n",
       "         'Zobojies': 1,\n",
       "         'Plašai': 1,\n",
       "         'Publikai': 1,\n",
       "         'Ceļ': 2,\n",
       "         'Smieklus': 1,\n",
       "         'Redzēsi': 1,\n",
       "         'Ies': 2,\n",
       "         'Slava': 2,\n",
       "         'Liela': 1,\n",
       "         'Kaudzēm': 1,\n",
       "         'Dzīvi': 3,\n",
       "         'Baudīsi': 1,\n",
       "         'Latviešiem': 1,\n",
       "         'Dzejnieku': 1,\n",
       "         'Milzīgs': 1,\n",
       "         'Bars': 2,\n",
       "         'Tiesas': 1,\n",
       "         'Dodam': 1,\n",
       "         'Šo': 1,\n",
       "         'Vārdu': 1,\n",
       "         'Dzejās': 1,\n",
       "         'Mīt': 1,\n",
       "         'Burvības': 1,\n",
       "         'Gars': 6,\n",
       "         'Miegu': 1,\n",
       "         'Dāvina': 1,\n",
       "         'Gārdu': 1,\n",
       "         'Gribi': 1,\n",
       "         'Tikt': 1,\n",
       "         'Labas': 1,\n",
       "         'Vietas': 1,\n",
       "         'Klanies': 1,\n",
       "         'Lokies': 1,\n",
       "         'Laizi': 1,\n",
       "         'Citi': 2,\n",
       "         'Kauna': 1,\n",
       "         'Lietas': 2,\n",
       "         'Nekas': 4,\n",
       "         'Nāk': 1,\n",
       "         'Maize': 1,\n",
       "         'Bagātnieku': 1,\n",
       "         'Lepniem': 1,\n",
       "         'Galdiem': 1,\n",
       "         'Pazemīgi': 1,\n",
       "         'Klātu': 1,\n",
       "         'Lieni': 1,\n",
       "         'Glaimošanas': 1,\n",
       "         'Vārdiem': 1,\n",
       "         'Saldiem': 1,\n",
       "         'Vien': 4,\n",
       "         'Spējas': 1,\n",
       "         'Cieni': 1,\n",
       "         'Dieva': 2,\n",
       "         'Dēļ': 1,\n",
       "         'Zemākajiem': 1,\n",
       "         'Nekad': 1,\n",
       "         'Neredz': 2,\n",
       "         'Min': 1,\n",
       "         'Virsū': 1,\n",
       "         'Vājiem': 1,\n",
       "         'Prātīgs': 1,\n",
       "         'Gādā': 1,\n",
       "         'Augstā': 1,\n",
       "         'Vietā': 2,\n",
       "         'Tiksi': 2,\n",
       "         'Slavēs': 1,\n",
       "         'Teiks': 1,\n",
       "         'Lielu': 1,\n",
       "         'Garu': 1,\n",
       "         'Līdzbiedrus': 1,\n",
       "         'Liksi': 1,\n",
       "         'Katris': 2,\n",
       "         'Bīsies': 1,\n",
       "         'Tavu': 1,\n",
       "         'Varu': 1,\n",
       "         'Gudro': 1,\n",
       "         'Gudrodams': 1,\n",
       "         'Mērķa': 2,\n",
       "         'Atrast': 1,\n",
       "         'Dzīvei': 2,\n",
       "         'Visi': 1,\n",
       "         'Ideāļi': 1,\n",
       "         'Tuvāk': 1,\n",
       "         'Apskatot': 1,\n",
       "         'Izrādās': 2,\n",
       "         'Tārpiem': 1,\n",
       "         'Izēsti': 1,\n",
       "         'Galu': 1,\n",
       "         'Galā': 2,\n",
       "         'Jāpaliek': 1,\n",
       "         'Lopam': 1,\n",
       "         'Nedomā': 1,\n",
       "         'Ēšanu': 1,\n",
       "         'Jeb': 1,\n",
       "         'Pesimistam': 1,\n",
       "         '(Vēstule': 1,\n",
       "         'E': 1,\n",
       "         'Treimanimzvārgulim': 1,\n",
       "         '1890': 1,\n",
       "         'Gada': 1,\n",
       "         '5': 1,\n",
       "         'Jūlijā)': 1,\n",
       "         'Zaļoja': 1,\n",
       "         'Jaunība': 1,\n",
       "         'Cerības': 3,\n",
       "         'Plauka': 1,\n",
       "         'Asins': 3,\n",
       "         'Karsta': 1,\n",
       "         'Gaišs': 1,\n",
       "         'Pasaule': 1,\n",
       "         'Visa': 1,\n",
       "         'Krāšņa': 1,\n",
       "         'Jauka': 1,\n",
       "         'Nākotne': 1,\n",
       "         'Spoža': 1,\n",
       "         'Saules': 1,\n",
       "         'Aizgāja': 1,\n",
       "         'Zuda': 1,\n",
       "         'Dūmi': 1,\n",
       "         'Mira': 1,\n",
       "         'Agrāk': 1,\n",
       "         'Daiļš': 2,\n",
       "         'Dievīgie': 1,\n",
       "         'Tēli': 1,\n",
       "         'Bāli': 1,\n",
       "         'Drūmi': 1,\n",
       "         'Dīdzis': 1,\n",
       "         'Ticībā': 1,\n",
       "         'Sēts': 1,\n",
       "         'Tukšām': 1,\n",
       "         'Paliekot': 1,\n",
       "         'Zinību': 2,\n",
       "         'Slāpēm': 1,\n",
       "         'Beidzoties': 1,\n",
       "         'Visam': 1,\n",
       "         'Pildījās': 1,\n",
       "         'Nāvīgām': 1,\n",
       "         'Asiņu': 1,\n",
       "         'Sāpēm': 1,\n",
       "         'Pagātne': 1,\n",
       "         'Arī': 1,\n",
       "         'Sedz': 1,\n",
       "         'Nicinu': 1,\n",
       "         'Tikai': 3,\n",
       "         'Murgi': 1,\n",
       "         'Nieks': 1,\n",
       "         'Laimi': 3,\n",
       "         'Pret': 1,\n",
       "         'Nelaimi': 1,\n",
       "         'Krūtis': 1,\n",
       "         'Cietas': 1,\n",
       "         'Gluži': 1,\n",
       "         'Vienalga': 1,\n",
       "         'Prieks': 2,\n",
       "         'Iedzer': 5,\n",
       "         'Brāli': 3,\n",
       "         'Ātrām': 1,\n",
       "         'Mūža': 1,\n",
       "         'Projām': 6,\n",
       "         'Skrien': 2,\n",
       "         'Tumšām': 1,\n",
       "         'Mājām': 1,\n",
       "         'Kapā': 2,\n",
       "         'Lien': 2,\n",
       "         'Laiki': 1,\n",
       "         'Grūti': 1,\n",
       "         'Ērkšķi': 1,\n",
       "         'Nikni': 1,\n",
       "         'Dur': 1,\n",
       "         'Mazāk': 1,\n",
       "         'Jūti': 1,\n",
       "         'Jaunu': 1,\n",
       "         'Bur': 1,\n",
       "         'Nodzer': 1,\n",
       "         'Prātu': 2,\n",
       "         'Kaudzes': 2,\n",
       "         'Muļķis': 1,\n",
       "         'Krātu': 1,\n",
       "         'Gudrais': 1,\n",
       "         'Ellē': 1,\n",
       "         'Viņas': 3,\n",
       "         'Veļ': 1,\n",
       "         'Grāmatu': 1,\n",
       "         'Šķirsti': 1,\n",
       "         'Mirušās': 1,\n",
       "         'Audzes': 1,\n",
       "         'Pētī': 1,\n",
       "         'Mirsti': 1,\n",
       "         'Nieki': 1,\n",
       "         'Baro': 1,\n",
       "         'Prieki': 1,\n",
       "         'Gaišāki': 1,\n",
       "         'Staro': 1,\n",
       "         'Gulbji': 1,\n",
       "         'Balti': 1,\n",
       "         'Padebeši': 1,\n",
       "         'Vēlētos': 1,\n",
       "         'Līdza': 1,\n",
       "         'Tāļu': 1,\n",
       "         'Skriet': 1,\n",
       "         'Tāļumā': 1,\n",
       "         'Ziemas': 1,\n",
       "         'Nepazīst': 1,\n",
       "         'Rozes': 1,\n",
       "         'Zied': 2,\n",
       "         'Nenovīst': 1,\n",
       "         'Veltīgi': 1,\n",
       "         'Laimību': 1,\n",
       "         'Kāro': 1,\n",
       "         'Met': 1,\n",
       "         'Tumšajā': 2,\n",
       "         'Saulainām': 1,\n",
       "         'Lejām': 2,\n",
       "         'Mirstīgais': 1,\n",
       "         'Šķirsts': 1,\n",
       "         'Jādzīvo': 2,\n",
       "         'Asaru': 1,\n",
       "         'Dūksnājā': 1,\n",
       "         'Slapjā': 1,\n",
       "         'Dzelži': 1,\n",
       "         'Cirvji': 1,\n",
       "         'Bez': 3,\n",
       "         'Rimšanas': 2,\n",
       "         'Klaudz': 1,\n",
       "         'Pārtikas': 1,\n",
       "         'Vergi': 2,\n",
       "         'Kauc': 1,\n",
       "         'Stiprākā': 1,\n",
       "         'Samīts': 1,\n",
       "         'Vājāks': 1,\n",
       "         'Lūst': 1,\n",
       "         'Sviedri': 1,\n",
       "         'Plūst': 1,\n",
       "         'Prātīgas': 1,\n",
       "         'Nozīme': 1,\n",
       "         'Tīrās': 1,\n",
       "         'Muļķības': 1,\n",
       "         'Blandās': 1,\n",
       "         'Gudrām': 1,\n",
       "         'Lietām': 2,\n",
       "         'Spriedelē': 1,\n",
       "         'Dievs': 1,\n",
       "         'Visaugstākais': 1,\n",
       "         'Pats': 2,\n",
       "         'Tuvākais': 1,\n",
       "         'Tiklīdz': 1,\n",
       "         'Izsalcis': 1,\n",
       "         'Atriebies': 1,\n",
       "         'Apnicis': 1,\n",
       "         'Kavējies': 1,\n",
       "         'Dzīvajos': 1,\n",
       "         'Lode': 1,\n",
       "         'Likteni': 1,\n",
       "         'Šķir': 1,\n",
       "         'Droši': 1,\n",
       "         'Nebūs': 1,\n",
       "         'Šis': 1,\n",
       "         'Niecīgais': 1,\n",
       "         'Muļķīgais': 1,\n",
       "         'Šeit': 1,\n",
       "         'Valdnieks': 2,\n",
       "         'Ielīgsmot': 1,\n",
       "         'Nebūsi': 1,\n",
       "         'Mīdīts': 1,\n",
       "         'Malas': 2,\n",
       "         'Bīdīts': 1,\n",
       "         'Žēlo': 1,\n",
       "         'Dzīvību': 2,\n",
       "         'Nespēsi': 1,\n",
       "         'Jāiet': 1,\n",
       "         'Ziņas': 1,\n",
       "         'Dzīvība': 1,\n",
       "         'Verdzībā': 1,\n",
       "         'Žūs': 1,\n",
       "         'Stars': 1,\n",
       "         'Aklajai': 1,\n",
       "         'Vistai': 1,\n",
       "         'Grauds': 1,\n",
       "         'Atrastos': 1,\n",
       "         'Tavs': 1,\n",
       "         'Nīcību': 1,\n",
       "         'Drūmīgi': 1,\n",
       "         'Labs': 2,\n",
       "         'Nīkt': 1,\n",
       "         'Izputēt': 1,\n",
       "         'Nolemts': 1,\n",
       "         'Beigties': 1,\n",
       "         'Pasteidzies': 1,\n",
       "         'Drīzāki': 1,\n",
       "         'Steigties': 1,\n",
       "         'Lai…': 1,\n",
       "         'Nicināju': 1,\n",
       "         'Nevajaga': 1,\n",
       "         'Joks': 1,\n",
       "         'Visu': 1,\n",
       "         'Smejies': 1,\n",
       "         'Laid': 3,\n",
       "         'Raud': 1,\n",
       "         'Vaid': 1,\n",
       "         'Pakavējies': 1,\n",
       "         'Netīk': 1,\n",
       "         'Citām': 1,\n",
       "         'Malām': 1,\n",
       "         'Vienā': 1,\n",
       "         'Sasmok': 1,\n",
       "         'Pasauls': 2,\n",
       "         'Galam': 1,\n",
       "         'Atradis': 1,\n",
       "         'Spārni': 1,\n",
       "         'Īsi': 1,\n",
       "         'Guli': 1,\n",
       "         'Liktens': 1,\n",
       "         'Sien': 1,\n",
       "         'Gaidi': 1,\n",
       "         'Nāvi': 1,\n",
       "         'Paradīzi': 1,\n",
       "         'Paliec': 1,\n",
       "         'Vājš': 1,\n",
       "         'Bedrē': 1,\n",
       "         'Kuļos': 1,\n",
       "         'Pliks': 1,\n",
       "         'Pa': 3,\n",
       "         'Nātrēm': 1,\n",
       "         'Raizes': 2,\n",
       "         'Moca': 1,\n",
       "         'Nakt': 1,\n",
       "         'Dien': 1,\n",
       "         'Vējam': 1,\n",
       "         'Ātram': 1,\n",
       "         'Ziedons': 1,\n",
       "         'Tumsība': 1,\n",
       "         'Skatās': 1,\n",
       "         'Aukstums': 1,\n",
       "         'Visur': 1,\n",
       "         'Ak': 1,\n",
       "         'Visas': 1,\n",
       "         'Platās': 1,\n",
       "         'Neviens': 1,\n",
       "         'Senatnē': 1,\n",
       "         'Vīri': 1,\n",
       "         'Liktenis': 1,\n",
       "         'Rūpestus': 1,\n",
       "         'Nedarīja': 1,\n",
       "         'Mierīgs': 1,\n",
       "         'Zokratam': 1,\n",
       "         'Palika': 1,\n",
       "         'Trakoja': 1,\n",
       "         'Vētra': 1,\n",
       "         'Skaists': 1,\n",
       "         'Ikkatram': 2,\n",
       "         'Pār': 1,\n",
       "         'Dabu': 1,\n",
       "         'Vara': 1,\n",
       "         'Sirdī': 1,\n",
       "         'Spožums': 1,\n",
       "         'Mūžības': 2,\n",
       "         'Gara': 1,\n",
       "         'Īsts': 1,\n",
       "         'Filozofs': 1,\n",
       "         'Pesimists': 1,\n",
       "         'Jautri': 1,\n",
       "         'Bauda': 1,\n",
       "         'Priecājas': 1,\n",
       "         'Jauda': 1,\n",
       "         'Mieži': 1,\n",
       "         'Laukos': 1,\n",
       "         'Kupli': 1,\n",
       "         'Briest': 1,\n",
       "         'Netrūkst': 1,\n",
       "         'Daiļas': 1,\n",
       "         'Skuķes': 1,\n",
       "         'Patīk': 1,\n",
       "         'Ciest': 1,\n",
       "         'Guļu': 1,\n",
       "         'Puķēs': 1,\n",
       "         'Neesmu': 1,\n",
       "         'Dubļos': 1,\n",
       "         'Dziļi': 1,\n",
       "         'Stidzis': 1,\n",
       "         'Atgriezties': 1,\n",
       "         'Labākam': 1,\n",
       "         'Dievības': 3,\n",
       "         'Gaišums': 1,\n",
       "         'Nīcis': 1,\n",
       "         'Dvēsele': 1,\n",
       "         'Augstākas': 1,\n",
       "         'Iegribas': 1,\n",
       "         'Uzdevums': 1,\n",
       "         'Grūtības': 1,\n",
       "         'Nest': 1,\n",
       "         'Mūs': 1,\n",
       "         'Radot': 1,\n",
       "         'Spriedis': 1,\n",
       "         'Nevienam': 1,\n",
       "         'Atļauts': 1,\n",
       "         'Prom': 1,\n",
       "         'Mest': 1,\n",
       "         'Dzīvojot': 1,\n",
       "         'Raudājis': 1,\n",
       "         'Cietis': 1,\n",
       "         'Augstāks': 1,\n",
       "         'Mērķis': 3,\n",
       "         'Aiz': 1,\n",
       "         'Zvaigznēm': 1,\n",
       "         'Sprausts': 1,\n",
       "         'Šaubās': 1,\n",
       "         'Šaubīsies': 1,\n",
       "         'Cilvēka': 2,\n",
       "         'Jaunam': 1,\n",
       "         'Līķa': 1,\n",
       "         'Palags': 1,\n",
       "         'Austs': 1,\n",
       "         'Asarās': 1,\n",
       "         'Paliekam': 1,\n",
       "         'Skumdināti': 1,\n",
       "         'Jātic': 2,\n",
       "         'Nekrīt': 1,\n",
       "         'Mats': 1,\n",
       "         'Nezina': 1,\n",
       "         'Acs': 1,\n",
       "         'Nemirstīgs': 1,\n",
       "         'Ziedēs': 1,\n",
       "         'Pavasars': 1,\n",
       "         'Raižu': 1,\n",
       "         'Grūtību': 1,\n",
       "         'Niknajos': 1,\n",
       "         'Karos': 1,\n",
       "         'Līgsmībā': 1,\n",
       "         'Staros': 1,\n",
       "         'Divdesmit': 1,\n",
       "         'Gadus': 1,\n",
       "         'Lugai': 1,\n",
       "         'Pienācis': 1,\n",
       "         'Slinkojis': 1,\n",
       "         'Centies': 1,\n",
       "         'Trūdēt': 1,\n",
       "         'Likteņa': 2,\n",
       "         'Sapņots': 1,\n",
       "         'Mūžīgām': 1,\n",
       "         'Slavu': 1,\n",
       "         'Kapa': 1,\n",
       "         'Grib': 1,\n",
       "         'Laurus': 1,\n",
       "         'Liek': 1,\n",
       "         'Lauri': 1,\n",
       "         'Gods': 1,\n",
       "         'Iznīkst': 1,\n",
       "         'Tāļāk': 2,\n",
       "         'Atkal': 1,\n",
       "         'Rit': 1,\n",
       "         'Šausmīgais': 1,\n",
       "         'Rats': 1,\n",
       "         'Skumjību': 1,\n",
       "         'Sviedīšu': 1,\n",
       "         'Tumšo': 1,\n",
       "         'Beigšu': 1,\n",
       "         'Ilgoties': 1,\n",
       "         'Iesākšu': 1,\n",
       "         'Ticēt': 1,\n",
       "         'Nāks': 2,\n",
       "         'Zilumā': 1,\n",
       "         'Spīguļo': 1,\n",
       "         'Zvaigznes': 1,\n",
       "         'Mūžīgā': 1,\n",
       "         'Kārtībā': 1,\n",
       "         'Kustas': 1,\n",
       "         'Drūmajos': 1,\n",
       "         'Viļņos': 1,\n",
       "         'Valda': 1,\n",
       "         'Īss': 1,\n",
       "         'Sprīdis': 1,\n",
       "         'Tuvu': 1,\n",
       "         'Šūpuliskaps': 1,\n",
       "         'Svara': 1,\n",
       "         'Brīdis': 1,\n",
       "         'Laba': 1,\n",
       "         'Skumjība': 1,\n",
       "         'Strādāšu': 1,\n",
       "         'Centīšos': 1,\n",
       "         ...})"
      ]
     },
     "execution_count": 84,
     "metadata": {},
     "output_type": "execute_result"
    }
   ],
   "source": [
    "cnt = Counter(cwords)\n",
    "cnt"
   ]
  },
  {
   "cell_type": "code",
   "execution_count": 28,
   "metadata": {},
   "outputs": [
    {
     "data": {
      "text/plain": [
       "[('Un', 76),\n",
       " ('Ir', 24),\n",
       " ('Tik', 21),\n",
       " ('Vēl', 21),\n",
       " ('Tu', 21),\n",
       " ('Bet', 15),\n",
       " ('Kas', 15),\n",
       " ('Nav', 14),\n",
       " ('Man', 14),\n",
       " ('Par', 13)]"
      ]
     },
     "execution_count": 28,
     "metadata": {},
     "output_type": "execute_result"
    }
   ],
   "source": [
    "cnt.most_common(10)"
   ]
  },
  {
   "cell_type": "code",
   "execution_count": 29,
   "metadata": {},
   "outputs": [],
   "source": [
    "import numpy as np"
   ]
  },
  {
   "cell_type": "code",
   "execution_count": 30,
   "metadata": {},
   "outputs": [],
   "source": [
    "import matplotlib.pyplot as plt"
   ]
  },
  {
   "cell_type": "code",
   "execution_count": 79,
   "metadata": {},
   "outputs": [],
   "source": [
    "# Useful to remember!\n",
    "labels, values = zip(*cnt.most_common(10)) # * unpacks our list, zip creates two new tuples of our values"
   ]
  },
  {
   "cell_type": "code",
   "execution_count": 80,
   "metadata": {},
   "outputs": [
    {
     "data": {
      "text/plain": [
       "('Un', 'Ir', 'Tik', 'Vēl', 'Tu', 'Bet', 'Kas', 'Nav', 'Man', 'Par')"
      ]
     },
     "execution_count": 80,
     "metadata": {},
     "output_type": "execute_result"
    }
   ],
   "source": [
    "labels"
   ]
  },
  {
   "cell_type": "code",
   "execution_count": 81,
   "metadata": {},
   "outputs": [
    {
     "data": {
      "text/plain": [
       "tuple"
      ]
     },
     "execution_count": 81,
     "metadata": {},
     "output_type": "execute_result"
    }
   ],
   "source": [
    "type(labels)"
   ]
  },
  {
   "cell_type": "code",
   "execution_count": 83,
   "metadata": {
    "scrolled": false
   },
   "outputs": [
    {
     "data": {
      "text/plain": [
       "<Container object of 10 artists>"
      ]
     },
     "execution_count": 83,
     "metadata": {},
     "output_type": "execute_result"
    },
    {
     "data": {
      "image/png": "[encoded data removed]",
      "text/plain": [
       "<matplotlib.figure.Figure at 0x84f3d10>"
      ]
     },
     "metadata": {},
     "output_type": "display_data"
    }
   ],
   "source": [
    "# https://matplotlib.org/api/_as_gen/matplotlib.pyplot.bar.html\n",
    "plt.rcdefaults() # for turning off xkcd style (below)\n",
    "plt.bar(labels, values)\n",
    "#plt.grid()"
   ]
  },
  {
   "cell_type": "code",
   "execution_count": 93,
   "metadata": {
    "scrolled": false
   },
   "outputs": [
    {
     "data": {
      "image/png": "[encoded data removed]",
      "text/plain": [
       "<matplotlib.figure.Figure at 0x84fe5b0>"
      ]
     },
     "metadata": {},
     "output_type": "display_data"
    }
   ],
   "source": [
    "# https://matplotlib.org/api/_as_gen/matplotlib.pyplot.bar.html\n",
    "# https://matplotlib.org/api/_as_gen/matplotlib.pyplot.xticks.html\n",
    "# plt.rcdefaults() # for turning off xkcd style (below)\n",
    "plt.bar(range(len(values)), values)\n",
    "plt.xticks(range(len(labels)), labels)\n",
    "plt.grid()\n",
    "plt.savefig(\"mostcommon.png\")"
   ]
  },
  {
   "cell_type": "markdown",
   "metadata": {},
   "source": [
    "## Saving data as CSV!"
   ]
  },
  {
   "cell_type": "code",
   "execution_count": 103,
   "metadata": {},
   "outputs": [],
   "source": [
    "import csv"
   ]
  },
  {
   "cell_type": "code",
   "execution_count": 114,
   "metadata": {},
   "outputs": [
    {
     "data": {
      "text/plain": [
       "dict_items([('Pēc', 11), ('Ideāliem', 1), ('Cenšas', 1), ('Lielie', 1), ('Gari', 1), ('Bet', 15), ('Dzīvē', 2), ('Ieņemt', 1), ('Vietu', 1), ('Pirmie', 1), ('Tie', 10), ('Neiespēj', 1), ('Tos', 4), ('Nomāc', 2), ('Maizes', 3), ('Kari', 1), ('Aizspriedumi', 1), ('Sirmie', 1), ('Virs', 2), ('Zemes', 3), ('Nav', 14), ('Taisnības', 1), ('Dūrei', 1), ('Tik', 21), ('Spēks', 3), ('Kas', 15), ('Varmākām', 1), ('Skādi', 1), ('Dar', 2), ('Nosaukts', 1), ('Tiek', 4), ('Grēks', 2), ('Par', 13), ('Tiesnešiem', 1), ('Cienīti', 1), ('Blēži', 1), ('Sēž', 2), ('Un', 76), ('Godīgie', 1), ('Ādu', 1), ('Nost', 2), ('Citiem', 3), ('Plēš', 2), ('Cienīgs', 1), ('Tēvs', 1), ('Zaglis', 1), ('Teic', 1), ('Sprediķus', 1), ('Pacieties', 1), ('Debesīs', 1), ('Labāki', 2), ('Būs', 9), ('Laimes', 3), ('Zvēru', 1), ('Pulks', 1), ('Bļauj', 1), ('Viens', 1), ('Otram', 2), ('Iz', 4), ('Mutes', 1), ('Maizi', 1), ('Sev', 4), ('Rauj', 3), ('Priecīgs', 2), ('Ikkatris', 2), ('Kad', 8), ('Vēders', 2), ('Pilns', 2), ('Bērni', 1), ('Ir', 24), ('Veseli', 1), ('Dzīvoklis', 1), ('Silts', 1), ('Glaimojot', 1), ('Salkušie', 1), ('Rakstnieki', 1), ('Sauc', 6), ('Cik', 7), ('Praktiska', 1), ('Tauta', 1), ('Tai', 2), ('Cerību', 2), ('Daudz', 4), ('Jā', 1), ('Gan', 5), ('Vēl', 21), ('Nosirmos', 1), ('Laiks', 5), ('Redzams', 1), ('Strādnieku', 1), ('Moku', 1), ('Vaigs', 4), ('Liekēži', 1), ('Slinkos', 1), ('Godīgi', 1), ('Krāps', 1), ('Debesu', 3), ('Viltības', 1), ('Ļaudis', 1), ('Slāps', 1), ('Zem', 3), ('Kājām', 4), ('Varmākas', 3), ('Taisnību', 2), ('Mīs', 1), ('Kaujamiem', 1), ('Lopiem', 1), ('Cilvēkus', 1), ('Dzīs', 1), ('Muļķīgas', 1), ('Dzejas', 2), ('Dzejnieki', 1), ('Kals', 1), ('Vaimanās', 1), ('Paši', 1), ('Salks', 1), ('Sals', 1), ('Ar', 11), ('Šīs', 1), ('Varenajiem', 1), ('Kopā', 3), ('Tu', 21), ('Varēji', 1), ('Būt', 2), ('Valdīt', 1), ('Kārumu', 1), ('Baudīt', 1), ('Līgsmot', 1), ('Ik', 2), ('Dienas', 3), ('Cilvēces', 1), ('Bēdas', 3), ('Trūkumus', 1), ('Sirds', 5), ('Tevim', 2), ('Jūt', 2), ('Tumsības', 1), ('Slogus', 1), ('Varmāku', 2), ('Nastas', 1), ('Ikvienas', 1), ('Tēvijas', 1), ('Neatzīts', 1), ('Svešumā', 1), ('Dodies', 1), ('Tāļi', 1), ('Sludini', 1), ('Māci', 1), ('Ka', 10), ('Cilvēki', 1), ('Brāļi', 2), ('Pasaules', 4), ('Mantas', 1), ('Mums', 7), ('Mierināt', 2), ('Nespēj', 1), ('Prāta', 1), ('Ja', 6), ('Ticības', 2), ('Trūkst', 1), ('Mīlestīb', 1), ('Sirdīs', 1), ('Krāta', 1), ('Priekus', 2), ('Tiem', 3), ('Nesi', 1), ('Tumsībā', 1), ('Grūtībā', 1), ('Smaka', 1), ('Vārguļu', 1), ('Sagrauztām', 1), ('Sirdīm', 1), ('Bij', 6), ('Dzīvības', 3), ('Aka', 1), ('Cilvēci', 1), ('Sildīji', 1), ('Garīgās', 1), ('Verdzības', 1), ('Salnā', 1), ('Atmaksu', 1), ('Cilvēce', 1), ('Deva', 1), ('Tev', 11), ('Golgatas', 1), ('Kalnā', 1), ('Domāju', 3), ('Es', 9), ('Domas', 2), ('Dziļas', 1), ('Kādēļ', 1), ('Laime', 3), ('Mani', 2), ('Nīd', 1), ('Viss', 9), ('Ko', 3), ('Daru', 1), ('Man', 14), ('Viļas', 1), ('Visās', 1), ('Vietās', 1), ('Kājas', 3), ('Slīd', 1), ('Citam', 1), ('Nekāda', 2), ('Darba', 1), ('Nauda', 2), ('Kā', 13), ('No', 9), ('Gaisa', 1), ('Birst', 1), ('Dzīve', 3), ('Sūra', 1), ('Skarba', 1), ('Jābadojas', 1), ('Kamēr', 2), ('Mirst', 1), ('Pie', 9), ('Dvēseles', 2), ('Ne', 2), ('Graša', 1), ('Prasi', 1), ('Kādam', 1), ('Dos', 2), ('Labāk', 3), ('Vienreiz', 1), ('Nāve', 2), ('Aša', 1), ('Nekā', 2), ('Nabagos', 1), ('Ezers', 1), ('Lejā', 1), ('Spīd', 1), ('Netāļi', 1), ('Iekšā', 3), ('Tur', 9), ('Raizēm', 1), ('Gals', 2), ('Nu', 5), ('Ardievu', 1), ('Bēdu', 3), ('Neskanēs', 1), ('Vairs', 1), ('Mana', 1), ('Balss', 2), ('Ceļš', 1), ('Garām', 1), ('Ved', 1), ('Gar', 1), ('Krogu', 1), ('Danco', 1), ('Dzied', 3), ('Smej', 1), ('Caur', 1), ('Apgaismoto', 1), ('Logu', 1), ('Redzu', 2), ('Alu', 3), ('Glāzēs', 1), ('Lej', 1), ('Vai', 9), ('Tad', 8), ('Jau', 5), ('Tīri', 1), ('Bešā', 1), ('Roka', 1), ('Ātri', 1), ('Svārkos', 1), ('Ķer', 1), ('Desmit', 2), ('Kapeikas', 1), ('Ķešā', 1), ('Tās', 6), ('Pirms', 1), ('Nāves', 3), ('Jānodzer', 1), ('Steidzos', 1), ('Vienu', 2), ('Glāzi', 1), ('Iesviežu', 1), ('Vēl…', 1), ('Katru', 3), ('Alus', 2), ('Lāsi', 1), ('Paliek', 1), ('Žēl', 2), ('Atliks', 1), ('Miršanu', 1), ('Uz', 10), ('Rītu', 1), ('Šodien', 1), ('Vēlu', 1), ('Staigāt', 1), ('Turp', 1), ('Krodzniek', 1), ('Dosi', 1), ('Krītu', 1), ('Došu', 1), ('Duci', 1), ('Šurp', 1), ('Otrreiz', 1), ('Bija', 4), ('Tāda', 1), ('Liga', 1), ('Skaistule', 1), ('Solījās', 1), ('Mūžam', 2), ('Būšot', 1), ('Uzticīga', 1), ('Dumjš', 2), ('Sievām', 1), ('Paļaujas', 1), ('Drīz', 3), ('Pilsētas', 1), ('Švīts', 1), ('Nāca', 1), ('Glumi', 1), ('Apģērbts', 1), ('Uzķemmēts', 1), ('Lakstoties', 1), ('Ap', 1), ('Viņu', 3), ('Sāca', 1), ('Dāvā', 1), ('Rotas', 1), ('Tam', 3), ('Lēts', 1), ('Tā', 5), ('Neatļausies', 1), ('Sirdi', 2), ('Viņam', 2), ('Neatdos', 1), ('It', 3), ('Nejauši', 1), ('Reiz', 10), ('Klausies', 1), ('Baznīcā', 1), ('Uzsauc', 2), ('Asinis', 1), ('Dusmās', 1), ('Vārās', 1), ('Kaut', 4), ('Sāpes', 4), ('Spiež', 1), ('Atriebšanas', 1), ('Kāras', 1), ('Dūres', 1), ('Naža', 1), ('Spalu', 1), ('Griež', 1), ('Jāmirst', 1), ('Steigšus', 1), ('Gāju', 1), ('Te', 3), ('Draugs', 1), ('Kur', 13), ('Iesviedīsim', 1), ('Ceļa', 1), ('Kāju', 2), ('Nāc', 1), ('Līdz', 8), ('Kabaku', 1), ('Sviedām', 1), ('Sviedām…', 1), ('Rīts', 1), ('Ausa', 1), ('Aizmirsts', 1), ('Rūpes', 1), ('Galva', 1), ('Knapi', 1), ('Klausa', 1), ('Zudušas', 1), ('Dusmas', 2), ('Tādēļ', 2), ('Tagad', 4), ('Reizi', 1), ('Iedzeru', 1), ('Slikts', 1), ('Prāts', 4), ('Iet', 6), ('Greizi', 1), ('Tas', 4), ('Nava', 1), ('Nekāds', 1), ('Prātīgu', 1), ('Cilvēku', 2), ('Pasaulē', 3), ('Dzīvo', 3), ('Strādā', 3), ('Skudras', 1), ('Rūpīgi', 1), ('Krāj', 2), ('Nolād', 2), ('Sīvo', 1), ('Smiltis', 1), ('Klāj', 1), ('Godīgu', 1), ('Manīgi', 1), ('Cita', 2), ('Nopelnu', 1), ('Slauc', 1), ('Manšetēm', 1), ('Baltām', 1), ('Apkakli', 1), ('Stīvo', 1), ('Drūzmā', 1), ('Valdnieki', 1), ('Brauc', 1), ('Ticīgo', 1), ('Muļķu', 1), ('Visvairāk', 1), ('Radīts', 1), ('Galviņas', 1), ('Nodur', 1), ('Dieviņam', 2), ('Tic', 1), ('Tāds', 1), ('Rokas', 2), ('Laiza', 1), ('Sists', 1), ('Badīts', 1), ('Pateic', 1), ('Piekrāpj', 1), ('To', 3), ('Cits', 1), ('Ārprātīgie', 1), ('Ceturtā', 1), ('Suga', 1), ('Diemžēl', 1), ('Visai', 1), ('Nedaudz', 1), ('Kam', 11), ('Ķeras', 1), ('Šī', 1), ('Luga', 1), ('Muļķus', 2), ('Gaismas', 1), ('Brīvības', 2), ('Ej', 1), ('Dzenies', 1), ('Naudas', 3), ('Krāp', 1), ('Blēdī', 1), ('Jaudas', 2), ('Dabū', 1), ('Skaties', 1), ('Savu', 1), ('Labu', 1), ('Tomēr', 5), ('Apdomīgi', 1), ('Stingri', 3), ('Cieti', 3), ('Likumīgi', 5), ('Valdniekiem', 1), ('Godu', 2), ('Rādi', 1), ('Lai', 12), ('Būtu', 3), ('Kādi', 1), ('Bagātniekus', 1), ('Turi', 1), ('Cieņā', 1), ('Līdzēt', 1), ('Var', 2), ('Ļaunā', 1), ('Dienā', 1), ('Tikumīgi', 4), ('Vieta', 1), ('Dzīves', 5), ('Grunte', 1), ('Droša', 1), ('Cieta', 1), ('Cienīs', 1), ('Tevi', 2), ('Klanīdamies', 1), ('Strādās', 1), ('Lādēdamies', 1), ('Valdīsi', 1), ('Vari', 2), ('Palīgsmoties', 2), ('Labi', 3), ('Sevi', 3), ('Pamieloties', 2), ('Paņemt', 2), ('Sievu', 2), ('Padevīgu', 2), ('Tuklu', 2), ('Dumju', 2), ('Paklausīgu', 2), ('Papriecāties', 2), ('Radīt', 2), ('Bērnus', 2), ('Velti', 2), ('Dārgo', 1), ('Laiku', 1), ('Tērē', 1), ('Dzejām', 3), ('Papīri', 1), ('Smērē', 1), ('Sen', 1), ('Beidzies', 2), ('Laikmets', 1), ('Svēts', 3), ('Cilvēks', 2), ('Brēc', 1), ('Jo', 4), ('Mūsu', 2), ('Prozaiskās', 1), ('Dienās', 1), ('Žēlabainām', 1), ('Cieņas', 1), ('Ēst', 1), ('Salkušam', 1), ('Nevar', 4), ('Dot', 2), ('Paēdis', 1), ('Nesaprot', 1), ('Raksti', 1), ('Romānīšus', 1), ('Vieglus', 1), ('Saprātīgi', 1), ('Zobojies', 1), ('Plašai', 1), ('Publikai', 1), ('Ceļ', 2), ('Smieklus', 1), ('Redzēsi', 1), ('Ies', 2), ('Slava', 2), ('Liela', 1), ('Kaudzēm', 1), ('Dzīvi', 3), ('Baudīsi', 1), ('Latviešiem', 1), ('Dzejnieku', 1), ('Milzīgs', 1), ('Bars', 2), ('Tiesas', 1), ('Dodam', 1), ('Šo', 1), ('Vārdu', 1), ('Dzejās', 1), ('Mīt', 1), ('Burvības', 1), ('Gars', 6), ('Miegu', 1), ('Dāvina', 1), ('Gārdu', 1), ('Gribi', 1), ('Tikt', 1), ('Labas', 1), ('Vietas', 1), ('Klanies', 1), ('Lokies', 1), ('Laizi', 1), ('Citi', 2), ('Kauna', 1), ('Lietas', 2), ('Nekas', 4), ('Nāk', 1), ('Maize', 1), ('Bagātnieku', 1), ('Lepniem', 1), ('Galdiem', 1), ('Pazemīgi', 1), ('Klātu', 1), ('Lieni', 1), ('Glaimošanas', 1), ('Vārdiem', 1), ('Saldiem', 1), ('Vien', 4), ('Spējas', 1), ('Cieni', 1), ('Dieva', 2), ('Dēļ', 1), ('Zemākajiem', 1), ('Nekad', 1), ('Neredz', 2), ('Min', 1), ('Virsū', 1), ('Vājiem', 1), ('Prātīgs', 1), ('Gādā', 1), ('Augstā', 1), ('Vietā', 2), ('Tiksi', 2), ('Slavēs', 1), ('Teiks', 1), ('Lielu', 1), ('Garu', 1), ('Līdzbiedrus', 1), ('Liksi', 1), ('Katris', 2), ('Bīsies', 1), ('Tavu', 1), ('Varu', 1), ('Gudro', 1), ('Gudrodams', 1), ('Mērķa', 2), ('Atrast', 1), ('Dzīvei', 2), ('Visi', 1), ('Ideāļi', 1), ('Tuvāk', 1), ('Apskatot', 1), ('Izrādās', 2), ('Tārpiem', 1), ('Izēsti', 1), ('Galu', 1), ('Galā', 2), ('Jāpaliek', 1), ('Lopam', 1), ('Nedomā', 1), ('Ēšanu', 1), ('Jeb', 1), ('Pesimistam', 1), ('(Vēstule', 1), ('E', 1), ('Treimanimzvārgulim', 1), ('1890', 1), ('Gada', 1), ('5', 1), ('Jūlijā)', 1), ('Zaļoja', 1), ('Jaunība', 1), ('Cerības', 3), ('Plauka', 1), ('Asins', 3), ('Karsta', 1), ('Gaišs', 1), ('Pasaule', 1), ('Visa', 1), ('Krāšņa', 1), ('Jauka', 1), ('Nākotne', 1), ('Spoža', 1), ('Saules', 1), ('Aizgāja', 1), ('Zuda', 1), ('Dūmi', 1), ('Mira', 1), ('Agrāk', 1), ('Daiļš', 2), ('Dievīgie', 1), ('Tēli', 1), ('Bāli', 1), ('Drūmi', 1), ('Dīdzis', 1), ('Ticībā', 1), ('Sēts', 1), ('Tukšām', 1), ('Paliekot', 1), ('Zinību', 2), ('Slāpēm', 1), ('Beidzoties', 1), ('Visam', 1), ('Pildījās', 1), ('Nāvīgām', 1), ('Asiņu', 1), ('Sāpēm', 1), ('Pagātne', 1), ('Arī', 1), ('Sedz', 1), ('Nicinu', 1), ('Tikai', 3), ('Murgi', 1), ('Nieks', 1), ('Laimi', 3), ('Pret', 1), ('Nelaimi', 1), ('Krūtis', 1), ('Cietas', 1), ('Gluži', 1), ('Vienalga', 1), ('Prieks', 2), ('Iedzer', 5), ('Brāli', 3), ('Ātrām', 1), ('Mūža', 1), ('Projām', 6), ('Skrien', 2), ('Tumšām', 1), ('Mājām', 1), ('Kapā', 2), ('Lien', 2), ('Laiki', 1), ('Grūti', 1), ('Ērkšķi', 1), ('Nikni', 1), ('Dur', 1), ('Mazāk', 1), ('Jūti', 1), ('Jaunu', 1), ('Bur', 1), ('Nodzer', 1), ('Prātu', 2), ('Kaudzes', 2), ('Muļķis', 1), ('Krātu', 1), ('Gudrais', 1), ('Ellē', 1), ('Viņas', 3), ('Veļ', 1), ('Grāmatu', 1), ('Šķirsti', 1), ('Mirušās', 1), ('Audzes', 1), ('Pētī', 1), ('Mirsti', 1), ('Nieki', 1), ('Baro', 1), ('Prieki', 1), ('Gaišāki', 1), ('Staro', 1), ('Gulbji', 1), ('Balti', 1), ('Padebeši', 1), ('Vēlētos', 1), ('Līdza', 1), ('Tāļu', 1), ('Skriet', 1), ('Tāļumā', 1), ('Ziemas', 1), ('Nepazīst', 1), ('Rozes', 1), ('Zied', 2), ('Nenovīst', 1), ('Veltīgi', 1), ('Laimību', 1), ('Kāro', 1), ('Met', 1), ('Tumšajā', 2), ('Saulainām', 1), ('Lejām', 2), ('Mirstīgais', 1), ('Šķirsts', 1), ('Jādzīvo', 2), ('Asaru', 1), ('Dūksnājā', 1), ('Slapjā', 1), ('Dzelži', 1), ('Cirvji', 1), ('Bez', 3), ('Rimšanas', 2), ('Klaudz', 1), ('Pārtikas', 1), ('Vergi', 2), ('Kauc', 1), ('Stiprākā', 1), ('Samīts', 1), ('Vājāks', 1), ('Lūst', 1), ('Sviedri', 1), ('Plūst', 1), ('Prātīgas', 1), ('Nozīme', 1), ('Tīrās', 1), ('Muļķības', 1), ('Blandās', 1), ('Gudrām', 1), ('Lietām', 2), ('Spriedelē', 1), ('Dievs', 1), ('Visaugstākais', 1), ('Pats', 2), ('Tuvākais', 1), ('Tiklīdz', 1), ('Izsalcis', 1), ('Atriebies', 1), ('Apnicis', 1), ('Kavējies', 1), ('Dzīvajos', 1), ('Lode', 1), ('Likteni', 1), ('Šķir', 1), ('Droši', 1), ('Nebūs', 1), ('Šis', 1), ('Niecīgais', 1), ('Muļķīgais', 1), ('Šeit', 1), ('Valdnieks', 2), ('Ielīgsmot', 1), ('Nebūsi', 1), ('Mīdīts', 1), ('Malas', 2), ('Bīdīts', 1), ('Žēlo', 1), ('Dzīvību', 2), ('Nespēsi', 1), ('Jāiet', 1), ('Ziņas', 1), ('Dzīvība', 1), ('Verdzībā', 1), ('Žūs', 1), ('Stars', 1), ('Aklajai', 1), ('Vistai', 1), ('Grauds', 1), ('Atrastos', 1), ('Tavs', 1), ('Nīcību', 1), ('Drūmīgi', 1), ('Labs', 2), ('Nīkt', 1), ('Izputēt', 1), ('Nolemts', 1), ('Beigties', 1), ('Pasteidzies', 1), ('Drīzāki', 1), ('Steigties', 1), ('Lai…', 1), ('Nicināju', 1), ('Nevajaga', 1), ('Joks', 1), ('Visu', 1), ('Smejies', 1), ('Laid', 3), ('Raud', 1), ('Vaid', 1), ('Pakavējies', 1), ('Netīk', 1), ('Citām', 1), ('Malām', 1), ('Vienā', 1), ('Sasmok', 1), ('Pasauls', 2), ('Galam', 1), ('Atradis', 1), ('Spārni', 1), ('Īsi', 1), ('Guli', 1), ('Liktens', 1), ('Sien', 1), ('Gaidi', 1), ('Nāvi', 1), ('Paradīzi', 1), ('Paliec', 1), ('Vājš', 1), ('Bedrē', 1), ('Kuļos', 1), ('Pliks', 1), ('Pa', 3), ('Nātrēm', 1), ('Raizes', 2), ('Moca', 1), ('Nakt', 1), ('Dien', 1), ('Vējam', 1), ('Ātram', 1), ('Ziedons', 1), ('Tumsība', 1), ('Skatās', 1), ('Aukstums', 1), ('Visur', 1), ('Ak', 1), ('Visas', 1), ('Platās', 1), ('Neviens', 1), ('Senatnē', 1), ('Vīri', 1), ('Liktenis', 1), ('Rūpestus', 1), ('Nedarīja', 1), ('Mierīgs', 1), ('Zokratam', 1), ('Palika', 1), ('Trakoja', 1), ('Vētra', 1), ('Skaists', 1), ('Ikkatram', 2), ('Pār', 1), ('Dabu', 1), ('Vara', 1), ('Sirdī', 1), ('Spožums', 1), ('Mūžības', 2), ('Gara', 1), ('Īsts', 1), ('Filozofs', 1), ('Pesimists', 1), ('Jautri', 1), ('Bauda', 1), ('Priecājas', 1), ('Jauda', 1), ('Mieži', 1), ('Laukos', 1), ('Kupli', 1), ('Briest', 1), ('Netrūkst', 1), ('Daiļas', 1), ('Skuķes', 1), ('Patīk', 1), ('Ciest', 1), ('Guļu', 1), ('Puķēs', 1), ('Neesmu', 1), ('Dubļos', 1), ('Dziļi', 1), ('Stidzis', 1), ('Atgriezties', 1), ('Labākam', 1), ('Dievības', 3), ('Gaišums', 1), ('Nīcis', 1), ('Dvēsele', 1), ('Augstākas', 1), ('Iegribas', 1), ('Uzdevums', 1), ('Grūtības', 1), ('Nest', 1), ('Mūs', 1), ('Radot', 1), ('Spriedis', 1), ('Nevienam', 1), ('Atļauts', 1), ('Prom', 1), ('Mest', 1), ('Dzīvojot', 1), ('Raudājis', 1), ('Cietis', 1), ('Augstāks', 1), ('Mērķis', 3), ('Aiz', 1), ('Zvaigznēm', 1), ('Sprausts', 1), ('Šaubās', 1), ('Šaubīsies', 1), ('Cilvēka', 2), ('Jaunam', 1), ('Līķa', 1), ('Palags', 1), ('Austs', 1), ('Asarās', 1), ('Paliekam', 1), ('Skumdināti', 1), ('Jātic', 2), ('Nekrīt', 1), ('Mats', 1), ('Nezina', 1), ('Acs', 1), ('Nemirstīgs', 1), ('Ziedēs', 1), ('Pavasars', 1), ('Raižu', 1), ('Grūtību', 1), ('Niknajos', 1), ('Karos', 1), ('Līgsmībā', 1), ('Staros', 1), ('Divdesmit', 1), ('Gadus', 1), ('Lugai', 1), ('Pienācis', 1), ('Slinkojis', 1), ('Centies', 1), ('Trūdēt', 1), ('Likteņa', 2), ('Sapņots', 1), ('Mūžīgām', 1), ('Slavu', 1), ('Kapa', 1), ('Grib', 1), ('Laurus', 1), ('Liek', 1), ('Lauri', 1), ('Gods', 1), ('Iznīkst', 1), ('Tāļāk', 2), ('Atkal', 1), ('Rit', 1), ('Šausmīgais', 1), ('Rats', 1), ('Skumjību', 1), ('Sviedīšu', 1), ('Tumšo', 1), ('Beigšu', 1), ('Ilgoties', 1), ('Iesākšu', 1), ('Ticēt', 1), ('Nāks', 2), ('Zilumā', 1), ('Spīguļo', 1), ('Zvaigznes', 1), ('Mūžīgā', 1), ('Kārtībā', 1), ('Kustas', 1), ('Drūmajos', 1), ('Viļņos', 1), ('Valda', 1), ('Īss', 1), ('Sprīdis', 1), ('Tuvu', 1), ('Šūpuliskaps', 1), ('Svara', 1), ('Brīdis', 1), ('Laba', 1), ('Skumjība', 1), ('Strādāšu', 1), ('Centīšos', 1), ('Labošu', 1), ('Pagātnes', 1), ('Riebīgās', 1), ('Pēdas', 1), ('Atpakaļ', 1), ('Mosties', 3), ('Svabadais', 1), ('Celies', 1), ('Salauzi', 1), ('Kalpības', 1), ('Spaidus', 1), ('Atpestī', 1), ('Cietējus', 1), ('Klusini', 1), ('Vaidus', 1), ('Cēlajais', 1), ('Tumšos', 1), ('Zemē', 3), ('Triec', 1), ('Svētos', 1), ('Bizuļusgarīdzniekus', 1), ('Kuri', 1), ('Melš', 1), ('Krāpdami', 1), ('Niekus', 1), ('Māņus', 1), ('Liec', 1), ('Kungus', 1), ('Lepnībā', 1), ('Šķērdīgi', 1), ('Putina', 1), ('Miljonu', 1), ('Sviedrus', 1), ('Kundzības', 1), ('Draugus', 1), ('Biedrus', 1), ('Savus', 1), ('Brāļus', 1), ('Spaida', 1), ('Klusā', 1), ('Naktī', 1), ('Lakstīgalas', 1), ('Klausīties', 1), ('Labprāt', 2), ('Tīkas', 2), ('Bučoties', 2), ('Daiļām', 1), ('Meitenēm', 1), ('Izrauties', 1), ('Ķibelēm', 1), ('Vairāk', 1), ('Tīk', 1), ('Lodes', 1), ('Kaujā', 1), ('Brīvie', 1), ('Skaņas', 1), ('Dziesmas', 1), ('Atskan', 1), ('Trokšņainas', 1), ('Peklē', 1), ('Gāžas', 1), ('Lepnie', 1), ('Staigājot', 1), ('Košām', 1), ('Puķu', 1), ('Apskaita', 1), ('Siena', 1), ('Nelasa', 1), ('Manām', 1), ('Piktu', 1), ('Viņš', 1), ('Iemantos', 1)])"
      ]
     },
     "execution_count": 114,
     "metadata": {},
     "output_type": "execute_result"
    }
   ],
   "source": [
    "cnt.items()"
   ]
  },
  {
   "cell_type": "code",
   "execution_count": 115,
   "metadata": {},
   "outputs": [],
   "source": [
    "with open('Veidwords.csv', 'w', encoding='utf-8') as myfile: #utf-8 very important when working with non English text!\n",
    "    wr = csv.writer(myfile)\n",
    "    wr.writerow([\"Word\", \"Count\"])\n",
    "    wr.writerows(cnt.items())"
   ]
  },
  {
   "cell_type": "code",
   "execution_count": 118,
   "metadata": {},
   "outputs": [],
   "source": [
    "# csv.writer(fout, delimiter='|', lineterminator='\\n\\n')\n",
    "with open('CommonWords.csv', 'w', encoding='utf-8') as myfile: #utf-8 very important when working with non English text!\n",
    "    wr = csv.writer(myfile, lineterminator='\\n')\n",
    "    wr.writerow([\"Word\", \"Count\"])\n",
    "    wr.writerows(cnt.most_common(50))"
   ]
  },
  {
   "cell_type": "code",
   "execution_count": 42,
   "metadata": {},
   "outputs": [
    {
     "data": {
      "text/plain": [
       "array([0, 1, 4, 3, 2, 6, 5, 8, 7, 9], dtype=int32)"
      ]
     },
     "execution_count": 42,
     "metadata": {},
     "output_type": "execute_result"
    }
   ],
   "source": [
    "# sort your values in descending order\n",
    "indSort = np.argsort(values)[::-1]\n",
    "indSort #indexes!"
   ]
  },
  {
   "cell_type": "code",
   "execution_count": 43,
   "metadata": {},
   "outputs": [],
   "source": [
    "# rearrange your data\n",
    "labels = np.array(labels)[indSort]\n",
    "values = np.array(values)[indSort]"
   ]
  },
  {
   "cell_type": "code",
   "execution_count": 44,
   "metadata": {},
   "outputs": [
    {
     "data": {
      "text/plain": [
       "array(['Un', 'Ir', 'Tu', 'Vēl', 'Tik', 'Kas', 'Bet', 'Man', 'Nav', 'Par'],\n",
       "      dtype='<U3')"
      ]
     },
     "execution_count": 44,
     "metadata": {},
     "output_type": "execute_result"
    }
   ],
   "source": [
    "labels"
   ]
  },
  {
   "cell_type": "code",
   "execution_count": 45,
   "metadata": {},
   "outputs": [
    {
     "data": {
      "text/plain": [
       "array([76, 24, 21, 21, 21, 15, 15, 14, 14, 13])"
      ]
     },
     "execution_count": 45,
     "metadata": {},
     "output_type": "execute_result"
    }
   ],
   "source": [
    "values"
   ]
  },
  {
   "cell_type": "code",
   "execution_count": 50,
   "metadata": {},
   "outputs": [
    {
     "data": {
      "text/plain": [
       "array([0, 1, 2, 3, 4, 5, 6, 7, 8, 9])"
      ]
     },
     "execution_count": 50,
     "metadata": {},
     "output_type": "execute_result"
    }
   ],
   "source": [
    "indexes = np.arange(len(labels))\n",
    "indexes"
   ]
  },
  {
   "cell_type": "code",
   "execution_count": 49,
   "metadata": {},
   "outputs": [
    {
     "data": {
      "text/plain": [
       "([<matplotlib.axis.XTick at 0x7f19f10>,\n",
       "  <matplotlib.axis.XTick at 0x7e933f0>,\n",
       "  <matplotlib.axis.XTick at 0x7e48150>,\n",
       "  <matplotlib.axis.XTick at 0x7eb9950>,\n",
       "  <matplotlib.axis.XTick at 0x7e809b0>,\n",
       "  <matplotlib.axis.XTick at 0x7e80190>,\n",
       "  <matplotlib.axis.XTick at 0x7e803f0>,\n",
       "  <matplotlib.axis.XTick at 0x7e80e30>,\n",
       "  <matplotlib.axis.XTick at 0x7e75230>,\n",
       "  <matplotlib.axis.XTick at 0x7e80090>],\n",
       " <a list of 10 Text xticklabel objects>)"
      ]
     },
     "execution_count": 49,
     "metadata": {},
     "output_type": "execute_result"
    },
    {
     "data": {
      "image/png": "[encoded data removed]",
      "text/plain": [
       "<matplotlib.figure.Figure at 0x7f28030>"
      ]
     },
     "metadata": {},
     "output_type": "display_data"
    }
   ],
   "source": [
    "plt.bar(indexes, values)\n",
    "bar_width = 0.3\n",
    "plt.xticks(indexes, labels)"
   ]
  },
  {
   "cell_type": "code",
   "execution_count": 75,
   "metadata": {},
   "outputs": [
    {
     "data": {
      "image/png": "[encoded data removed]",
      "text/plain": [
       "<matplotlib.figure.Figure at 0x8666350>"
      ]
     },
     "metadata": {},
     "output_type": "display_data"
    }
   ],
   "source": [
    "# from https://matplotlib.org/gallery/showcase/xkcd.html#sphx-glr-gallery-showcase-xkcd-py\n",
    "with plt.xkcd():\n",
    "    # Based on \"The Data So Far\" from XKCD by Randall Monroe\n",
    "    # http://xkcd.com/373/\n",
    "\n",
    "    fig = plt.figure()\n",
    "    ax = fig.add_axes((0.1, 0.2, 0.8, 0.7))\n",
    "    ax.bar([0, 1], [0, 100], 0.25)\n",
    "    #if we get some supernatural powers then: ax.bar([0, 1], [20, 100], 0.25)\n",
    "    ax.spines['right'].set_color('none')\n",
    "    ax.spines['top'].set_color('none')\n",
    "    ax.xaxis.set_ticks_position('bottom')\n",
    "    ax.set_xticks([0, 1])\n",
    "    ax.set_xlim([-0.5, 1.5])\n",
    "    ax.set_ylim([0, 110])\n",
    "    ax.set_xticklabels(['CONFIRMED BY\\nEXPERIMENT', 'REFUTED BY\\nEXPERIMENT'])\n",
    "    plt.yticks([])\n",
    "\n",
    "    plt.title(\"CLAIMS OF SUPERNATURAL POWERS\")\n",
    "\n",
    "    fig.text(\n",
    "        0.5, 0.01,\n",
    "        '\"The Data So Far\" from xkcd by Randall Monroe',\n",
    "        ha='center')\n",
    "\n",
    "plt.savefig('supernatural.png')    \n",
    "plt.show()"
   ]
  }
 ],
 "metadata": {
  "kernelspec": {
   "display_name": "Python 3",
   "language": "python",
   "name": "python3"
  },
  "language_info": {
   "codemirror_mode": {
    "name": "ipython",
    "version": 3
   },
   "file_extension": ".py",
   "mimetype": "text/x-python",
   "name": "python",
   "nbconvert_exporter": "python",
   "pygments_lexer": "ipython3",
   "version": "3.6.4"
  }
 },
 "nbformat": 4,
 "nbformat_minor": 2
}
