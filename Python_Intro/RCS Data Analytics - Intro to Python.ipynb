{
 "cells": [
  {
   "cell_type": "markdown",
   "metadata": {},
   "source": [
    "## RCS Data Analytics - Intro to Python"
   ]
  },
  {
   "cell_type": "markdown",
   "metadata": {},
   "source": [
    "### Jupyter Basics\n",
    "\n",
    "* Esc-M turns cell into Markdown cell for formatting (https://guides.github.com/pdfs/markdown-cheatsheet-online.pdf)\n",
    "* Esc-Y turns cell into code cell(default)\n",
    "\n",
    "\n",
    "* Ctrl-Enter runs code of cell in place\n",
    "* Alt-Enter runs code for current cell and creates a new cell below\n",
    "* Esc-A creates a new cell above current cell\n",
    "* Esc-B creates a new cell below current cell\n",
    "* Esc-dd deletes current cell"
   ]
  },
  {
   "cell_type": "markdown",
   "metadata": {},
   "source": [
    "## What is Programming? \n",
    "\n",
    "* Egg algorithm\n",
    "* Computers are stupid, they only do what they are told to do\n",
    "* If it is stupid but it works, then it is not stupid\n",
    "* Make it work, make it right, make it fast(last two steps often not required in real life)\n",
    "* GIGO principle\n",
    "\n",
    "* Error messages are nothing to be afraid of, usually the message will explain what needs fixing!"
   ]
  },
  {
   "cell_type": "markdown",
   "metadata": {},
   "source": [
    "## Why Python but not Julia or R or some other language or even VBA in Excel?\n",
    "### Readability, Glue Language(APIs), From Startups to Google and Facebook, Pipeline\n",
    "\n",
    "Prime numbers in J language used at some finance institutions **1: I. 2= +/ 0= (] |/ ]) i.y**"
   ]
  },
  {
   "cell_type": "code",
   "execution_count": null,
   "metadata": {},
   "outputs": [],
   "source": [
    "## Python created by Guido von Rossum in early 1990s  (later at Google,Dropbox)\n",
    "## Language reference: https://docs.python.org/3/index.html but not very friendly for first time"
   ]
  },
  {
   "cell_type": "code",
   "execution_count": null,
   "metadata": {},
   "outputs": [],
   "source": [
    "print(\"Hello World!\")"
   ]
  },
  {
   "cell_type": "code",
   "execution_count": null,
   "metadata": {},
   "outputs": [],
   "source": [
    "# Our first comment\n",
    "# Real Program Comments should generally describe why\n",
    "# Here  comments will describe extra information not covered or needed for starting out\n",
    "# REPL(Read,Eval,Print, Loop) \n",
    "# Python - Interpreted Language(commands executed as they come)"
   ]
  },
  {
   "cell_type": "code",
   "execution_count": null,
   "metadata": {},
   "outputs": [],
   "source": [
    "myname=\"Valdis\"\n",
    "# Creating our first variable will persist through this workbook once it is run"
   ]
  },
  {
   "cell_type": "code",
   "execution_count": null,
   "metadata": {},
   "outputs": [],
   "source": [
    "print(myname)\n",
    "#print is a function that takes at least one argument"
   ]
  },
  {
   "cell_type": "code",
   "execution_count": null,
   "metadata": {},
   "outputs": [],
   "source": [
    "favfood=\"potatoes\""
   ]
  },
  {
   "cell_type": "code",
   "execution_count": null,
   "metadata": {},
   "outputs": [],
   "source": [
    "print(f\"My name is {myname} and my favorite food is {favfood} \")\n",
    "# f strings in Python 3.6+ older formatting methods not covered in this course"
   ]
  },
  {
   "cell_type": "markdown",
   "metadata": {},
   "source": [
    "## What is a function?\n",
    "* A function is a block of organized, reusable code that is used to perform a single, related action.\n",
    "* Single, organized, related always ? :)\n",
    "###  DRY - Do not Repeat Yourself principle\n",
    "* Every piece of knowledge must have a single, unambiguous, authoritative representation within a system. http://wiki.c2.com/?DontRepeatYourself\n",
    "\n",
    "* Contrast WET - We Enjoy Typing, Write Everything Twice, Waste Everyone's Time"
   ]
  },
  {
   "cell_type": "code",
   "execution_count": null,
   "metadata": {},
   "outputs": [],
   "source": [
    "def printName(name):\n",
    "    print(f\"Maybe my name is: {name}\")\n"
   ]
  },
  {
   "cell_type": "code",
   "execution_count": null,
   "metadata": {},
   "outputs": [],
   "source": [
    "printName(\"Voldemars\")"
   ]
  },
  {
   "cell_type": "code",
   "execution_count": null,
   "metadata": {},
   "outputs": [],
   "source": [
    "#Functions can also return values\n",
    "def combinedName(name,last):\n",
    "    return name+\" \"+last"
   ]
  },
  {
   "cell_type": "code",
   "execution_count": null,
   "metadata": {},
   "outputs": [],
   "source": [
    "fullname=combinedName(\"Valdis\",\"Saulespurens\")"
   ]
  },
  {
   "cell_type": "code",
   "execution_count": null,
   "metadata": {},
   "outputs": [],
   "source": [
    "sometext=\"It's a string which allows single quotes\"\n",
    "anothertext='This string allows \"double quotes\" without escaping'\n",
    "longstring='''This is a multiline string\n",
    "Seriously long string with many lines\n",
    "lots of text covered'''"
   ]
  },
  {
   "cell_type": "code",
   "execution_count": null,
   "metadata": {},
   "outputs": [],
   "source": [
    "print(longstring)"
   ]
  },
  {
   "cell_type": "code",
   "execution_count": null,
   "metadata": {},
   "outputs": [],
   "source": [
    "## Some strings might need escaping such as \\\\, \\\", \\', \\t"
   ]
  },
  {
   "cell_type": "code",
   "execution_count": null,
   "metadata": {},
   "outputs": [],
   "source": [
    "## Everything in Python is an Object\n",
    "## can use id(myobject) to find its identity - place in memory\n",
    "## each object has a value with a type and can be mutable/immutable"
   ]
  },
  {
   "cell_type": "markdown",
   "metadata": {},
   "source": [
    "## Most imporant Python ideas\n",
    "* dir(myobject) to find what can be done\n",
    "* help(myobject) general help\n",
    "* type(myobject) what type it is\n",
    "\n",
    "## : indicates a new indentation level "
   ]
  },
  {
   "cell_type": "markdown",
   "metadata": {},
   "source": [
    "\n",
    "### Data types in Python 3.x\n",
    "\n",
    "* Integers type(42) int\n",
    "* Floating Point type(3.14) float\n",
    "* Boolean type(True),type(False) bool\n",
    "* String(ordered, immutable char sequence) type(\"OyCaramba\") str\n",
    "* List type([1,2,63,\"aha\",\"youcanmixtypeinsidelist\", [\"even\",\"nest\"]]) list\n",
    "* Dictionary(key:value pairs) type({\"foo\":\"bar\", \"favoriteday\":\"Friday\"}) dict\n",
    "* Tuple - ordered immutable sequence type(\"sup\",7,\"dwarves\") tup\n",
    "* Set (unordered collection of uniques) (\"k\",\"a\",\"r\",\"t\",\"u\",\"p\",\"e\",\"l\",\"i\",\"s\")"
   ]
  },
  {
   "cell_type": "code",
   "execution_count": null,
   "metadata": {},
   "outputs": [],
   "source": [
    "# Variables\n",
    "a = 5 # Integer\n",
    "b = 5.6 # Float\n",
    "c = \"sometext\" # String\n",
    "print(type(a),type(b),type(c))\n"
   ]
  },
  {
   "cell_type": "code",
   "execution_count": null,
   "metadata": {},
   "outputs": [],
   "source": [
    "a = \"42\" # now a is a String\n",
    "type(a) # notice how without print the output is a bit different"
   ]
  },
  {
   "cell_type": "code",
   "execution_count": null,
   "metadata": {},
   "outputs": [],
   "source": [
    "# Naming conventions\n",
    "# start with lowercase\n",
    "# _ between words or camelCase\n",
    "# style guide: https://www.python.org/dev/peps/pep-0008/"
   ]
  },
  {
   "cell_type": "markdown",
   "metadata": {},
   "source": [
    "## Arithmethic Operators\n",
    "## + - * / \n",
    "## **(power) \n",
    "## % modulus \n",
    "## //(integer division)\n"
   ]
  },
  {
   "cell_type": "code",
   "execution_count": null,
   "metadata": {},
   "outputs": [],
   "source": [
    "5+4*3-(6/2)"
   ]
  },
  {
   "cell_type": "code",
   "execution_count": null,
   "metadata": {},
   "outputs": [],
   "source": [
    "5//2\n"
   ]
  },
  {
   "cell_type": "code",
   "execution_count": null,
   "metadata": {},
   "outputs": [],
   "source": [
    "4%3"
   ]
  },
  {
   "cell_type": "code",
   "execution_count": null,
   "metadata": {},
   "outputs": [],
   "source": [
    "type(1)"
   ]
  },
  {
   "cell_type": "code",
   "execution_count": null,
   "metadata": {},
   "outputs": [],
   "source": [
    "type(14.0)"
   ]
  },
  {
   "cell_type": "code",
   "execution_count": null,
   "metadata": {},
   "outputs": [],
   "source": [
    "5**33"
   ]
  },
  {
   "cell_type": "code",
   "execution_count": null,
   "metadata": {},
   "outputs": [],
   "source": [
    "11**120 # no maximum anymore"
   ]
  },
  {
   "cell_type": "markdown",
   "metadata": {},
   "source": [
    "### Lists\n"
   ]
  },
  {
   "cell_type": "code",
   "execution_count": null,
   "metadata": {},
   "outputs": [],
   "source": [
    "mylist = list(range(11,21,1)) \n",
    "# mylist = [11, 12, 13, 14, 15, 16, 17, 18, 19, 20] would work too but not practical for longer ranges...\n",
    "print(mylist)"
   ]
  },
  {
   "cell_type": "markdown",
   "metadata": {},
   "source": [
    "### Slice notation\n",
    "\n",
    "somestring[start:end:step]\n",
    "\n",
    "somelist[start:end:step]\n",
    "\n",
    "start is at index 0(first element), end is -1 the actual index\n",
    "#### Examples below"
   ]
  },
  {
   "cell_type": "code",
   "execution_count": null,
   "metadata": {},
   "outputs": [],
   "source": [
    "mylist[0]"
   ]
  },
  {
   "cell_type": "code",
   "execution_count": null,
   "metadata": {},
   "outputs": [],
   "source": [
    "mylist[3:]"
   ]
  },
  {
   "cell_type": "code",
   "execution_count": null,
   "metadata": {},
   "outputs": [],
   "source": [
    "mylist[:-2]"
   ]
  },
  {
   "cell_type": "code",
   "execution_count": null,
   "metadata": {},
   "outputs": [],
   "source": [
    "mylist[::2]"
   ]
  },
  {
   "cell_type": "code",
   "execution_count": null,
   "metadata": {},
   "outputs": [],
   "source": [
    "\"Valdis\"[2:5]"
   ]
  },
  {
   "cell_type": "code",
   "execution_count": null,
   "metadata": {},
   "outputs": [],
   "source": [
    "myname[-1]"
   ]
  },
  {
   "cell_type": "code",
   "execution_count": null,
   "metadata": {},
   "outputs": [],
   "source": [
    "myname[::-1]"
   ]
  },
  {
   "cell_type": "markdown",
   "metadata": {},
   "source": [
    "\n",
    "### Common list methods.\n",
    "* list.append(elem) -- adds a single element to the end of the list. Common error: does not return the new list, just modifies the original.\n",
    "* list.insert(index, elem) -- inserts the element at the given index, shifting elements to the right.\n",
    "* list.extend(list2) adds the elements in list2 to the end of the list. Using + or += on a list is similar to using extend().\n",
    "* list.index(elem) -- searches for the given element from the start of the list and returns its index. Throws a ValueError if the element does not appear (use \"in\" to check without a ValueError).\n",
    "* list.remove(elem) -- searches for the first instance of the given element and removes it (throws ValueError if not present)\n",
    "* list.sort() -- sorts the list in place (does not return it). (The sorted() function shown later is preferred.)\n",
    "* list.reverse() -- reverses the list in place (does not return it)\n",
    "* list.pop(index)-- removes and returns the element at the given index. Returns the rightmost element if index is omitted (roughly the opposite of append())."
   ]
  },
  {
   "cell_type": "markdown",
   "metadata": {},
   "source": [
    "### Dictionaries"
   ]
  },
  {
   "cell_type": "code",
   "execution_count": null,
   "metadata": {},
   "outputs": [],
   "source": [
    "mydict = {\"country\":\"Latvia\"} #Key-Value store, also knows as Hashmaps, Keys must be unique"
   ]
  },
  {
   "cell_type": "code",
   "execution_count": null,
   "metadata": {},
   "outputs": [],
   "source": [
    "mydict[\"food\"]=\"potatoes\""
   ]
  },
  {
   "cell_type": "code",
   "execution_count": null,
   "metadata": {},
   "outputs": [],
   "source": [
    "mydict[\"food\"]"
   ]
  },
  {
   "cell_type": "code",
   "execution_count": null,
   "metadata": {},
   "outputs": [],
   "source": [
    "mydict[\"country\"]"
   ]
  },
  {
   "cell_type": "code",
   "execution_count": null,
   "metadata": {},
   "outputs": [],
   "source": [
    "mydict.keys()"
   ]
  },
  {
   "cell_type": "code",
   "execution_count": null,
   "metadata": {},
   "outputs": [],
   "source": [
    "mydict.values()"
   ]
  },
  {
   "cell_type": "markdown",
   "metadata": {},
   "source": [
    "## Conditional operators \n",
    "### < > <= >= == != and or not"
   ]
  },
  {
   "cell_type": "code",
   "execution_count": null,
   "metadata": {},
   "outputs": [],
   "source": [
    "if 5 >= 5:\n",
    "    print(\"hello\")\n",
    "if 5 <= 5:\n",
    "    print(\"hello\")\n",
    "if 5 == 6:\n",
    "    print(\"hello thats magic\")\n",
    "if 5 != 6:\n",
    "    print(\"hello thats not magic\")"
   ]
  },
  {
   "cell_type": "code",
   "execution_count": null,
   "metadata": {},
   "outputs": [],
   "source": [
    "def printnum(num):\n",
    "    if num > 10:\n",
    "        print(f\"This number {num} is too unwieldy for me to print\")\n",
    "    else:\n",
    "        print(f\"This {num} is a nice number\")"
   ]
  },
  {
   "cell_type": "code",
   "execution_count": null,
   "metadata": {},
   "outputs": [],
   "source": [
    "def isEven(num):\n",
    "    if num%2 == 0:\n",
    "        print(f\"{num} is even\")\n",
    "    else:\n",
    "        print(f\"{num} is odd\")\n",
    "\n",
    "isEven(3)\n",
    "isEven(4)"
   ]
  },
  {
   "cell_type": "markdown",
   "metadata": {},
   "source": [
    "## Loops"
   ]
  },
  {
   "cell_type": "code",
   "execution_count": null,
   "metadata": {},
   "outputs": [],
   "source": [
    "for x in range(10):\n",
    "    print(x)"
   ]
  },
  {
   "cell_type": "code",
   "execution_count": null,
   "metadata": {},
   "outputs": [],
   "source": [
    "for c in \"Valdis\":\n",
    "    print(c)"
   ]
  },
  {
   "cell_type": "code",
   "execution_count": null,
   "metadata": {},
   "outputs": [],
   "source": [
    "for k,v in mydict.items():\n",
    "    print(k,v)"
   ]
  },
  {
   "cell_type": "code",
   "execution_count": null,
   "metadata": {},
   "outputs": [],
   "source": [
    "printnum(3)"
   ]
  },
  {
   "cell_type": "code",
   "execution_count": null,
   "metadata": {},
   "outputs": [],
   "source": [
    "## Splitting a line of text into words\n",
    "mytext = \"A quick brown fox jumped over a sleeping dog\"\n",
    "words = mytext.split()\n"
   ]
  },
  {
   "cell_type": "code",
   "execution_count": null,
   "metadata": {},
   "outputs": [],
   "source": [
    "print(words)"
   ]
  },
  {
   "cell_type": "code",
   "execution_count": null,
   "metadata": {},
   "outputs": [],
   "source": [
    "## Print first letter of each word\n",
    "for w in words:\n",
    "    print(w[0], w[0].isupper(), w.istitle()) ## istitle() checks every word in a string so not good for unsplit strings"
   ]
  },
  {
   "cell_type": "code",
   "execution_count": null,
   "metadata": {},
   "outputs": [],
   "source": [
    "# Homework clean up the following text file by printing only capitalized words\n",
    "# if unsure how to do it in python just write a # comment on what  you would do\n"
   ]
  },
  {
   "cell_type": "code",
   "execution_count": 3,
   "metadata": {},
   "outputs": [],
   "source": [
    "myline=\"Mr. Sherlock Holmes, who was usually very late in the mornings\""
   ]
  },
  {
   "cell_type": "code",
   "execution_count": 4,
   "metadata": {},
   "outputs": [],
   "source": [
    "words=myline.split()"
   ]
  },
  {
   "cell_type": "code",
   "execution_count": 5,
   "metadata": {},
   "outputs": [
    {
     "data": {
      "text/plain": [
       "['Mr.',\n",
       " 'Sherlock',\n",
       " 'Holmes,',\n",
       " 'who',\n",
       " 'was',\n",
       " 'usually',\n",
       " 'very',\n",
       " 'late',\n",
       " 'in',\n",
       " 'the',\n",
       " 'mornings']"
      ]
     },
     "execution_count": 5,
     "metadata": {},
     "output_type": "execute_result"
    }
   ],
   "source": [
    "words"
   ]
  },
  {
   "cell_type": "code",
   "execution_count": 8,
   "metadata": {},
   "outputs": [
    {
     "data": {
      "text/plain": [
       "True"
      ]
     },
     "execution_count": 8,
     "metadata": {},
     "output_type": "execute_result"
    }
   ],
   "source": [
    "words[1][0].isupper()"
   ]
  },
  {
   "cell_type": "code",
   "execution_count": null,
   "metadata": {},
   "outputs": [],
   "source": []
  },
  {
   "cell_type": "code",
   "execution_count": 17,
   "metadata": {},
   "outputs": [],
   "source": [
    "def processLine(line):\n",
    "    words = line.split()\n",
    "    linegood=False\n",
    "    for word in words:        \n",
    "        if word[0].isupper():\n",
    "            print(word, end='\\t')\n",
    "            linegood=True\n",
    "    if linegood == True:\n",
    "        print('')"
   ]
  },
  {
   "cell_type": "code",
   "execution_count": 18,
   "metadata": {},
   "outputs": [
    {
     "name": "stdout",
     "output_type": "stream",
     "text": [
      "Chapter\t\n",
      "Mr.\tSherlock\tHolmes\t\n",
      "Mr.\tSherlock\tHolmes,\t\n",
      "I\t\n",
      "It\t\n",
      "Just\t\n",
      "James\tMortimer,\tM.R.C.S.,\t\n",
      "C.C.H.,\"\tIt\t\n",
      "Watson,\t\n",
      "Holmes\tI\t\n",
      "I\tI\t\n",
      "Watson,\t\n",
      "Since\t\n",
      "Let\t\n",
      "I,\tI\t\n",
      "Dr.\tMortimer\t\n",
      "Holmes.\t\n",
      "I\t\n",
      "The\t\n",
      "Holmes.\t\n",
      "C.C.H.'\tI\t\n",
      "Something\tHunt,\t\n",
      "Watson,\tHolmes,\t\n",
      "It\t\n",
      "Some\t\n",
      "I\t\n",
      "I\t\n",
      "He\tI\t\n",
      "I\t\n",
      "I\t\n",
      "I\t\n",
      "I\t\n",
      "He\t\n",
      "Then\t\n",
      "It\t\n",
      "I\t\n",
      "I\t\n",
      "Watson,\t\n",
      "When\tI\tI\t\n",
      "I\t\n",
      "Not\t\n",
      "The\tAnd\t\n",
      "I\t\n",
      "Watson,\tI\t\n",
      "Cross'\t\n",
      "And\t\n",
      "Cross\tHospital,'\t\n",
      "You\tApply\t\n",
      "Look\t\n",
      "On\t\n",
      "When\t\n",
      "Obviously\t\n",
      "Dr.\tMortimer\t\n",
      "We\t\n",
      "We\t\n",
      "Is\t\n",
      "London\t\n",
      "What\tIf\t\n",
      "And\tSo\t\n",
      "Watson,\t\n",
      "I\t\n",
      "I\tSherlock\tHolmes\t\n",
      "I\tI,\t\n",
      "From\t\n",
      "I\tMedical\tDirectory\t\n",
      "There\tMortimers,\t\n",
      "I\t\n",
      "James,\tM.R.C.S.,\tGrimpen,\tDartmoor,\t\n",
      "Devon.\tHouse-surgeon,\tCharing\tCross\t\n",
      "Hospital.\tWinner\tJackson\tComparative\tPathology,\t\n",
      "Disease\tReversion?'\tCorresponding\t\n",
      "Swedish\tPathological\tSociety.\tAuthor\t\n",
      "Freaks\tAtavism'\tWe\tProgress?'\t\n",
      "Psychology,\tMarch,\tMedical\tOfficer\t\n",
      "Grimpen,\tThorsley,\tHigh\tBarrow.\"\t\n",
      "Watson,\"\tHolmes\t\n",
      "I\tI\tAs\t\n",
      "I\tI\t\n",
      "It\t\n",
      "London\t\n",
      "Being\t\n",
      "The\t\n",
      "It\t\n",
      "Jove,\t\n",
      "He\tNow\t\n",
      "There\t\n",
      "I\t\n",
      "I\t\n",
      "Don't\tI\t\n",
      "Watson.\tHe\t\n",
      "Now\t\n",
      "Watson,\t\n",
      "What\tDr.\tJames\tMortimer,\tSherlock\t\n",
      "Holmes,\tCome\t\n",
      "The\tI\t\n",
      "He\t\n",
      "He\t\n",
      "Though\t\n",
      "As\t\n",
      "Holmes's\t\n",
      "I\tShipping\tOffice.\tI\t\n",
      "I\tHolmes.\t\n",
      "Charing\tCross\tHospital?\"\t\n",
      "Holmes,\t\n",
      "Dr.\tMortimer\t\n",
      "Your\t\n",
      "I\t\n",
      "It\t\n",
      "Holmes.\t\n",
      "Dr.\tJames\tMortimer\t\n",
      "Mister--a\tM.R.C.S.\"\t\n",
      "Mr.\tHolmes,\t\n",
      "I\tMr.\t\n",
      "Sherlock\tHolmes\tI\t\n",
      "Dr.\tWatson.\"\t\n",
      "I\t\n",
      "You\t\n",
      "Mr.\tHolmes.\tI\t\n",
      "Would\t\n",
      "A\t\n",
      "It\t\n",
      "I\tI\t\n",
      "Sherlock\tHolmes\t\n",
      "I\tI\t\n",
      "Have\t\n",
      "The\t\n",
      "He\t\n",
      "Holmes\t\n",
      "I\t\n",
      "I\tMr.\tHolmes,\tI\t\n",
      "I\tI\t\n",
      "Recognizing,\tI\t\n",
      "Europe\t\n",
      "May\tI\t\n",
      "Holmes\t\n",
      "Monsieur\t\n",
      "Bertillon\t\n",
      "But\t\n",
      "I\tI\t\n",
      "Holmes.\tDr.\tMortimer,\t\n"
     ]
    }
   ],
   "source": [
    "# This will work on large files even Terabytes! Saves memory usage, only one line at a time\n",
    "# Very common pattern for processing unstructured text\n",
    "with open(\"CH1_BASK.txt\") as f:\n",
    "    for line in f:\n",
    "        processLine(line)"
   ]
  }
 ],
 "metadata": {
  "kernelspec": {
   "display_name": "Python 3",
   "language": "python",
   "name": "python3"
  },
  "language_info": {
   "codemirror_mode": {
    "name": "ipython",
    "version": 3
   },
   "file_extension": ".py",
   "mimetype": "text/x-python",
   "name": "python",
   "nbconvert_exporter": "python",
   "pygments_lexer": "ipython3",
   "version": "3.6.4"
  }
 },
 "nbformat": 4,
 "nbformat_minor": 2
}
