{
 "cells": [
  {
   "cell_type": "markdown",
   "metadata": {},
   "source": [
    "## RCS Data Analytics - Intro to Python"
   ]
  },
  {
   "cell_type": "markdown",
   "metadata": {},
   "source": [
    "### Jupyter Basics\n",
    "\n",
    "* Esc-M turns cell into Markdown cell for formatting (https://guides.github.com/pdfs/markdown-cheatsheet-online.pdf)\n",
    "* Esc-Y turns cell into code cell(default)\n",
    "\n",
    "\n",
    "* Ctrl-Enter runs code of cell in place\n",
    "* Alt-Enter runs code for current cell and creates a new cell below\n",
    "* Esc-A creates a new cell above current cell\n",
    "* Esc-B creates a new cell below current cell\n",
    "* Esc-dd deletes current cell"
   ]
  },
  {
   "cell_type": "markdown",
   "metadata": {},
   "source": [
    "## What is Programming? \n",
    "\n",
    "* Egg algorithm\n",
    "* Computers are stupid, they only do what they are told to do\n",
    "* If it is stupid but it works, then it is not stupid\n",
    "* Make it work, make it right, make it fast(last two steps often not required in real life)\n",
    "* GIGO principle"
   ]
  },
  {
   "cell_type": "markdown",
   "metadata": {},
   "source": [
    "## Why Python but not Julia or R or some other language or even VBA in Excel?\n",
    "### Readability, Glue Language(APIs), From Startups to Google and Facebook, Pipeline\n",
    "\n",
    "Prime numbers in J language used at some finance institutions **1: I. 2= +/ 0= (] |/ ]) i.y**"
   ]
  },
  {
   "cell_type": "code",
   "execution_count": 30,
   "metadata": {},
   "outputs": [],
   "source": [
    "## Python created by Guido von Rossum in early 1990s  (later at Google,Dropbox)\n",
    "## Language reference: https://docs.python.org/3/index.html but not very friendly for first time"
   ]
  },
  {
   "cell_type": "code",
   "execution_count": 1,
   "metadata": {},
   "outputs": [
    {
     "name": "stdout",
     "output_type": "stream",
     "text": [
      "Hello World!\n"
     ]
    }
   ],
   "source": [
    "print(\"Hello World!\")"
   ]
  },
  {
   "cell_type": "code",
   "execution_count": 6,
   "metadata": {},
   "outputs": [],
   "source": [
    "# Our first comment\n",
    "# Real Program Comments should generally describe why\n",
    "# Here  comments will describe extra information not covered or needed for starting out\n",
    "# REPL(Read,Eval,Print, Loop) \n",
    "# Python - Interpreted Language(commands executed as they come)"
   ]
  },
  {
   "cell_type": "code",
   "execution_count": 27,
   "metadata": {},
   "outputs": [],
   "source": [
    "myname=\"Valdis\"\n",
    "# Creating our first variable will persist through this workbook once it is run"
   ]
  },
  {
   "cell_type": "code",
   "execution_count": 16,
   "metadata": {},
   "outputs": [
    {
     "name": "stdout",
     "output_type": "stream",
     "text": [
      "Valdis\n"
     ]
    }
   ],
   "source": [
    "print(myname)\n",
    "#print is a function that takes at least one argument"
   ]
  },
  {
   "cell_type": "code",
   "execution_count": 7,
   "metadata": {},
   "outputs": [],
   "source": [
    "favfood=\"potatoes\""
   ]
  },
  {
   "cell_type": "code",
   "execution_count": 8,
   "metadata": {},
   "outputs": [
    {
     "name": "stdout",
     "output_type": "stream",
     "text": [
      "My name is Valdis and my favorite food is potatoes \n"
     ]
    }
   ],
   "source": [
    "print(f\"My name is {myname} and my favorite food is {favfood} \")\n",
    "# f strings in Python 3.6+ older formatting methods not covered in this course"
   ]
  },
  {
   "cell_type": "markdown",
   "metadata": {},
   "source": [
    "## What is a function?\n",
    "* A function is a block of organized, reusable code that is used to perform a single, related action.\n",
    "* Single, organized, related always ? :)\n",
    "###  DRY - Do not Repeat Yourself principle\n",
    "* Every piece of knowledge must have a single, unambiguous, authoritative representation within a system. http://wiki.c2.com/?DontRepeatYourself\n",
    "\n",
    "* Contrast WET - We Enjoy Typing, Write Everything Twice, Waste Everyone's Time"
   ]
  },
  {
   "cell_type": "code",
   "execution_count": 11,
   "metadata": {},
   "outputs": [],
   "source": [
    "def printName(name):\n",
    "    print(f\"Maybe my name is: {name}\")\n"
   ]
  },
  {
   "cell_type": "code",
   "execution_count": 12,
   "metadata": {},
   "outputs": [
    {
     "name": "stdout",
     "output_type": "stream",
     "text": [
      "Maybe my name is: Voldemars\n"
     ]
    }
   ],
   "source": [
    "printName(\"Voldemars\")"
   ]
  },
  {
   "cell_type": "code",
   "execution_count": 14,
   "metadata": {},
   "outputs": [],
   "source": [
    "sometext=\"It's a string which allows single quotes\"\n",
    "anothertext='This string allows \"double quotes\" without escaping'\n",
    "longstring='''This is a multiline string\n",
    "Seriously long string with many lines\n",
    "lots of text covered'''"
   ]
  },
  {
   "cell_type": "code",
   "execution_count": 15,
   "metadata": {},
   "outputs": [
    {
     "name": "stdout",
     "output_type": "stream",
     "text": [
      "This is a multiline string\n",
      "Seriously long string with many lines\n",
      "lots of text covered\n"
     ]
    }
   ],
   "source": [
    "print(longstring)"
   ]
  },
  {
   "cell_type": "code",
   "execution_count": 26,
   "metadata": {},
   "outputs": [],
   "source": [
    "## Some strings might need escaping such as \\\\, \\\", \\', \\t"
   ]
  },
  {
   "cell_type": "code",
   "execution_count": null,
   "metadata": {},
   "outputs": [],
   "source": [
    "## Everything in Python is an Object\n",
    "## can use id(myobject) to find its identity - place in memory\n",
    "## each object has a value with a type and can be mutable/immutable"
   ]
  },
  {
   "cell_type": "markdown",
   "metadata": {},
   "source": [
    "## Most imporant Python ideas\n",
    "* dir(myobject) to find what can be done\n",
    "* help(myobject) general help\n",
    "* type(myobject) what type it is\n",
    "\n",
    "## : indicates a new indentation level "
   ]
  },
  {
   "cell_type": "markdown",
   "metadata": {},
   "source": [
    "\n",
    "### Data types in Python 3.x\n",
    "\n",
    "* Integers type(42) int\n",
    "* Floating Point type(3.14) float\n",
    "* Boolean type(True),type(False) bool\n",
    "* String(ordered, immutable char sequence) type(\"OyCaramba\") str\n",
    "* List type([1,2,63,\"aha\",\"youcanmixtypeinsidelist\", [\"even\",\"nest\"]]) list\n",
    "* Dictionary(key:value pairs) type({\"foo\":\"bar\", \"favoriteday\":\"Friday\"}) dict\n",
    "* Tuple - ordered immutable sequence type(\"sup\",7,\"dwarves\") tup\n",
    "* Set (unordered collection of uniques) (\"k\",\"a\",\"r\",\"t\",\"u\",\"p\",\"e\",\"l\",\"i\",\"s\")"
   ]
  },
  {
   "cell_type": "code",
   "execution_count": 18,
   "metadata": {},
   "outputs": [
    {
     "name": "stdout",
     "output_type": "stream",
     "text": [
      "<class 'int'> <class 'float'> <class 'str'>\n"
     ]
    }
   ],
   "source": [
    "# Variables\n",
    "a = 5 # Integer\n",
    "b = 5.6 # Float\n",
    "c = \"sometext\" # String\n",
    "print(type(a),type(b),type(c))\n"
   ]
  },
  {
   "cell_type": "code",
   "execution_count": 19,
   "metadata": {},
   "outputs": [
    {
     "data": {
      "text/plain": [
       "str"
      ]
     },
     "execution_count": 19,
     "metadata": {},
     "output_type": "execute_result"
    }
   ],
   "source": [
    "a = \"42\" # now a is a String\n",
    "type(a) # notice how without print the output is a bit different"
   ]
  },
  {
   "cell_type": "code",
   "execution_count": null,
   "metadata": {},
   "outputs": [],
   "source": [
    "# Naming conventions\n",
    "# start with lowercase\n",
    "# _ between words or camelCase\n",
    "# style guide: https://www.python.org/dev/peps/pep-0008/"
   ]
  },
  {
   "cell_type": "markdown",
   "metadata": {},
   "source": [
    "## Arithmethic Operators\n",
    "## + - * / \n",
    "## **(power) \n",
    "## % modulus \n",
    "## //(integer division)\n"
   ]
  },
  {
   "cell_type": "code",
   "execution_count": 20,
   "metadata": {},
   "outputs": [
    {
     "data": {
      "text/plain": [
       "14.0"
      ]
     },
     "execution_count": 20,
     "metadata": {},
     "output_type": "execute_result"
    }
   ],
   "source": [
    "5+4*3-(6/2)"
   ]
  },
  {
   "cell_type": "code",
   "execution_count": 19,
   "metadata": {},
   "outputs": [
    {
     "data": {
      "text/plain": [
       "2"
      ]
     },
     "execution_count": 19,
     "metadata": {},
     "output_type": "execute_result"
    }
   ],
   "source": [
    "5//2\n"
   ]
  },
  {
   "cell_type": "code",
   "execution_count": 20,
   "metadata": {},
   "outputs": [
    {
     "data": {
      "text/plain": [
       "1"
      ]
     },
     "execution_count": 20,
     "metadata": {},
     "output_type": "execute_result"
    }
   ],
   "source": [
    "4%3"
   ]
  },
  {
   "cell_type": "code",
   "execution_count": 7,
   "metadata": {},
   "outputs": [
    {
     "data": {
      "text/plain": [
       "int"
      ]
     },
     "execution_count": 7,
     "metadata": {},
     "output_type": "execute_result"
    }
   ],
   "source": [
    "type(1)"
   ]
  },
  {
   "cell_type": "code",
   "execution_count": 8,
   "metadata": {},
   "outputs": [
    {
     "data": {
      "text/plain": [
       "float"
      ]
     },
     "execution_count": 8,
     "metadata": {},
     "output_type": "execute_result"
    }
   ],
   "source": [
    "type(14.0)"
   ]
  },
  {
   "cell_type": "code",
   "execution_count": 21,
   "metadata": {},
   "outputs": [
    {
     "data": {
      "text/plain": [
       "116415321826934814453125"
      ]
     },
     "execution_count": 21,
     "metadata": {},
     "output_type": "execute_result"
    }
   ],
   "source": [
    "5**33"
   ]
  },
  {
   "cell_type": "code",
   "execution_count": 24,
   "metadata": {},
   "outputs": [
    {
     "data": {
      "text/plain": [
       "92709068817830061978520606494193845859707401497097037749844778027824097442147966967457359038488841338006006032592594389655201"
      ]
     },
     "execution_count": 24,
     "metadata": {},
     "output_type": "execute_result"
    }
   ],
   "source": [
    "11**120 # no maximum anymore"
   ]
  },
  {
   "cell_type": "markdown",
   "metadata": {},
   "source": [
    "### Lists\n"
   ]
  },
  {
   "cell_type": "code",
   "execution_count": 54,
   "metadata": {},
   "outputs": [
    {
     "name": "stdout",
     "output_type": "stream",
     "text": [
      "[11, 12, 13, 14, 15, 16, 17, 18, 19, 20]\n"
     ]
    }
   ],
   "source": [
    "mylist = list(range(11,21,1)) \n",
    "# mylist = [11, 12, 13, 14, 15, 16, 17, 18, 19, 20] would work too but not practical for longer ranges...\n",
    "print(mylist)"
   ]
  },
  {
   "cell_type": "markdown",
   "metadata": {},
   "source": [
    "### Slice notation\n",
    "\n",
    "somestring[start:end:step]\n",
    "\n",
    "somelist[start:end:step]\n",
    "\n",
    "start is at index 0(first element), end is -1 the actual index\n",
    "#### Examples below"
   ]
  },
  {
   "cell_type": "code",
   "execution_count": 55,
   "metadata": {},
   "outputs": [
    {
     "data": {
      "text/plain": [
       "11"
      ]
     },
     "execution_count": 55,
     "metadata": {},
     "output_type": "execute_result"
    }
   ],
   "source": [
    "mylist[0]"
   ]
  },
  {
   "cell_type": "code",
   "execution_count": 56,
   "metadata": {},
   "outputs": [
    {
     "data": {
      "text/plain": [
       "[14, 15, 16, 17, 18, 19, 20]"
      ]
     },
     "execution_count": 56,
     "metadata": {},
     "output_type": "execute_result"
    }
   ],
   "source": [
    "mylist[3:]"
   ]
  },
  {
   "cell_type": "code",
   "execution_count": 57,
   "metadata": {},
   "outputs": [
    {
     "data": {
      "text/plain": [
       "[11, 12, 13, 14, 15, 16, 17, 18]"
      ]
     },
     "execution_count": 57,
     "metadata": {},
     "output_type": "execute_result"
    }
   ],
   "source": [
    "mylist[:-2]"
   ]
  },
  {
   "cell_type": "code",
   "execution_count": 58,
   "metadata": {},
   "outputs": [
    {
     "data": {
      "text/plain": [
       "[11, 13, 15, 17, 19]"
      ]
     },
     "execution_count": 58,
     "metadata": {},
     "output_type": "execute_result"
    }
   ],
   "source": [
    "mylist[::2]"
   ]
  },
  {
   "cell_type": "code",
   "execution_count": 59,
   "metadata": {},
   "outputs": [
    {
     "data": {
      "text/plain": [
       "'ldi'"
      ]
     },
     "execution_count": 59,
     "metadata": {},
     "output_type": "execute_result"
    }
   ],
   "source": [
    "\"Valdis\"[2:5]"
   ]
  },
  {
   "cell_type": "code",
   "execution_count": 60,
   "metadata": {},
   "outputs": [
    {
     "data": {
      "text/plain": [
       "'s'"
      ]
     },
     "execution_count": 60,
     "metadata": {},
     "output_type": "execute_result"
    }
   ],
   "source": [
    "myname[-1]"
   ]
  },
  {
   "cell_type": "code",
   "execution_count": 61,
   "metadata": {},
   "outputs": [
    {
     "data": {
      "text/plain": [
       "'sidlaV'"
      ]
     },
     "execution_count": 61,
     "metadata": {},
     "output_type": "execute_result"
    }
   ],
   "source": [
    "myname[::-1]"
   ]
  },
  {
   "cell_type": "markdown",
   "metadata": {},
   "source": [
    "## Conditional operators \n",
    "### < > <= >= == != and or not"
   ]
  },
  {
   "cell_type": "code",
   "execution_count": 39,
   "metadata": {},
   "outputs": [
    {
     "name": "stdout",
     "output_type": "stream",
     "text": [
      "hello\n",
      "hello\n",
      "hello thats not magic\n"
     ]
    }
   ],
   "source": [
    "if 5 >= 5:\n",
    "    print(\"hello\")\n",
    "if 5 <= 5:\n",
    "    print(\"hello\")\n",
    "if 5 == 6:\n",
    "    print(\"hello thats magic\")\n",
    "if 5 != 6:\n",
    "    print(\"hello thats not magic\")"
   ]
  },
  {
   "cell_type": "markdown",
   "metadata": {},
   "source": [
    "## Loops"
   ]
  },
  {
   "cell_type": "code",
   "execution_count": 10,
   "metadata": {},
   "outputs": [
    {
     "name": "stdout",
     "output_type": "stream",
     "text": [
      "0\n",
      "1\n",
      "2\n",
      "3\n",
      "4\n",
      "5\n",
      "6\n",
      "7\n",
      "8\n",
      "9\n"
     ]
    }
   ],
   "source": [
    "for x in range(10):\n",
    "    print(x)"
   ]
  },
  {
   "cell_type": "code",
   "execution_count": 28,
   "metadata": {},
   "outputs": [
    {
     "name": "stdout",
     "output_type": "stream",
     "text": [
      "V\n",
      "a\n",
      "l\n",
      "d\n",
      "i\n",
      "s\n"
     ]
    }
   ],
   "source": [
    "for c in \"Valdis\":\n",
    "    print(c)"
   ]
  },
  {
   "cell_type": "code",
   "execution_count": 11,
   "metadata": {},
   "outputs": [],
   "source": [
    "def printnum(num):\n",
    "    if num > 10:\n",
    "        print(f\"This number {num} is too unwieldy for me to print\")\n",
    "    else:\n",
    "        print(f\"This {num} is a nice number\")"
   ]
  },
  {
   "cell_type": "code",
   "execution_count": 12,
   "metadata": {},
   "outputs": [
    {
     "name": "stdout",
     "output_type": "stream",
     "text": [
      "This 3 is a nice number\n"
     ]
    }
   ],
   "source": [
    "printnum(3)"
   ]
  },
  {
   "cell_type": "code",
   "execution_count": 16,
   "metadata": {},
   "outputs": [
    {
     "name": "stdout",
     "output_type": "stream",
     "text": [
      "3 is odd\n",
      "4 is even\n"
     ]
    }
   ],
   "source": [
    "def isEven(num):\n",
    "    if num%2 == 0:\n",
    "        print(f\"{num} is even\")\n",
    "    else:\n",
    "        print(f\"{num} is odd\")\n",
    "\n",
    "isEven(3)\n",
    "isEven(4)"
   ]
  },
  {
   "cell_type": "code",
   "execution_count": 34,
   "metadata": {},
   "outputs": [],
   "source": [
    "## Splitting a line of text into words\n",
    "mytext = \"A quick brown fox jumped over a sleeping dog\"\n",
    "words = mytext.split()\n"
   ]
  },
  {
   "cell_type": "code",
   "execution_count": 35,
   "metadata": {},
   "outputs": [
    {
     "name": "stdout",
     "output_type": "stream",
     "text": [
      "['A', 'quick', 'brown', 'fox', 'jumped', 'over', 'a', 'sleeping', 'dog']\n"
     ]
    }
   ],
   "source": [
    "print(words)"
   ]
  },
  {
   "cell_type": "code",
   "execution_count": 38,
   "metadata": {},
   "outputs": [
    {
     "name": "stdout",
     "output_type": "stream",
     "text": [
      "A True True\n",
      "q False False\n",
      "b False False\n",
      "f False False\n",
      "j False False\n",
      "o False False\n",
      "a False False\n",
      "s False False\n",
      "d False False\n"
     ]
    }
   ],
   "source": [
    "## Print first letter of each word\n",
    "for w in words:\n",
    "    print(w[0], w[0].isupper(), w.istitle()) ## istitle() checks every word in a string so not good for unsplit strings"
   ]
  },
  {
   "cell_type": "code",
   "execution_count": null,
   "metadata": {},
   "outputs": [],
   "source": [
    "# Homework clean up the following text file by printing only capitalized words\n",
    "# if unsure how to do it in python just write a # comment on what  you would do\n"
   ]
  },
  {
   "cell_type": "code",
   "execution_count": 32,
   "metadata": {},
   "outputs": [],
   "source": [
    "def processLine(line):\n",
    "    if(len(line)>1):\n",
    "        print(line)"
   ]
  },
  {
   "cell_type": "code",
   "execution_count": 33,
   "metadata": {},
   "outputs": [
    {
     "name": "stdout",
     "output_type": "stream",
     "text": [
      "Chapter 1\n",
      "\n",
      "Mr. Sherlock Holmes\n",
      "\n",
      "Mr. Sherlock Holmes, who was usually very late in the mornings,\n",
      "\n",
      "save upon those not infrequent occasions when he was up all\n",
      "\n",
      "night, was seated at the breakfast table. I stood upon the\n",
      "\n",
      "hearth-rug and picked up the stick which our visitor had left\n",
      "\n",
      "behind him the night before. It was a fine, thick piece of wood,\n",
      "\n",
      "bulbous-headed, of the sort which is known as a \"Penang lawyer.\"\n",
      "\n",
      "Just under the head was a broad silver band nearly an inch\n",
      "\n",
      "across. \"To James Mortimer, M.R.C.S., from his friends of the\n",
      "\n",
      "C.C.H.,\" was engraved upon it, with the date \"1884.\" It was just\n",
      "\n",
      "such a stick as the old-fashioned family practitioner used to\n",
      "\n",
      "carry--dignified, solid, and reassuring.\n",
      "\n",
      "\"Well, Watson, what do you make of it?\"\n",
      "\n",
      "Holmes was sitting with his back to me, and I had given him no\n",
      "\n",
      "sign of my occupation.\n",
      "\n",
      "\"How did you know what I was doing? I believe you have eyes in\n",
      "\n",
      "the back of your head.\"\n",
      "\n",
      "\"I have, at least, a well-polished, silver-plated coffee-pot in\n",
      "\n",
      "front of me,\" said he. \"But, tell me, Watson, what do you make of\n",
      "\n",
      "our visitor's stick? Since we have been so unfortunate as to miss\n",
      "\n",
      "him and have no notion of his errand, this accidental souvenir\n",
      "\n",
      "becomes of importance. Let me hear you reconstruct the man by an\n",
      "\n",
      "examination of it.\"\n",
      "\n",
      "\"I think,\" said I, following as far as I could the methods of my\n",
      "\n",
      "companion, \"that Dr. Mortimer is a successful, elderly medical\n",
      "\n",
      "man, well-esteemed since those who know him give him this mark of\n",
      "\n",
      "their appreciation.\"\n",
      "\n",
      "\"Good!\" said Holmes. \"Excellent!\"\n",
      "\n",
      "\"I think also that the probability is in favour of his being a\n",
      "\n",
      "country practitioner who does a great deal of his visiting on\n",
      "\n",
      "foot.\"\n",
      "\n",
      "\"Why so?\"\n",
      "\n",
      "\"Because this stick, though originally a very handsome one has\n",
      "\n",
      "been so knocked about that I can hardly imagine a town\n",
      "\n",
      "practitioner carrying it. The thick-iron ferrule is worn down, so\n",
      "\n",
      "it is evident that he has done a great amount of walking with\n",
      "\n",
      "it.\"\n",
      "\n",
      "\"Perfectly sound!\" said Holmes.\n",
      "\n",
      "\"And then again, there is the 'friends of the C.C.H.' I should\n",
      "\n",
      "guess that to be the Something Hunt, the local hunt to whose\n",
      "\n",
      "members he has possibly given some surgical assistance, and which\n",
      "\n",
      "has made him a small presentation in return.\"\n",
      "\n",
      "\"Really, Watson, you excel yourself,\" said Holmes, pushing back\n",
      "\n",
      "his chair and lighting a cigarette. \"I am bound to say that in\n",
      "\n",
      "all the accounts which you have been so good as to give of my own\n",
      "\n",
      "small achievements you have habitually underrated your own\n",
      "\n",
      "abilities. It may be that you are not yourself luminous, but you\n",
      "\n",
      "are a conductor of light. Some people without possessing genius\n",
      "\n",
      "have a remarkable power of stimulating it. I confess, my dear\n",
      "\n",
      "fellow, that I am very much in your debt.\"\n",
      "\n",
      "He had never said as much before, and I must admit that his words\n",
      "\n",
      "gave me keen pleasure, for I had often been piqued by his\n",
      "\n",
      "indifference to my admiration and to the attempts which I had\n",
      "\n",
      "made to give publicity to his methods. I was proud, too, to think\n",
      "\n",
      "that I had so far mastered his system as to apply it in a way\n",
      "\n",
      "which earned his approval. He now took the stick from my hands\n",
      "\n",
      "and examined it for a few minutes with his naked eyes. Then with\n",
      "\n",
      "an expression of interest he laid down his cigarette, and\n",
      "\n",
      "carrying the cane to the window, he looked over it again with a\n",
      "\n",
      "convex lens.\n",
      "\n",
      "\"Interesting, though elementary,\" said he as he returned to his\n",
      "\n",
      "favourite corner of the settee. \"There are certainly one or two\n",
      "\n",
      "indications upon the stick. It gives us the basis for several\n",
      "\n",
      "deductions.\"\n",
      "\n",
      "\"Has anything escaped me?\" I asked with some self-importance. \"I\n",
      "\n",
      "trust that there is nothing of consequence which I have\n",
      "\n",
      "overlooked?\"\n",
      "\n",
      "\"I am afraid, my dear Watson, that most of your conclusions were\n",
      "\n",
      "erroneous. When I said that you stimulated me I meant, to be\n",
      "\n",
      "frank, that in noting your fallacies I was occasionally guided\n",
      "\n",
      "towards the truth. Not that you are entirely wrong in this\n",
      "\n",
      "instance. The man is certainly a country practitioner. And he\n",
      "\n",
      "walks a good deal.\"\n",
      "\n",
      "\"Then I was right.\"\n",
      "\n",
      "\"To that extent.\"\n",
      "\n",
      "\"But that was all.\"\n",
      "\n",
      "\"No, no, my dear Watson, not all--by no means all. I would\n",
      "\n",
      "suggest, for example, that a presentation to a doctor is more\n",
      "\n",
      "likely to come from a hospital than from a hunt, and that when\n",
      "\n",
      "the initials 'C.C.' are placed before that hospital the words\n",
      "\n",
      "'Charing Cross' very naturally suggest themselves.\"\n",
      "\n",
      "\"You may be right.\"\n",
      "\n",
      "\"The probability lies in that direction. And if we take this as a\n",
      "\n",
      "working hypothesis we have a fresh basis from which to start our\n",
      "\n",
      "construction of this unknown visitor.\"\n",
      "\n",
      "\"Well, then, supposing that 'C.C.H.' does stand for 'Charing\n",
      "\n",
      "Cross Hospital,' what further inferences may we draw?\"\n",
      "\n",
      "\"Do none suggest themselves? You know my methods. Apply them!\"\n",
      "\n",
      "\"I can only think of the obvious conclusion that the man has\n",
      "\n",
      "practised in town before going to the country.\"\n",
      "\n",
      "\"I think that we might venture a little farther than this. Look\n",
      "\n",
      "at it in this light. On what occasion would it be most probable\n",
      "\n",
      "that such a presentation would be made? When would his friends\n",
      "\n",
      "unite to give him a pledge of their good will? Obviously at the\n",
      "\n",
      "moment when Dr. Mortimer withdrew from the service of the\n",
      "\n",
      "hospital in order to start in practice for himself. We know there\n",
      "\n",
      "has been a presentation. We believe there has been a change from\n",
      "\n",
      "a town hospital to a country practice. Is it, then, stretching\n",
      "\n",
      "our inference too far to say that the presentation was on the\n",
      "\n",
      "occasion of the change?\"\n",
      "\n",
      "\"It certainly seems probable.\"\n",
      "\n",
      "\"Now, you will observe that he could not have been on the staff\n",
      "\n",
      "of the hospital, since only a man well-established in a London\n",
      "\n",
      "practice could hold such a position, and such a one would not\n",
      "\n",
      "drift into the country. What was he, then? If he was in the\n",
      "\n",
      "hospital and yet not on the staff he could only have been a\n",
      "\n",
      "house-surgeon or a house-physician--little more than a senior\n",
      "\n",
      "student. And he left five years ago--the date is on the stick. So\n",
      "\n",
      "your grave, middle-aged family practitioner vanishes into thin\n",
      "\n",
      "air, my dear Watson, and there emerges a young fellow under\n",
      "\n",
      "thirty, amiable, unambitious, absent-minded, and the possessor of\n",
      "\n",
      "a favourite dog, which I should describe roughly as being larger\n",
      "\n",
      "than a terrier and smaller than a mastiff.\"\n",
      "\n",
      "I laughed incredulously as Sherlock Holmes leaned back in his\n",
      "\n",
      "settee and blew little wavering rings of smoke up to the ceiling.\n",
      "\n",
      "\"As to the latter part, I have no means of checking you,\" said I,\n",
      "\n",
      "\"but at least it is not difficult to find out a few particulars\n",
      "\n",
      "about the man's age and professional career.\" From my small\n",
      "\n",
      "medical shelf I took down the Medical Directory and turned up the\n",
      "\n",
      "name. There were several Mortimers, but only one who could be our\n",
      "\n",
      "visitor. I read his record aloud.\n",
      "\n",
      "\"Mortimer, James, M.R.C.S., 1882, Grimpen, Dartmoor,\n",
      "\n",
      "Devon. House-surgeon, from 1882 to 1884, at Charing Cross\n",
      "\n",
      "Hospital. Winner of the Jackson prize for Comparative Pathology,\n",
      "\n",
      "with essay entitled 'Is Disease a Reversion?' Corresponding\n",
      "\n",
      "member of the Swedish Pathological Society. Author of 'Some\n",
      "\n",
      "Freaks of Atavism' (Lancet 1882). 'Do We Progress?' (Journal of\n",
      "\n",
      "Psychology, March, 1883). Medical Officer for the parishes of\n",
      "\n",
      "Grimpen, Thorsley, and High Barrow.\"\n",
      "\n",
      "\"No mention of that local hunt, Watson,\" said Holmes with a\n",
      "\n",
      "mischievous smile, \"but a country doctor, as you very astutely\n",
      "\n",
      "observed. I think that I am fairly justified in my inferences. As\n",
      "\n",
      "to the adjectives, I said, if I remember right, amiable,\n",
      "\n",
      "unambitious, and absent-minded. It is my experience that it is\n",
      "\n",
      "only an amiable man in this world who receives testimonials, only\n",
      "\n",
      "an unambitious one who abandons a London career for the country,\n",
      "\n",
      "and only an absent-minded one who leaves his stick and not his\n",
      "\n",
      "visiting-card after waiting an hour in your room.\"\n",
      "\n",
      "\"And the dog?\"\n",
      "\n",
      "\"Has been in the habit of carrying this stick behind his master.\n",
      "\n",
      "Being a heavy stick the dog has held it tightly by the middle,\n",
      "\n",
      "and the marks of his teeth are very plainly visible. The dog's\n",
      "\n",
      "jaw, as shown in the space between these marks, is too broad in\n",
      "\n",
      "my opinion for a terrier and not broad enough for a mastiff. It\n",
      "\n",
      "may have been--yes, by Jove, it is a curly-haired spaniel.\"\n",
      "\n",
      "He had risen and paced the room as he spoke. Now he halted in the\n",
      "\n",
      "recess of the window. There was such a ring of conviction in his\n",
      "\n",
      "voice that I glanced up in surprise.\n",
      "\n",
      "\"My dear fellow, how can you possibly be so sure of that?\"\n",
      "\n",
      "\"For the very simple reason that I see the dog himself on our\n",
      "\n",
      "very door-step, and there is the ring of its owner. Don't move, I\n",
      "\n",
      "beg you, Watson. He is a professional brother of yours, and your\n",
      "\n",
      "presence may be of assistance to me. Now is the dramatic moment\n",
      "\n",
      "of fate, Watson, when you hear a step upon the stair which is\n",
      "\n",
      "walking into your life, and you know not whether for good or ill.\n",
      "\n",
      "What does Dr. James Mortimer, the man of science, ask of Sherlock\n",
      "\n",
      "Holmes, the specialist in crime? Come in!\"\n",
      "\n",
      "The appearance of our visitor was a surprise to me, since I had\n",
      "\n",
      "expected a typical country practitioner. He was a very tall, thin\n",
      "\n",
      "man, with a long nose like a beak, which jutted out between two\n",
      "\n",
      "keen, gray eyes, set closely together and sparkling brightly from\n",
      "\n",
      "behind a pair of gold-rimmed glasses. He was clad in a\n",
      "\n",
      "professional but rather slovenly fashion, for his frock-coat was\n",
      "\n",
      "dingy and his trousers frayed. Though young, his long back was\n",
      "\n",
      "already bowed, and he walked with a forward thrust of his head\n",
      "\n",
      "and a general air of peering benevolence. As he entered his eyes\n",
      "\n",
      "fell upon the stick in Holmes's hand, and he ran towards it with\n",
      "\n",
      "an exclamation of joy. \"I am so very glad,\" said he. \"I was not\n",
      "\n",
      "sure whether I had left it here or in the Shipping Office. I\n",
      "\n",
      "would not lose that stick for the world.\"\n",
      "\n",
      "\"A presentation, I see,\" said Holmes.\n",
      "\n",
      "\"Yes, sir.\"\n",
      "\n",
      "\"From Charing Cross Hospital?\"\n",
      "\n",
      "\"From one or two friends there on the occasion of my marriage.\"\n",
      "\n",
      "\"Dear, dear, that's bad!\" said Holmes, shaking his head.\n",
      "\n",
      "Dr. Mortimer blinked through his glasses in mild astonishment.\n",
      "\n",
      "\"Why was it bad?\"\n",
      "\n",
      "\"Only that you have disarranged our little deductions. Your\n",
      "\n",
      "marriage, you say?\"\n",
      "\n",
      "\"Yes, sir. I married, and so left the hospital, and with it all\n",
      "\n",
      "hopes of a consulting practice. It was necessary to make a home\n",
      "\n",
      "of my own.\"\n",
      "\n",
      "\"Come, come, we are not so far wrong, after all,\" said Holmes.\n",
      "\n",
      "\"And now, Dr. James Mortimer ------\"\n",
      "\n",
      "\"Mister, sir, Mister--a humble M.R.C.S.\"\n",
      "\n",
      "\"And a man of precise mind, evidently.\"\n",
      "\n",
      "\"A dabbler in science, Mr. Holmes, a picker up of shells on the\n",
      "\n",
      "shores of the great unknown ocean. I presume that it is Mr.\n",
      "\n",
      "Sherlock Holmes whom I am addressing and not ------\"\n",
      "\n",
      "\"No, this is my friend Dr. Watson.\"\n",
      "\n",
      "\"Glad to meet you, sir. I have heard your name mentioned in\n",
      "\n",
      "connection with that of your friend. You interest me very much,\n",
      "\n",
      "Mr. Holmes. I had hardly expected so dolichocephalic a skull or\n",
      "\n",
      "such well-marked supra-orbital development. Would you have any\n",
      "\n",
      "objection to my running my finger along your parietal fissure? A\n",
      "\n",
      "cast of your skull, sir, until the original is available, would\n",
      "\n",
      "be an ornament to any anthropological museum. It is not my\n",
      "\n",
      "intention to be fulsome, but I confess that I covet your skull.\"\n",
      "\n",
      "Sherlock Holmes waved our strange visitor into a chair. \"You are\n",
      "\n",
      "an enthusiast in your line of thought, I perceive, sir, as I am\n",
      "\n",
      "in mine,\" said he. \"I observe from your forefinger that you make\n",
      "\n",
      "your own cigarettes. Have no hesitation in lighting one.\"\n",
      "\n",
      "The man drew out paper and tobacco and twirled the one up in the\n",
      "\n",
      "other with surprising dexterity. He had long, quivering fingers\n",
      "\n",
      "as agile and restless as the antennae of an insect.\n",
      "\n",
      "Holmes was silent, but his little darting glances showed me the\n",
      "\n",
      "interest which he took in our curious companion.\n",
      "\n",
      "\"I presume, sir,\" said he at last, \"that it was not merely for\n",
      "\n",
      "the purpose of examining my skull that you have done me the\n",
      "\n",
      "honour to call here last night and again to-day?\"\n",
      "\n",
      "\"No, sir, no; though I am happy to have had the opportunity of\n",
      "\n",
      "doing that as well. I came to you, Mr. Holmes, because I\n",
      "\n",
      "recognized that I am myself an unpractical man and because I am\n",
      "\n",
      "suddenly confronted with a most serious and extraordinary\n",
      "\n",
      "problem. Recognizing, as I do, that you are the second highest\n",
      "\n",
      "expert in Europe ------\"\n",
      "\n",
      "\"Indeed, sir! May I inquire who has the honour to be the first?\"\n",
      "\n",
      "asked Holmes with some asperity.\n",
      "\n",
      "\"To the man of precisely scientific mind the work of Monsieur\n",
      "\n",
      "Bertillon must always appeal strongly.\"\n",
      "\n",
      "\"Then had you not better consult him?\"\n",
      "\n",
      "\"I said, sir, to the precisely scientific mind. But as a\n",
      "\n",
      "practical man of affairs it is acknowledged that you stand alone.\n",
      "\n",
      "I trust, sir, that I have not inadvertently ------\"\n",
      "\n",
      "\"Just a little,\" said Holmes. \"I think, Dr. Mortimer, you would\n",
      "\n",
      "do wisely if without more ado you would kindly tell me plainly\n",
      "\n",
      "what the exact nature of the problem is in which you demand my\n",
      "\n",
      "assistance.\"\n",
      "\n"
     ]
    }
   ],
   "source": [
    "with open(\"CH1_BASK.txt\") as f:\n",
    "    for line in f:\n",
    "        processLine(line)"
   ]
  }
 ],
 "metadata": {
  "kernelspec": {
   "display_name": "Python 3",
   "language": "python",
   "name": "python3"
  },
  "language_info": {
   "codemirror_mode": {
    "name": "ipython",
    "version": 3
   },
   "file_extension": ".py",
   "mimetype": "text/x-python",
   "name": "python",
   "nbconvert_exporter": "python",
   "pygments_lexer": "ipython3",
   "version": "3.6.4"
  }
 },
 "nbformat": 4,
 "nbformat_minor": 2
}
